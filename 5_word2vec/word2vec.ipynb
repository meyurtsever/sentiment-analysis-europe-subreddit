{
  "nbformat": 4,
  "nbformat_minor": 0,
  "metadata": {
    "accelerator": "GPU",
    "colab": {
      "name": "d1_word2vec.ipynb",
      "provenance": [],
      "collapsed_sections": []
    },
    "kernelspec": {
      "display_name": "Python 3",
      "language": "python",
      "name": "python3"
    },
    "language_info": {
      "codemirror_mode": {
        "name": "ipython",
        "version": 3
      },
      "file_extension": ".py",
      "mimetype": "text/x-python",
      "name": "python",
      "nbconvert_exporter": "python",
      "pygments_lexer": "ipython3",
      "version": "3.8.5"
    }
  },
  "cells": [
    {
      "cell_type": "code",
      "metadata": {
        "id": "AmK8Xr0DZT8W"
      },
      "source": [
        "import pandas as pd\n",
        "import numpy as np\n",
        "import tensorflow as tf\n",
        "\n",
        "from sklearn.preprocessing import LabelEncoder"
      ],
      "execution_count": null,
      "outputs": []
    },
    {
      "cell_type": "code",
      "metadata": {
        "colab": {
          "base_uri": "https://localhost:8080/"
        },
        "id": "9Y0XnUrQMPXK",
        "outputId": "54f3e0e5-58f2-40de-e6c6-6aa831b15634"
      },
      "source": [
        "from google.colab import drive\n",
        "drive.mount('/content/drive')"
      ],
      "execution_count": null,
      "outputs": [
        {
          "output_type": "stream",
          "name": "stdout",
          "text": [
            "Drive already mounted at /content/drive; to attempt to forcibly remount, call drive.mount(\"/content/drive\", force_remount=True).\n"
          ]
        }
      ]
    },
    {
      "cell_type": "code",
      "metadata": {
        "id": "1lu3zxcXMTbM"
      },
      "source": [
        "#train_data = pd.read_csv('/content/drive/MyDrive/metin_madenciligi_proje/preprocessed_european_comments_train.csv')\n",
        "#train_data_new = train_data[train_data['body'].notnull()]\n",
        "\n",
        "#test_data = pd.read_csv(\"/content/drive/MyDrive/metin_madenciligi_proje/preprocessed_european_comments_test.csv\")\n",
        "#test_data_new = test_data[test_data['body'].notnull()]\n",
        "\n",
        "data = pd.read_csv(\"/content/drive/MyDrive/YL/metin_madenciligi_proje/preprocessed_european_comments.csv\")"
      ],
      "execution_count": null,
      "outputs": []
    },
    {
      "cell_type": "code",
      "metadata": {
        "colab": {
          "base_uri": "https://localhost:8080/",
          "height": 206
        },
        "id": "ZFbV0_BUYeW9",
        "outputId": "b1bab2cf-92a5-4b4a-d7af-88c34c6d58f0"
      },
      "source": [
        "data.head()"
      ],
      "execution_count": null,
      "outputs": [
        {
          "output_type": "execute_result",
          "data": {
            "text/html": [
              "<div>\n",
              "<style scoped>\n",
              "    .dataframe tbody tr th:only-of-type {\n",
              "        vertical-align: middle;\n",
              "    }\n",
              "\n",
              "    .dataframe tbody tr th {\n",
              "        vertical-align: top;\n",
              "    }\n",
              "\n",
              "    .dataframe thead th {\n",
              "        text-align: right;\n",
              "    }\n",
              "</style>\n",
              "<table border=\"1\" class=\"dataframe\">\n",
              "  <thead>\n",
              "    <tr style=\"text-align: right;\">\n",
              "      <th></th>\n",
              "      <th>Unnamed: 0</th>\n",
              "      <th>body</th>\n",
              "      <th>Subjectivity</th>\n",
              "      <th>Polarity</th>\n",
              "      <th>Analysis</th>\n",
              "    </tr>\n",
              "  </thead>\n",
              "  <tbody>\n",
              "    <tr>\n",
              "      <th>0</th>\n",
              "      <td>0</td>\n",
              "      <td>woman claims said insults, bystanders didnt. t...</td>\n",
              "      <td>0.843750</td>\n",
              "      <td>-0.322917</td>\n",
              "      <td>Negative</td>\n",
              "    </tr>\n",
              "    <tr>\n",
              "      <th>1</th>\n",
              "      <td>1</td>\n",
              "      <td>turkey doesn't know balkans.</td>\n",
              "      <td>0.000000</td>\n",
              "      <td>0.000000</td>\n",
              "      <td>Neutral</td>\n",
              "    </tr>\n",
              "    <tr>\n",
              "      <th>2</th>\n",
              "      <td>2</td>\n",
              "      <td>lot talk turkey</td>\n",
              "      <td>0.000000</td>\n",
              "      <td>0.000000</td>\n",
              "      <td>Neutral</td>\n",
              "    </tr>\n",
              "    <tr>\n",
              "      <th>3</th>\n",
              "      <td>3</td>\n",
              "      <td>don't like ruling party turkey. it's turkish p...</td>\n",
              "      <td>0.000000</td>\n",
              "      <td>0.000000</td>\n",
              "      <td>Neutral</td>\n",
              "    </tr>\n",
              "    <tr>\n",
              "      <th>4</th>\n",
              "      <td>4</td>\n",
              "      <td>create confusion absolute numbers. ~0.01 popul...</td>\n",
              "      <td>0.423384</td>\n",
              "      <td>-0.020833</td>\n",
              "      <td>Negative</td>\n",
              "    </tr>\n",
              "  </tbody>\n",
              "</table>\n",
              "</div>"
            ],
            "text/plain": [
              "   Unnamed: 0  ...  Analysis\n",
              "0           0  ...  Negative\n",
              "1           1  ...   Neutral\n",
              "2           2  ...   Neutral\n",
              "3           3  ...   Neutral\n",
              "4           4  ...  Negative\n",
              "\n",
              "[5 rows x 5 columns]"
            ]
          },
          "metadata": {},
          "execution_count": 4
        }
      ]
    },
    {
      "cell_type": "code",
      "metadata": {
        "colab": {
          "base_uri": "https://localhost:8080/"
        },
        "id": "MoCL3zAdRU9q",
        "outputId": "b44d8353-8a35-4440-a77f-1b327eab49ba"
      },
      "source": [
        "#combined_data = train_data.append(test_data, ignore_index=True)\n",
        "data.shape"
      ],
      "execution_count": null,
      "outputs": [
        {
          "output_type": "execute_result",
          "data": {
            "text/plain": [
              "(71820, 5)"
            ]
          },
          "metadata": {},
          "execution_count": 5
        }
      ]
    },
    {
      "cell_type": "code",
      "metadata": {
        "colab": {
          "base_uri": "https://localhost:8080/"
        },
        "id": "r6n9EBGMMl6V",
        "outputId": "18748766-54f4-42f4-8505-2807563dd3ba"
      },
      "source": [
        "data[\"Analysis\"].value_counts()"
      ],
      "execution_count": null,
      "outputs": [
        {
          "output_type": "execute_result",
          "data": {
            "text/plain": [
              "Positive    34026\n",
              "Negative    21331\n",
              "Neutral     16463\n",
              "Name: Analysis, dtype: int64"
            ]
          },
          "metadata": {},
          "execution_count": 6
        }
      ]
    },
    {
      "cell_type": "code",
      "metadata": {
        "id": "i_SRMWLFM-4z"
      },
      "source": [
        "tokenized_data = data['body'].apply(lambda x: str(x).split()) # tokenizing"
      ],
      "execution_count": null,
      "outputs": []
    },
    {
      "cell_type": "code",
      "metadata": {
        "colab": {
          "base_uri": "https://localhost:8080/"
        },
        "id": "2jQ0F2TJeYit",
        "outputId": "5487e093-f7ae-4f14-c2fc-8ff5caef3872"
      },
      "source": [
        "tokenized_data"
      ],
      "execution_count": null,
      "outputs": [
        {
          "output_type": "execute_result",
          "data": {
            "text/plain": [
              "0        [woman, claims, said, insults,, bystanders, di...\n",
              "1                        [turkey, doesn't, know, balkans.]\n",
              "2                                      [lot, talk, turkey]\n",
              "3        [don't, like, ruling, party, turkey., it's, tu...\n",
              "4        [create, confusion, absolute, numbers., ~0.01,...\n",
              "                               ...                        \n",
              "71815    [reiterate., better, fuck, rights, 500, people...\n",
              "71816    [term, broad., prefer, term, near, east, short...\n",
              "71817    [actually, georgians, tao-klarjeti., artvin, a...\n",
              "71818    [genocide, equivalent, person, intentionally, ...\n",
              "71819    [agree, turkey, europe,, suppose, people, euro...\n",
              "Name: body, Length: 71820, dtype: object"
            ]
          },
          "metadata": {},
          "execution_count": 8
        }
      ]
    },
    {
      "cell_type": "code",
      "metadata": {
        "id": "nni7AgqBN138"
      },
      "source": [
        "from gensim.models import Word2Vec"
      ],
      "execution_count": null,
      "outputs": []
    },
    {
      "cell_type": "code",
      "metadata": {
        "colab": {
          "base_uri": "https://localhost:8080/"
        },
        "id": "vn_6QeZ9OErE",
        "outputId": "483f065e-369b-4f25-f773-ae4ed7cfa58e"
      },
      "source": [
        "model_w2v = Word2Vec(tokenized_data, size=256,  window=5)\n",
        "model_w2v.train(tokenized_data, total_examples= len(tokenized_data), epochs=10)"
      ],
      "execution_count": null,
      "outputs": [
        {
          "output_type": "execute_result",
          "data": {
            "text/plain": [
              "(25430528, 28743220)"
            ]
          },
          "metadata": {},
          "execution_count": 10
        }
      ]
    },
    {
      "cell_type": "code",
      "metadata": {
        "colab": {
          "base_uri": "https://localhost:8080/"
        },
        "id": "MmSlClNeOM3z",
        "outputId": "bfebfdcc-7f27-45d2-b631-20e6c31d6eef"
      },
      "source": [
        "model_w2v.wv.most_similar(positive=\"ottoman\")"
      ],
      "execution_count": null,
      "outputs": [
        {
          "output_type": "execute_result",
          "data": {
            "text/plain": [
              "[('turkey/ottoman', 0.6983129978179932),\n",
              " ('austro-hungarian', 0.6777205467224121),\n",
              " ('otoman', 0.6688921451568604),\n",
              " ('byzantine', 0.6556719541549683),\n",
              " ('achaemenid', 0.620552122592926),\n",
              " ('\"ottoman', 0.6180290579795837),\n",
              " ('roman', 0.5874354839324951),\n",
              " ('byzantium', 0.5773022174835205),\n",
              " ('lebensraum', 0.535973310470581),\n",
              " ('(ottoman', 0.5358951687812805)]"
            ]
          },
          "metadata": {},
          "execution_count": 11
        }
      ]
    },
    {
      "cell_type": "code",
      "metadata": {
        "colab": {
          "base_uri": "https://localhost:8080/"
        },
        "id": "XHleTKOzyqj3",
        "outputId": "106eccae-bfe2-48b2-cae2-02e1fe8db65e"
      },
      "source": [
        "# EEZ: Exclusive Economic Zone (Münhasır Ekonomik Bölge)\n",
        "model_w2v.wv.most_similar(positive=\"eez\")"
      ],
      "execution_count": null,
      "outputs": [
        {
          "output_type": "execute_result",
          "data": {
            "text/plain": [
              "[('eez.', 0.7852843403816223),\n",
              " ('eez,', 0.7524026036262512),\n",
              " ('kastellorizo', 0.7447876930236816),\n",
              " ('12nm', 0.6910964250564575),\n",
              " ('kastelorizo', 0.6875766515731812),\n",
              " ('eez?', 0.6668062806129456),\n",
              " ('rhodes', 0.6421265602111816),\n",
              " ('aegean.', 0.6225293874740601),\n",
              " ('meis', 0.6224466562271118),\n",
              " ('eezs.', 0.6219027042388916)]"
            ]
          },
          "metadata": {},
          "execution_count": 12
        }
      ]
    },
    {
      "cell_type": "code",
      "metadata": {
        "id": "XB2SI5vlOanz"
      },
      "source": [
        "def word_vector(tokens, size):\n",
        "    vec = np.zeros(size).reshape((1, size))\n",
        "    count = 0.\n",
        "    for word in tokens:\n",
        "        try:\n",
        "            vec += model_w2v[word].reshape((1, size))\n",
        "            count += 1.\n",
        "        except KeyError: # handling the case where the token is not in vocabulary\n",
        "                         \n",
        "            continue\n",
        "    if count != 0:\n",
        "        vec /= count\n",
        "    return vec"
      ],
      "execution_count": null,
      "outputs": []
    },
    {
      "cell_type": "code",
      "metadata": {
        "colab": {
          "base_uri": "https://localhost:8080/"
        },
        "id": "nFmdv1tPOhnj",
        "outputId": "a06ae833-5fb7-4c3c-a3a4-2c0725b074e7"
      },
      "source": [
        "wordvec_arrays = np.zeros((len(tokenized_data), 256))\n",
        "\n",
        "for i in range(len(data)):\n",
        "    wordvec_arrays[i,:] = word_vector(tokenized_data[i], 256)\n",
        "\n",
        "wordvec_df = pd.DataFrame(wordvec_arrays)\n",
        "wordvec_df.shape"
      ],
      "execution_count": null,
      "outputs": [
        {
          "output_type": "stream",
          "name": "stderr",
          "text": [
            "/usr/local/lib/python3.7/dist-packages/ipykernel_launcher.py:6: DeprecationWarning: Call to deprecated `__getitem__` (Method will be removed in 4.0.0, use self.wv.__getitem__() instead).\n",
            "  \n"
          ]
        },
        {
          "output_type": "execute_result",
          "data": {
            "text/plain": [
              "(71820, 256)"
            ]
          },
          "metadata": {},
          "execution_count": 14
        }
      ]
    },
    {
      "cell_type": "code",
      "metadata": {
        "id": "617aDq19OyN0"
      },
      "source": [
        "from sklearn.model_selection import train_test_split"
      ],
      "execution_count": null,
      "outputs": []
    },
    {
      "cell_type": "code",
      "metadata": {
        "id": "qYDOr6pm0U1l"
      },
      "source": [
        "#train_w2v = wordvec_df.iloc[:56819,:]\n",
        "#test_w2v = wordvec_df.iloc[56819:,:]\n",
        "\n",
        "X_train, x_test, y_train, y_valid = train_test_split(wordvec_df, data['Analysis'],  \n",
        "                                                          random_state=42, \n",
        "                                                          test_size=0.2)\n",
        "\n",
        "#print(train_w2v.shape, data['Analysis'].shape)\n",
        "\n",
        "#xtrain_w2v = train_w2v.iloc[y_train.index,:]\n",
        "#xvalid_w2v = train_w2v.iloc[y_valid.index,:]"
      ],
      "execution_count": null,
      "outputs": []
    },
    {
      "cell_type": "code",
      "metadata": {
        "colab": {
          "base_uri": "https://localhost:8080/"
        },
        "id": "CrP1GGGajZuQ",
        "outputId": "c3eeb9d0-241e-49c6-c064-7316e8a20cf5"
      },
      "source": [
        "X_train.shape"
      ],
      "execution_count": null,
      "outputs": [
        {
          "output_type": "execute_result",
          "data": {
            "text/plain": [
              "(57456, 256)"
            ]
          },
          "metadata": {},
          "execution_count": 17
        }
      ]
    },
    {
      "cell_type": "code",
      "metadata": {
        "colab": {
          "base_uri": "https://localhost:8080/"
        },
        "id": "VW2ED163jdLf",
        "outputId": "81dd5ff7-f765-4ed4-d213-57506ae75610"
      },
      "source": [
        "x_test.shape"
      ],
      "execution_count": null,
      "outputs": [
        {
          "output_type": "execute_result",
          "data": {
            "text/plain": [
              "(14364, 256)"
            ]
          },
          "metadata": {},
          "execution_count": 18
        }
      ]
    },
    {
      "cell_type": "code",
      "metadata": {
        "colab": {
          "base_uri": "https://localhost:8080/"
        },
        "id": "89rzgFxHjfTm",
        "outputId": "c2e96d87-3a5a-4d60-d939-04d562a02040"
      },
      "source": [
        "y_train.shape"
      ],
      "execution_count": null,
      "outputs": [
        {
          "output_type": "execute_result",
          "data": {
            "text/plain": [
              "(57456,)"
            ]
          },
          "metadata": {},
          "execution_count": 19
        }
      ]
    },
    {
      "cell_type": "code",
      "metadata": {
        "colab": {
          "base_uri": "https://localhost:8080/"
        },
        "id": "DboqoTaPkJTJ",
        "outputId": "ae290113-8455-4ecd-cab7-ff79e4461f8c"
      },
      "source": [
        "y_train"
      ],
      "execution_count": null,
      "outputs": [
        {
          "output_type": "execute_result",
          "data": {
            "text/plain": [
              "48535    Positive\n",
              "67023     Neutral\n",
              "26792     Neutral\n",
              "52        Neutral\n",
              "68065     Neutral\n",
              "           ...   \n",
              "37194    Negative\n",
              "6265     Positive\n",
              "54886    Negative\n",
              "860      Negative\n",
              "15795    Positive\n",
              "Name: Analysis, Length: 57456, dtype: object"
            ]
          },
          "metadata": {},
          "execution_count": 20
        }
      ]
    },
    {
      "cell_type": "code",
      "metadata": {
        "colab": {
          "base_uri": "https://localhost:8080/"
        },
        "id": "Z1sR5Byljhfr",
        "outputId": "a9d8eddf-3f86-4d66-d2c9-b643049baa3f"
      },
      "source": [
        "y_valid.shape"
      ],
      "execution_count": null,
      "outputs": [
        {
          "output_type": "execute_result",
          "data": {
            "text/plain": [
              "(14364,)"
            ]
          },
          "metadata": {},
          "execution_count": 21
        }
      ]
    },
    {
      "cell_type": "code",
      "metadata": {
        "colab": {
          "base_uri": "https://localhost:8080/"
        },
        "id": "NoaP7lBuZOUP",
        "outputId": "c2dac9cb-c578-4f8a-8bbd-0ced155e1ca7"
      },
      "source": [
        "# label encoding: 'positive', 'negative' and 'neutral' is converted to number format.\n",
        "le = LabelEncoder()\n",
        "\n",
        "train_labels = le.fit_transform(y_train)\n",
        "train_labels = np.asarray(tf.keras.utils.to_categorical(train_labels))\n",
        "\n",
        "test_labels = le.transform(y_valid)\n",
        "test_labels = np.asarray(tf.keras.utils.to_categorical(test_labels))\n",
        "list(le.classes_)"
      ],
      "execution_count": null,
      "outputs": [
        {
          "output_type": "execute_result",
          "data": {
            "text/plain": [
              "['Negative', 'Neutral', 'Positive']"
            ]
          },
          "metadata": {},
          "execution_count": 22
        }
      ]
    },
    {
      "cell_type": "code",
      "metadata": {
        "colab": {
          "base_uri": "https://localhost:8080/"
        },
        "id": "GYteYKQPT3iy",
        "outputId": "ad614990-37e1-4550-fca6-1d962a8026ed"
      },
      "source": [
        "train_labels"
      ],
      "execution_count": null,
      "outputs": [
        {
          "output_type": "execute_result",
          "data": {
            "text/plain": [
              "array([[0., 0., 1.],\n",
              "       [0., 1., 0.],\n",
              "       [0., 1., 0.],\n",
              "       ...,\n",
              "       [1., 0., 0.],\n",
              "       [1., 0., 0.],\n",
              "       [0., 0., 1.]], dtype=float32)"
            ]
          },
          "metadata": {},
          "execution_count": 23
        }
      ]
    },
    {
      "cell_type": "code",
      "metadata": {
        "colab": {
          "base_uri": "https://localhost:8080/"
        },
        "id": "jmb9H7hoT7Yr",
        "outputId": "afe6c2f5-49b4-4470-a142-e88a76ad45e0"
      },
      "source": [
        "test_labels.shape"
      ],
      "execution_count": null,
      "outputs": [
        {
          "output_type": "execute_result",
          "data": {
            "text/plain": [
              "(14364, 3)"
            ]
          },
          "metadata": {},
          "execution_count": 24
        }
      ]
    },
    {
      "cell_type": "code",
      "metadata": {
        "colab": {
          "base_uri": "https://localhost:8080/"
        },
        "id": "6EbpasJqSlFM",
        "outputId": "5a48e582-ef07-428a-e293-e60e8de44a78"
      },
      "source": [
        "import tensorflow as tf\n",
        "import keras.layers as layers\n",
        "from keras.models import Model\n",
        "from keras import models\n",
        "import keras.losses\n",
        "\n",
        "from keras.callbacks import EarlyStopping, ModelCheckpoint\n",
        "from keras.layers import Input,Embedding,Dense,Flatten\n",
        "from tensorflow.keras.metrics import AUC\n",
        "from sklearn.metrics import accuracy_score, f1_score, precision_score, recall_score, classification_report, confusion_matrix, matthews_corrcoef, roc_curve, auc, roc_auc_score\n",
        "\n",
        "epochs = 50\n",
        "batch_size = 256\n",
        "optimizer = \"adam\"\n",
        "metrics = [\"categorical_crossentropy\", AUC(name='auc')]\n",
        "\n",
        "# Build neural network\n",
        "model = models.Sequential()\n",
        "model.add(Dense(32, activation='relu'))\n",
        "model.add(Dense(32, activation='relu'))\n",
        "model.add(Dense(64, activation='relu'))\n",
        "model.add(Dense(3, activation='softmax'))\n",
        "\n",
        "model.compile(loss='categorical_crossentropy', optimizer=optimizer, metrics= metrics)\n",
        "\n",
        "history = model.fit(X_train, train_labels, epochs=epochs, batch_size=batch_size, validation_data=(x_test, test_labels))"
      ],
      "execution_count": null,
      "outputs": [
        {
          "output_type": "stream",
          "name": "stdout",
          "text": [
            "Epoch 1/50\n",
            "225/225 [==============================] - 3s 8ms/step - loss: 0.8795 - categorical_crossentropy: 0.8795 - auc: 0.7685 - val_loss: 0.8011 - val_categorical_crossentropy: 0.8011 - val_auc: 0.8139\n",
            "Epoch 2/50\n",
            "225/225 [==============================] - 1s 5ms/step - loss: 0.7828 - categorical_crossentropy: 0.7828 - auc: 0.8226 - val_loss: 0.7736 - val_categorical_crossentropy: 0.7736 - val_auc: 0.8279\n",
            "Epoch 3/50\n",
            "225/225 [==============================] - 1s 5ms/step - loss: 0.7584 - categorical_crossentropy: 0.7584 - auc: 0.8340 - val_loss: 0.7556 - val_categorical_crossentropy: 0.7556 - val_auc: 0.8363\n",
            "Epoch 4/50\n",
            "225/225 [==============================] - 1s 5ms/step - loss: 0.7447 - categorical_crossentropy: 0.7447 - auc: 0.8406 - val_loss: 0.7497 - val_categorical_crossentropy: 0.7497 - val_auc: 0.8389\n",
            "Epoch 5/50\n",
            "225/225 [==============================] - 1s 5ms/step - loss: 0.7345 - categorical_crossentropy: 0.7345 - auc: 0.8447 - val_loss: 0.7485 - val_categorical_crossentropy: 0.7485 - val_auc: 0.8397\n",
            "Epoch 6/50\n",
            "225/225 [==============================] - 1s 5ms/step - loss: 0.7262 - categorical_crossentropy: 0.7262 - auc: 0.8487 - val_loss: 0.7420 - val_categorical_crossentropy: 0.7420 - val_auc: 0.8426\n",
            "Epoch 7/50\n",
            "225/225 [==============================] - 1s 5ms/step - loss: 0.7191 - categorical_crossentropy: 0.7191 - auc: 0.8516 - val_loss: 0.7567 - val_categorical_crossentropy: 0.7567 - val_auc: 0.8385\n",
            "Epoch 8/50\n",
            "225/225 [==============================] - 1s 5ms/step - loss: 0.7137 - categorical_crossentropy: 0.7137 - auc: 0.8541 - val_loss: 0.7402 - val_categorical_crossentropy: 0.7402 - val_auc: 0.8432\n",
            "Epoch 9/50\n",
            "225/225 [==============================] - 1s 5ms/step - loss: 0.7078 - categorical_crossentropy: 0.7078 - auc: 0.8566 - val_loss: 0.7383 - val_categorical_crossentropy: 0.7383 - val_auc: 0.8447\n",
            "Epoch 10/50\n",
            "225/225 [==============================] - 1s 5ms/step - loss: 0.7028 - categorical_crossentropy: 0.7028 - auc: 0.8586 - val_loss: 0.7350 - val_categorical_crossentropy: 0.7350 - val_auc: 0.8455\n",
            "Epoch 11/50\n",
            "225/225 [==============================] - 1s 5ms/step - loss: 0.6979 - categorical_crossentropy: 0.6979 - auc: 0.8607 - val_loss: 0.7387 - val_categorical_crossentropy: 0.7387 - val_auc: 0.8447\n",
            "Epoch 12/50\n",
            "225/225 [==============================] - 1s 5ms/step - loss: 0.6939 - categorical_crossentropy: 0.6939 - auc: 0.8623 - val_loss: 0.7359 - val_categorical_crossentropy: 0.7359 - val_auc: 0.8465\n",
            "Epoch 13/50\n",
            "225/225 [==============================] - 1s 6ms/step - loss: 0.6891 - categorical_crossentropy: 0.6891 - auc: 0.8643 - val_loss: 0.7393 - val_categorical_crossentropy: 0.7393 - val_auc: 0.8437\n",
            "Epoch 14/50\n",
            "225/225 [==============================] - 1s 6ms/step - loss: 0.6853 - categorical_crossentropy: 0.6853 - auc: 0.8658 - val_loss: 0.7400 - val_categorical_crossentropy: 0.7400 - val_auc: 0.8433\n",
            "Epoch 15/50\n",
            "225/225 [==============================] - 1s 5ms/step - loss: 0.6806 - categorical_crossentropy: 0.6806 - auc: 0.8678 - val_loss: 0.7401 - val_categorical_crossentropy: 0.7401 - val_auc: 0.8461\n",
            "Epoch 16/50\n",
            "225/225 [==============================] - 1s 5ms/step - loss: 0.6792 - categorical_crossentropy: 0.6792 - auc: 0.8682 - val_loss: 0.7342 - val_categorical_crossentropy: 0.7342 - val_auc: 0.8475\n",
            "Epoch 17/50\n",
            "225/225 [==============================] - 1s 5ms/step - loss: 0.6760 - categorical_crossentropy: 0.6760 - auc: 0.8698 - val_loss: 0.7353 - val_categorical_crossentropy: 0.7353 - val_auc: 0.8470\n",
            "Epoch 18/50\n",
            "225/225 [==============================] - 1s 5ms/step - loss: 0.6724 - categorical_crossentropy: 0.6724 - auc: 0.8710 - val_loss: 0.7347 - val_categorical_crossentropy: 0.7347 - val_auc: 0.8472\n",
            "Epoch 19/50\n",
            "225/225 [==============================] - 1s 5ms/step - loss: 0.6685 - categorical_crossentropy: 0.6685 - auc: 0.8725 - val_loss: 0.7387 - val_categorical_crossentropy: 0.7387 - val_auc: 0.8468\n",
            "Epoch 20/50\n",
            "225/225 [==============================] - 1s 5ms/step - loss: 0.6654 - categorical_crossentropy: 0.6654 - auc: 0.8739 - val_loss: 0.7373 - val_categorical_crossentropy: 0.7373 - val_auc: 0.8470\n",
            "Epoch 21/50\n",
            "225/225 [==============================] - 1s 5ms/step - loss: 0.6614 - categorical_crossentropy: 0.6614 - auc: 0.8752 - val_loss: 0.7398 - val_categorical_crossentropy: 0.7398 - val_auc: 0.8467\n",
            "Epoch 22/50\n",
            "225/225 [==============================] - 1s 5ms/step - loss: 0.6599 - categorical_crossentropy: 0.6599 - auc: 0.8758 - val_loss: 0.7410 - val_categorical_crossentropy: 0.7410 - val_auc: 0.8464\n",
            "Epoch 23/50\n",
            "225/225 [==============================] - 1s 5ms/step - loss: 0.6581 - categorical_crossentropy: 0.6581 - auc: 0.8765 - val_loss: 0.7496 - val_categorical_crossentropy: 0.7496 - val_auc: 0.8454\n",
            "Epoch 24/50\n",
            "225/225 [==============================] - 1s 5ms/step - loss: 0.6562 - categorical_crossentropy: 0.6562 - auc: 0.8773 - val_loss: 0.7389 - val_categorical_crossentropy: 0.7389 - val_auc: 0.8470\n",
            "Epoch 25/50\n",
            "225/225 [==============================] - 1s 5ms/step - loss: 0.6523 - categorical_crossentropy: 0.6523 - auc: 0.8789 - val_loss: 0.7434 - val_categorical_crossentropy: 0.7434 - val_auc: 0.8447\n",
            "Epoch 26/50\n",
            "225/225 [==============================] - 1s 5ms/step - loss: 0.6513 - categorical_crossentropy: 0.6513 - auc: 0.8791 - val_loss: 0.7442 - val_categorical_crossentropy: 0.7442 - val_auc: 0.8460\n",
            "Epoch 27/50\n",
            "225/225 [==============================] - 1s 5ms/step - loss: 0.6475 - categorical_crossentropy: 0.6475 - auc: 0.8806 - val_loss: 0.7421 - val_categorical_crossentropy: 0.7421 - val_auc: 0.8460\n",
            "Epoch 28/50\n",
            "225/225 [==============================] - 1s 5ms/step - loss: 0.6469 - categorical_crossentropy: 0.6469 - auc: 0.8807 - val_loss: 0.7464 - val_categorical_crossentropy: 0.7464 - val_auc: 0.8457\n",
            "Epoch 29/50\n",
            "225/225 [==============================] - 1s 5ms/step - loss: 0.6444 - categorical_crossentropy: 0.6444 - auc: 0.8817 - val_loss: 0.7411 - val_categorical_crossentropy: 0.7411 - val_auc: 0.8457\n",
            "Epoch 30/50\n",
            "225/225 [==============================] - 1s 5ms/step - loss: 0.6411 - categorical_crossentropy: 0.6411 - auc: 0.8829 - val_loss: 0.7429 - val_categorical_crossentropy: 0.7429 - val_auc: 0.8457\n",
            "Epoch 31/50\n",
            "225/225 [==============================] - 1s 5ms/step - loss: 0.6403 - categorical_crossentropy: 0.6403 - auc: 0.8830 - val_loss: 0.7465 - val_categorical_crossentropy: 0.7465 - val_auc: 0.8461\n",
            "Epoch 32/50\n",
            "225/225 [==============================] - 1s 6ms/step - loss: 0.6383 - categorical_crossentropy: 0.6383 - auc: 0.8842 - val_loss: 0.7485 - val_categorical_crossentropy: 0.7485 - val_auc: 0.8456\n",
            "Epoch 33/50\n",
            "225/225 [==============================] - 1s 5ms/step - loss: 0.6372 - categorical_crossentropy: 0.6372 - auc: 0.8843 - val_loss: 0.7462 - val_categorical_crossentropy: 0.7462 - val_auc: 0.8449\n",
            "Epoch 34/50\n",
            "225/225 [==============================] - 1s 5ms/step - loss: 0.6340 - categorical_crossentropy: 0.6340 - auc: 0.8856 - val_loss: 0.7489 - val_categorical_crossentropy: 0.7489 - val_auc: 0.8459\n",
            "Epoch 35/50\n",
            "225/225 [==============================] - 1s 5ms/step - loss: 0.6329 - categorical_crossentropy: 0.6329 - auc: 0.8860 - val_loss: 0.7531 - val_categorical_crossentropy: 0.7531 - val_auc: 0.8458\n",
            "Epoch 36/50\n",
            "225/225 [==============================] - 1s 6ms/step - loss: 0.6314 - categorical_crossentropy: 0.6314 - auc: 0.8865 - val_loss: 0.7470 - val_categorical_crossentropy: 0.7470 - val_auc: 0.8452\n",
            "Epoch 37/50\n",
            "225/225 [==============================] - 1s 5ms/step - loss: 0.6288 - categorical_crossentropy: 0.6288 - auc: 0.8874 - val_loss: 0.7509 - val_categorical_crossentropy: 0.7509 - val_auc: 0.8450\n",
            "Epoch 38/50\n",
            "225/225 [==============================] - 1s 5ms/step - loss: 0.6289 - categorical_crossentropy: 0.6289 - auc: 0.8874 - val_loss: 0.7524 - val_categorical_crossentropy: 0.7524 - val_auc: 0.8464\n",
            "Epoch 39/50\n",
            "225/225 [==============================] - 1s 5ms/step - loss: 0.6250 - categorical_crossentropy: 0.6250 - auc: 0.8888 - val_loss: 0.7630 - val_categorical_crossentropy: 0.7630 - val_auc: 0.8444\n",
            "Epoch 40/50\n",
            "225/225 [==============================] - 1s 5ms/step - loss: 0.6230 - categorical_crossentropy: 0.6230 - auc: 0.8895 - val_loss: 0.7568 - val_categorical_crossentropy: 0.7568 - val_auc: 0.8456\n",
            "Epoch 41/50\n",
            "225/225 [==============================] - 1s 5ms/step - loss: 0.6219 - categorical_crossentropy: 0.6219 - auc: 0.8899 - val_loss: 0.7620 - val_categorical_crossentropy: 0.7620 - val_auc: 0.8414\n",
            "Epoch 42/50\n",
            "225/225 [==============================] - 1s 5ms/step - loss: 0.6197 - categorical_crossentropy: 0.6197 - auc: 0.8908 - val_loss: 0.7552 - val_categorical_crossentropy: 0.7552 - val_auc: 0.8453\n",
            "Epoch 43/50\n",
            "225/225 [==============================] - 1s 5ms/step - loss: 0.6192 - categorical_crossentropy: 0.6192 - auc: 0.8909 - val_loss: 0.7572 - val_categorical_crossentropy: 0.7572 - val_auc: 0.8444\n",
            "Epoch 44/50\n",
            "225/225 [==============================] - 1s 5ms/step - loss: 0.6194 - categorical_crossentropy: 0.6194 - auc: 0.8908 - val_loss: 0.7613 - val_categorical_crossentropy: 0.7613 - val_auc: 0.8441\n",
            "Epoch 45/50\n",
            "225/225 [==============================] - 1s 5ms/step - loss: 0.6172 - categorical_crossentropy: 0.6172 - auc: 0.8916 - val_loss: 0.7604 - val_categorical_crossentropy: 0.7604 - val_auc: 0.8447\n",
            "Epoch 46/50\n",
            "225/225 [==============================] - 1s 5ms/step - loss: 0.6159 - categorical_crossentropy: 0.6159 - auc: 0.8921 - val_loss: 0.7636 - val_categorical_crossentropy: 0.7636 - val_auc: 0.8408\n",
            "Epoch 47/50\n",
            "225/225 [==============================] - 1s 5ms/step - loss: 0.6141 - categorical_crossentropy: 0.6141 - auc: 0.8927 - val_loss: 0.7665 - val_categorical_crossentropy: 0.7665 - val_auc: 0.8436\n",
            "Epoch 48/50\n",
            "225/225 [==============================] - 1s 5ms/step - loss: 0.6130 - categorical_crossentropy: 0.6130 - auc: 0.8931 - val_loss: 0.7653 - val_categorical_crossentropy: 0.7653 - val_auc: 0.8444\n",
            "Epoch 49/50\n",
            "225/225 [==============================] - 1s 5ms/step - loss: 0.6122 - categorical_crossentropy: 0.6122 - auc: 0.8935 - val_loss: 0.7713 - val_categorical_crossentropy: 0.7713 - val_auc: 0.8447\n",
            "Epoch 50/50\n",
            "225/225 [==============================] - 1s 5ms/step - loss: 0.6114 - categorical_crossentropy: 0.6114 - auc: 0.8937 - val_loss: 0.7656 - val_categorical_crossentropy: 0.7656 - val_auc: 0.8436\n"
          ]
        }
      ]
    },
    {
      "cell_type": "code",
      "metadata": {
        "colab": {
          "base_uri": "https://localhost:8080/",
          "height": 295
        },
        "id": "oaBkimyB5jHn",
        "outputId": "70039c78-c3d0-4814-f56e-2109cbb40717"
      },
      "source": [
        "import matplotlib.pyplot as plt\n",
        "\n",
        "plt.plot(history.history['loss'], label=' training data')\n",
        "plt.plot(history.history['val_loss'], label='validation data')\n",
        "plt.title('Loss for Text Classification')\n",
        "plt.ylabel('Loss value')\n",
        "plt.xlabel('No. epoch')\n",
        "plt.legend(loc=\"upper left\")\n",
        "plt.show()"
      ],
      "execution_count": null,
      "outputs": [
        {
          "output_type": "display_data",
          "data": {
            "image/png": "[encoded data removed]",
            "text/plain": [
              "<Figure size 432x288 with 1 Axes>"
            ]
          },
          "metadata": {
            "needs_background": "light"
          }
        }
      ]
    },
    {
      "cell_type": "code",
      "metadata": {
        "colab": {
          "base_uri": "https://localhost:8080/",
          "height": 295
        },
        "id": "0RLMRoIE6NkK",
        "outputId": "b954f311-74eb-45f2-a969-15e6fe547704"
      },
      "source": [
        "plt.plot(history.history['auc'], label=' Training AUC')\n",
        "plt.plot(history.history['val_auc'], label='Validation AUC')\n",
        "plt.title('AUC Evaluation')\n",
        "plt.ylabel('AUC')\n",
        "plt.xlabel('No. epoch')\n",
        "plt.legend(loc=\"upper left\")\n",
        "plt.show()"
      ],
      "execution_count": null,
      "outputs": [
        {
          "output_type": "display_data",
          "data": {
            "image/png": "[encoded data removed]",
            "text/plain": [
              "<Figure size 432x288 with 1 Axes>"
            ]
          },
          "metadata": {
            "needs_background": "light"
          }
        }
      ]
    },
    {
      "cell_type": "code",
      "metadata": {
        "id": "dnlRfijb6Tsv"
      },
      "source": [
        "y__pred = model.predict(x_test)\n"
      ],
      "execution_count": null,
      "outputs": []
    },
    {
      "cell_type": "code",
      "metadata": {
        "colab": {
          "base_uri": "https://localhost:8080/"
        },
        "id": "uxu55qXQA34S",
        "outputId": "47246f26-d63e-4355-cab4-7bdd28715b5a"
      },
      "source": [
        "y__pred.shape"
      ],
      "execution_count": null,
      "outputs": [
        {
          "output_type": "execute_result",
          "data": {
            "text/plain": [
              "(14364, 3)"
            ]
          },
          "metadata": {},
          "execution_count": 29
        }
      ]
    },
    {
      "cell_type": "code",
      "metadata": {
        "id": "CQiDREnUBE9Z"
      },
      "source": [
        "y__pred = np.where((y__pred == 0),'Negative', y__pred)\n",
        "y__pred = np.where((y__pred == '1'),'Neutral', y__pred)\n",
        "y__pred = np.where((y__pred == '2'),'Positive', y__pred)"
      ],
      "execution_count": null,
      "outputs": []
    },
    {
      "cell_type": "code",
      "metadata": {
        "colab": {
          "base_uri": "https://localhost:8080/"
        },
        "id": "6vgASpjnB1tt",
        "outputId": "5b43a5c0-bc5e-4f5f-86e7-40f1a3597be8"
      },
      "source": [
        "y_valid.shape"
      ],
      "execution_count": null,
      "outputs": [
        {
          "output_type": "execute_result",
          "data": {
            "text/plain": [
              "(14364,)"
            ]
          },
          "metadata": {},
          "execution_count": 31
        }
      ]
    },
    {
      "cell_type": "code",
      "metadata": {
        "colab": {
          "base_uri": "https://localhost:8080/",
          "height": 311
        },
        "id": "VVurMlVGBIyA",
        "outputId": "c3018045-f6e0-4304-b40e-610757407781"
      },
      "source": [
        "print(classification_report(data.Analysis, y__pred))"
      ],
      "execution_count": null,
      "outputs": [
        {
          "output_type": "error",
          "ename": "ValueError",
          "evalue": "ignored",
          "traceback": [
            "\u001b[0;31m---------------------------------------------------------------------------\u001b[0m",
            "\u001b[0;31mValueError\u001b[0m                                Traceback (most recent call last)",
            "\u001b[0;32m<ipython-input-32-8e7bb81f9054>\u001b[0m in \u001b[0;36m<module>\u001b[0;34m()\u001b[0m\n\u001b[0;32m----> 1\u001b[0;31m \u001b[0mprint\u001b[0m\u001b[0;34m(\u001b[0m\u001b[0mclassification_report\u001b[0m\u001b[0;34m(\u001b[0m\u001b[0mdata\u001b[0m\u001b[0;34m.\u001b[0m\u001b[0mAnalysis\u001b[0m\u001b[0;34m,\u001b[0m \u001b[0my__pred\u001b[0m\u001b[0;34m)\u001b[0m\u001b[0;34m)\u001b[0m\u001b[0;34m\u001b[0m\u001b[0;34m\u001b[0m\u001b[0m\n\u001b[0m",
            "\u001b[0;32m/usr/local/lib/python3.7/dist-packages/sklearn/metrics/_classification.py\u001b[0m in \u001b[0;36mclassification_report\u001b[0;34m(y_true, y_pred, labels, target_names, sample_weight, digits, output_dict, zero_division)\u001b[0m\n\u001b[1;32m   1969\u001b[0m     \"\"\"\n\u001b[1;32m   1970\u001b[0m \u001b[0;34m\u001b[0m\u001b[0m\n\u001b[0;32m-> 1971\u001b[0;31m     \u001b[0my_type\u001b[0m\u001b[0;34m,\u001b[0m \u001b[0my_true\u001b[0m\u001b[0;34m,\u001b[0m \u001b[0my_pred\u001b[0m \u001b[0;34m=\u001b[0m \u001b[0m_check_targets\u001b[0m\u001b[0;34m(\u001b[0m\u001b[0my_true\u001b[0m\u001b[0;34m,\u001b[0m \u001b[0my_pred\u001b[0m\u001b[0;34m)\u001b[0m\u001b[0;34m\u001b[0m\u001b[0;34m\u001b[0m\u001b[0m\n\u001b[0m\u001b[1;32m   1972\u001b[0m \u001b[0;34m\u001b[0m\u001b[0m\n\u001b[1;32m   1973\u001b[0m     \u001b[0mlabels_given\u001b[0m \u001b[0;34m=\u001b[0m \u001b[0;32mTrue\u001b[0m\u001b[0;34m\u001b[0m\u001b[0;34m\u001b[0m\u001b[0m\n",
            "\u001b[0;32m/usr/local/lib/python3.7/dist-packages/sklearn/metrics/_classification.py\u001b[0m in \u001b[0;36m_check_targets\u001b[0;34m(y_true, y_pred)\u001b[0m\n\u001b[1;32m     78\u001b[0m     \u001b[0my_pred\u001b[0m \u001b[0;34m:\u001b[0m \u001b[0marray\u001b[0m \u001b[0;32mor\u001b[0m \u001b[0mindicator\u001b[0m \u001b[0mmatrix\u001b[0m\u001b[0;34m\u001b[0m\u001b[0;34m\u001b[0m\u001b[0m\n\u001b[1;32m     79\u001b[0m     \"\"\"\n\u001b[0;32m---> 80\u001b[0;31m     \u001b[0mcheck_consistent_length\u001b[0m\u001b[0;34m(\u001b[0m\u001b[0my_true\u001b[0m\u001b[0;34m,\u001b[0m \u001b[0my_pred\u001b[0m\u001b[0;34m)\u001b[0m\u001b[0;34m\u001b[0m\u001b[0;34m\u001b[0m\u001b[0m\n\u001b[0m\u001b[1;32m     81\u001b[0m     \u001b[0mtype_true\u001b[0m \u001b[0;34m=\u001b[0m \u001b[0mtype_of_target\u001b[0m\u001b[0;34m(\u001b[0m\u001b[0my_true\u001b[0m\u001b[0;34m)\u001b[0m\u001b[0;34m\u001b[0m\u001b[0;34m\u001b[0m\u001b[0m\n\u001b[1;32m     82\u001b[0m     \u001b[0mtype_pred\u001b[0m \u001b[0;34m=\u001b[0m \u001b[0mtype_of_target\u001b[0m\u001b[0;34m(\u001b[0m\u001b[0my_pred\u001b[0m\u001b[0;34m)\u001b[0m\u001b[0;34m\u001b[0m\u001b[0;34m\u001b[0m\u001b[0m\n",
            "\u001b[0;32m/usr/local/lib/python3.7/dist-packages/sklearn/utils/validation.py\u001b[0m in \u001b[0;36mcheck_consistent_length\u001b[0;34m(*arrays)\u001b[0m\n\u001b[1;32m    210\u001b[0m     \u001b[0;32mif\u001b[0m \u001b[0mlen\u001b[0m\u001b[0;34m(\u001b[0m\u001b[0muniques\u001b[0m\u001b[0;34m)\u001b[0m \u001b[0;34m>\u001b[0m \u001b[0;36m1\u001b[0m\u001b[0;34m:\u001b[0m\u001b[0;34m\u001b[0m\u001b[0;34m\u001b[0m\u001b[0m\n\u001b[1;32m    211\u001b[0m         raise ValueError(\"Found input variables with inconsistent numbers of\"\n\u001b[0;32m--> 212\u001b[0;31m                          \" samples: %r\" % [int(l) for l in lengths])\n\u001b[0m\u001b[1;32m    213\u001b[0m \u001b[0;34m\u001b[0m\u001b[0m\n\u001b[1;32m    214\u001b[0m \u001b[0;34m\u001b[0m\u001b[0m\n",
            "\u001b[0;31mValueError\u001b[0m: Found input variables with inconsistent numbers of samples: [71820, 14364]"
          ]
        }
      ]
    },
    {
      "cell_type": "code",
      "metadata": {
        "id": "Zsb-uAUQBnd5"
      },
      "source": [
        ""
      ],
      "execution_count": null,
      "outputs": []
    }
  ]
}