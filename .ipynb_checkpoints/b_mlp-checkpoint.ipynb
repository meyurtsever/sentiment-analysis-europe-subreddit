{
 "cells": [
  {
   "cell_type": "code",
   "execution_count": null,
   "metadata": {
    "id": "3WZTClLHidpu"
   },
   "outputs": [],
   "source": [
    "import pandas as pd\n",
    "import numpy as np\n",
    "\n",
    "import tensorflow as tf\n",
    "\n",
    "import matplotlib.pyplot as plt\n",
    "\n",
    "from tensorflow.keras import regularizers\n",
    "from tensorflow.keras import layers\n",
    "from tensorflow.keras import losses\n",
    "from tensorflow.keras.callbacks import EarlyStopping\n",
    "\n",
    "from tensorflow.keras.metrics import AUC\n",
    "\n",
    "from sklearn.feature_extraction.text import TfidfVectorizer\n",
    "from sklearn.model_selection import train_test_split\n",
    "from sklearn.preprocessing import LabelEncoder\n",
    "from sklearn.metrics import accuracy_score, f1_score, precision_score, recall_score, classification_report, confusion_matrix, matthews_corrcoef, roc_curve, auc, roc_auc_score\n",
    "\n",
    "from tensorflow.keras.optimizers import Adam\n",
    "from tensorflow.keras.initializers import Constant\n",
    "from tensorflow.keras.preprocessing.text import Tokenizer\n",
    "from tensorflow.keras.preprocessing.sequence import pad_sequences"
   ]
  },
  {
   "cell_type": "code",
   "execution_count": null,
   "metadata": {
    "colab": {
     "base_uri": "https://localhost:8080/"
    },
    "id": "uLd9XmAeiogs",
    "outputId": "772c0e8d-1e6f-4a6a-d3dc-f173a070ce49"
   },
   "outputs": [
    {
     "name": "stdout",
     "output_type": "stream",
     "text": [
      "Mounted at /content/drive\n"
     ]
    }
   ],
   "source": [
    "from google.colab import drive\n",
    "drive.mount('/content/drive')"
   ]
  },
  {
   "cell_type": "code",
   "execution_count": null,
   "metadata": {
    "id": "ZollgIDSihsc"
   },
   "outputs": [],
   "source": [
    "train_data= pd.read_csv(\"/content/drive/MyDrive/metin_madenciligi_proje/preprocessed_european_comments.csv\")"
   ]
  },
  {
   "cell_type": "code",
   "execution_count": null,
   "metadata": {
    "colab": {
     "base_uri": "https://localhost:8080/",
     "height": 204
    },
    "id": "sRpDKDG2ik5z",
    "outputId": "88db08a7-5de2-48d0-9b36-67caaad948bd"
   },
   "outputs": [
    {
     "data": {
      "text/html": [
       "<div>\n",
       "<style scoped>\n",
       "    .dataframe tbody tr th:only-of-type {\n",
       "        vertical-align: middle;\n",
       "    }\n",
       "\n",
       "    .dataframe tbody tr th {\n",
       "        vertical-align: top;\n",
       "    }\n",
       "\n",
       "    .dataframe thead th {\n",
       "        text-align: right;\n",
       "    }\n",
       "</style>\n",
       "<table border=\"1\" class=\"dataframe\">\n",
       "  <thead>\n",
       "    <tr style=\"text-align: right;\">\n",
       "      <th></th>\n",
       "      <th>Unnamed: 0</th>\n",
       "      <th>body</th>\n",
       "      <th>Subjectivity</th>\n",
       "      <th>Polarity</th>\n",
       "      <th>Analysis</th>\n",
       "    </tr>\n",
       "  </thead>\n",
       "  <tbody>\n",
       "    <tr>\n",
       "      <th>0</th>\n",
       "      <td>0</td>\n",
       "      <td>woman claims said insults, bystanders didnt. t...</td>\n",
       "      <td>0.843750</td>\n",
       "      <td>-0.322917</td>\n",
       "      <td>Negative</td>\n",
       "    </tr>\n",
       "    <tr>\n",
       "      <th>1</th>\n",
       "      <td>1</td>\n",
       "      <td>turkey doesn't know balkans.</td>\n",
       "      <td>0.000000</td>\n",
       "      <td>0.000000</td>\n",
       "      <td>Neutral</td>\n",
       "    </tr>\n",
       "    <tr>\n",
       "      <th>2</th>\n",
       "      <td>2</td>\n",
       "      <td>lot talk turkey</td>\n",
       "      <td>0.000000</td>\n",
       "      <td>0.000000</td>\n",
       "      <td>Neutral</td>\n",
       "    </tr>\n",
       "    <tr>\n",
       "      <th>3</th>\n",
       "      <td>3</td>\n",
       "      <td>don't like ruling party turkey. it's turkish p...</td>\n",
       "      <td>0.000000</td>\n",
       "      <td>0.000000</td>\n",
       "      <td>Neutral</td>\n",
       "    </tr>\n",
       "    <tr>\n",
       "      <th>4</th>\n",
       "      <td>4</td>\n",
       "      <td>create confusion absolute numbers. ~0.01 popul...</td>\n",
       "      <td>0.423384</td>\n",
       "      <td>-0.020833</td>\n",
       "      <td>Negative</td>\n",
       "    </tr>\n",
       "  </tbody>\n",
       "</table>\n",
       "</div>"
      ],
      "text/plain": [
       "   Unnamed: 0  ...  Analysis\n",
       "0           0  ...  Negative\n",
       "1           1  ...   Neutral\n",
       "2           2  ...   Neutral\n",
       "3           3  ...   Neutral\n",
       "4           4  ...  Negative\n",
       "\n",
       "[5 rows x 5 columns]"
      ]
     },
     "execution_count": 5,
     "metadata": {
      "tags": []
     },
     "output_type": "execute_result"
    }
   ],
   "source": [
    "train_data.head()"
   ]
  },
  {
   "cell_type": "code",
   "execution_count": null,
   "metadata": {
    "id": "jdD3lHw1iyY7"
   },
   "outputs": [],
   "source": [
    "# calculate word count for all sentences\n",
    "train_data['word_counter'] = train_data['body'].apply(lambda x:len(str(x).split())) "
   ]
  },
  {
   "cell_type": "code",
   "execution_count": null,
   "metadata": {
    "colab": {
     "base_uri": "https://localhost:8080/"
    },
    "id": "S0ZXgCMiizoy",
    "outputId": "ce91da47-1499-4b8c-a738-7d06c7e755bd"
   },
   "outputs": [
    {
     "name": "stdout",
     "output_type": "stream",
     "text": [
      "Info about training data:\n",
      "Positive    34026\n",
      "Negative    21331\n",
      "Neutral     16463\n",
      "Name: Analysis, dtype: int64\n",
      "Total comments:  71820\n"
     ]
    }
   ],
   "source": [
    "print('Info about training data:')\n",
    "print(train_data['Analysis'].value_counts())\n",
    "print('Total comments: ', len(train_data))\n",
    "\n",
    "max_train_sentence_length  = train_data['word_counter'].max()"
   ]
  },
  {
   "cell_type": "code",
   "execution_count": null,
   "metadata": {
    "colab": {
     "base_uri": "https://localhost:8080/"
    },
    "id": "AUGx8y9Gi1BC",
    "outputId": "ef317a8d-47f1-4688-8334-bfcaf2e9edf5"
   },
   "outputs": [
    {
     "name": "stdout",
     "output_type": "stream",
     "text": [
      "Train Max Sentence Length :3263\n"
     ]
    }
   ],
   "source": [
    "# will be used for padding\n",
    "print('Train Max Sentence Length :'+str(max_train_sentence_length))"
   ]
  },
  {
   "cell_type": "code",
   "execution_count": null,
   "metadata": {
    "id": "tTBlqTPAi17r"
   },
   "outputs": [],
   "source": [
    "# consider 30k comments\n",
    "num_words = 30000\n",
    "\n",
    "# convert texts to number format\n",
    "tokenizer = Tokenizer(num_words=num_words)\n",
    "tokenizer.fit_on_texts(train_data['body'].values.astype(str).tolist())"
   ]
  },
  {
   "cell_type": "code",
   "execution_count": null,
   "metadata": {
    "id": "dEO9gFQUi38K"
   },
   "outputs": [],
   "source": [
    "# splitting train and test data\n",
    "X_train, X_test, y_train, y_test = train_test_split(train_data['body'],\\\n",
    "                                                      train_data['Analysis'],\\\n",
    "                                                      test_size=0.1,\\\n",
    "                                                      random_state=0)"
   ]
  },
  {
   "cell_type": "code",
   "execution_count": null,
   "metadata": {
    "colab": {
     "base_uri": "https://localhost:8080/"
    },
    "id": "p4iqJdWtjFSL",
    "outputId": "aa0dae0c-4e8a-490c-8766-e9175bdef314"
   },
   "outputs": [
    {
     "name": "stderr",
     "output_type": "stream",
     "text": [
      "/usr/local/lib/python3.6/dist-packages/ipykernel_launcher.py:2: VisibleDeprecationWarning: Creating an ndarray from ragged nested sequences (which is a list-or-tuple of lists-or-tuples-or ndarrays with different lengths or shapes) is deprecated. If you meant to do this, you must specify 'dtype=object' when creating the ndarray\n",
      "  \n",
      "/usr/local/lib/python3.6/dist-packages/ipykernel_launcher.py:3: VisibleDeprecationWarning: Creating an ndarray from ragged nested sequences (which is a list-or-tuple of lists-or-tuples-or ndarrays with different lengths or shapes) is deprecated. If you meant to do this, you must specify 'dtype=object' when creating the ndarray\n",
      "  This is separate from the ipykernel package so we can avoid doing imports until\n"
     ]
    }
   ],
   "source": [
    "# text-to-number\n",
    "x_train = np.array( tokenizer.texts_to_sequences(X_train.values.astype(str)) )\n",
    "x_test  = np.array( tokenizer.texts_to_sequences(X_test.values.astype(str)) )\n",
    "\n",
    "#x_train = tokenizer.texts_to_matrix(X_train.values.astype(str))\n",
    "#x_test  = tokenizer.texts_to_matrix(X_test.values.astype(str))"
   ]
  },
  {
   "cell_type": "code",
   "execution_count": null,
   "metadata": {
    "id": "R-LYy_oajGVr"
   },
   "outputs": [],
   "source": [
    "# we get different length sentences after tokenizer.\n",
    "# we need fixed size vectors. so padding is applied.\n",
    "# max length of a sentence was given above. it was 33.\n",
    "# here we are taking maxlen=3263 and applying padding.\n",
    "\n",
    "x_train = pad_sequences(x_train, padding='post', maxlen=256)\n",
    "x_test = pad_sequences(x_test, padding='post', maxlen=256)"
   ]
  },
  {
   "cell_type": "code",
   "execution_count": null,
   "metadata": {
    "colab": {
     "base_uri": "https://localhost:8080/"
    },
    "id": "enhlP3JPjJzi",
    "outputId": "18fc423d-1b38-4b7f-8128-ab41a069de0a"
   },
   "outputs": [
    {
     "data": {
      "text/plain": [
       "['Negative', 'Neutral', 'Positive']"
      ]
     },
     "execution_count": 13,
     "metadata": {
      "tags": []
     },
     "output_type": "execute_result"
    }
   ],
   "source": [
    "# label encoding: 'positive', 'negative' and 'neutral' is converted to number format.\n",
    "le = LabelEncoder()\n",
    "\n",
    "train_labels = le.fit_transform(y_train)\n",
    "train_labels = np.asarray( tf.keras.utils.to_categorical(train_labels))\n",
    "\n",
    "test_labels = le.transform(y_test)\n",
    "test_labels = np.asarray(tf.keras.utils.to_categorical(test_labels))\n",
    "list(le.classes_)"
   ]
  },
  {
   "cell_type": "code",
   "execution_count": null,
   "metadata": {
    "colab": {
     "base_uri": "https://localhost:8080/"
    },
    "id": "J4vSqzyRjKqa",
    "outputId": "5f5149bc-5149-4575-fc57-408a9be92642"
   },
   "outputs": [
    {
     "name": "stdout",
     "output_type": "stream",
     "text": [
      "[[1. 0. 0.]\n",
      " [0. 0. 1.]\n",
      " [0. 1. 0.]\n",
      " [0. 0. 1.]\n",
      " [1. 0. 0.]\n",
      " [0. 0. 1.]\n",
      " [0. 1. 0.]\n",
      " [1. 0. 0.]\n",
      " [1. 0. 0.]\n",
      " [0. 0. 1.]]\n"
     ]
    }
   ],
   "source": [
    "print(train_labels[:10])"
   ]
  },
  {
   "cell_type": "code",
   "execution_count": null,
   "metadata": {
    "id": "3-djDSj5vKFa"
   },
   "outputs": [],
   "source": [
    "# looking for top 30k comments\n",
    "max_features = 30000\n",
    "\n",
    "#every index is represented by 64 dimensional vector\n",
    "embedding_dim =64\n",
    "\n",
    "#each input has 3263 dimension\n",
    "sequence_length = 256\n",
    "\n",
    "model = tf.keras.Sequential()\n",
    "\n",
    "model.add(tf.keras.layers.Embedding(max_features, embedding_dim, input_length=sequence_length,\\\n",
    "                                   embeddings_regularizer = regularizers.l2(0.0005))) \n",
    "\n",
    "model.add(tf.keras.layers.Flatten())\n",
    "model.add(tf.keras.layers.Dense(64, activation='relu'))\n",
    "model.add(tf.keras.layers.Dense(128, activation='relu'))\n",
    "model.add(tf.keras.layers.Dense(3, activation='softmax'))\n",
    "model.compile(loss='categorical_crossentropy', optimizer='adam', metrics=['accuracy', AUC(name='auc')])"
   ]
  },
  {
   "cell_type": "code",
   "execution_count": null,
   "metadata": {
    "colab": {
     "base_uri": "https://localhost:8080/"
    },
    "id": "XELZVyPJvb9I",
    "outputId": "484fda36-3c92-4fe9-cead-eb75cf7d985d"
   },
   "outputs": [
    {
     "name": "stdout",
     "output_type": "stream",
     "text": [
      "Epoch 1/10\n",
      "2020/2020 [==============================] - 34s 16ms/step - loss: 0.5355 - accuracy: 0.6705 - auc: 0.8448 - val_loss: 0.4008 - val_accuracy: 0.8364 - val_auc: 0.9465\n",
      "Epoch 2/10\n",
      "2020/2020 [==============================] - 48s 24ms/step - loss: 0.3567 - accuracy: 0.8723 - auc: 0.9643 - val_loss: 0.3831 - val_accuracy: 0.8676 - val_auc: 0.9599\n",
      "Epoch 3/10\n",
      "2020/2020 [==============================] - 49s 24ms/step - loss: 0.3143 - accuracy: 0.9108 - auc: 0.9787 - val_loss: 0.4089 - val_accuracy: 0.8727 - val_auc: 0.9581\n",
      "Epoch 4/10\n",
      "2020/2020 [==============================] - 49s 24ms/step - loss: 0.2800 - accuracy: 0.9389 - auc: 0.9874 - val_loss: 0.4452 - val_accuracy: 0.8631 - val_auc: 0.9526\n",
      "Epoch 5/10\n",
      "2020/2020 [==============================] - 49s 24ms/step - loss: 0.2597 - accuracy: 0.9546 - auc: 0.9916 - val_loss: 0.4560 - val_accuracy: 0.8723 - val_auc: 0.9534\n",
      "Epoch 6/10\n",
      "2020/2020 [==============================] - 49s 24ms/step - loss: 0.2462 - accuracy: 0.9636 - auc: 0.9938 - val_loss: 0.4788 - val_accuracy: 0.8693 - val_auc: 0.9485\n",
      "Epoch 7/10\n",
      "2020/2020 [==============================] - 49s 24ms/step - loss: 0.2439 - accuracy: 0.9657 - auc: 0.9942 - val_loss: 0.5016 - val_accuracy: 0.8598 - val_auc: 0.9445\n",
      "Epoch 8/10\n",
      "2020/2020 [==============================] - 49s 24ms/step - loss: 0.2282 - accuracy: 0.9734 - auc: 0.9959 - val_loss: 0.5227 - val_accuracy: 0.8610 - val_auc: 0.9447\n",
      "Epoch 9/10\n",
      "2020/2020 [==============================] - 49s 24ms/step - loss: 0.2264 - accuracy: 0.9751 - auc: 0.9960 - val_loss: 0.5263 - val_accuracy: 0.8633 - val_auc: 0.9416\n",
      "Epoch 10/10\n",
      "2020/2020 [==============================] - 49s 24ms/step - loss: 0.2180 - accuracy: 0.9760 - auc: 0.9963 - val_loss: 0.5468 - val_accuracy: 0.8521 - val_auc: 0.9385\n"
     ]
    }
   ],
   "source": [
    "# Training model\n",
    "callbacks = [EarlyStopping(monitor='val_loss', patience=2)]\n",
    "\n",
    "# Fit the model using the train and test datasets.\n",
    "#history = model.fit(x_train, train_labels,validation_data= (x_test,test_labels),epochs=epochs )\n",
    "history = model.fit(x_train,\n",
    "                    train_labels,\n",
    "                    epochs=10,\n",
    "                    callbacks=callbacks,\n",
    "                    validation_data=(x_test, test_labels),\n",
    "                    verbose=1)"
   ]
  },
  {
   "cell_type": "code",
   "execution_count": null,
   "metadata": {
    "id": "KNpd3XpKjTCS"
   },
   "outputs": [],
   "source": [
    "# looking for top 20k comments\n",
    "max_features = 30000\n",
    "\n",
    "#every index is represented by 64 dimensional vector\n",
    "embedding_dim =64\n",
    "\n",
    "#each input has 3263 dimension\n",
    "sequence_length = 256\n",
    "\n",
    "model = tf.keras.Sequential()\n",
    "\n",
    "model.add(tf.keras.layers.Embedding(max_features, embedding_dim, input_length=sequence_length,\\\n",
    "                                   embeddings_regularizer = regularizers.l2(0.0005))) \n",
    "\n",
    "model.add(tf.keras.layers.Flatten())\n",
    "model.add(tf.keras.layers.Dense(256, activation='relu'))\n",
    "model.add(tf.keras.layers.Dense(3, activation='softmax'))\n",
    "model.compile(loss=tf.keras.losses.CategoricalCrossentropy(), optimizer='adam', metrics=['CategoricalAccuracy', AUC(name='auc')])"
   ]
  },
  {
   "cell_type": "code",
   "execution_count": null,
   "metadata": {
    "colab": {
     "base_uri": "https://localhost:8080/"
    },
    "id": "bQXN2mjCjVnq",
    "outputId": "53c42cda-21b8-492e-cbaa-50faecb104b4"
   },
   "outputs": [
    {
     "name": "stdout",
     "output_type": "stream",
     "text": [
      "Epoch 1/10\n",
      "2020/2020 [==============================] - 37s 18ms/step - loss: 0.8443 - categorical_accuracy: 0.6692 - auc: 0.8470 - val_loss: 0.5780 - val_categorical_accuracy: 0.8520 - val_auc: 0.9580\n",
      "Epoch 2/10\n",
      "2020/2020 [==============================] - 44s 22ms/step - loss: 0.4851 - categorical_accuracy: 0.8989 - auc: 0.9760 - val_loss: 0.5896 - val_categorical_accuracy: 0.8727 - val_auc: 0.9653\n",
      "Epoch 3/10\n",
      "2020/2020 [==============================] - 43s 21ms/step - loss: 0.4004 - categorical_accuracy: 0.9407 - auc: 0.9901 - val_loss: 0.6335 - val_categorical_accuracy: 0.8780 - val_auc: 0.9650\n",
      "Epoch 4/10\n",
      "2020/2020 [==============================] - 44s 22ms/step - loss: 0.3606 - categorical_accuracy: 0.9594 - auc: 0.9949 - val_loss: 0.7045 - val_categorical_accuracy: 0.8672 - val_auc: 0.9572\n",
      "Epoch 5/10\n",
      "2020/2020 [==============================] - 43s 21ms/step - loss: 0.3435 - categorical_accuracy: 0.9670 - auc: 0.9962 - val_loss: 0.7417 - val_categorical_accuracy: 0.8642 - val_auc: 0.9558\n",
      "Epoch 6/10\n",
      "2020/2020 [==============================] - 43s 21ms/step - loss: 0.3325 - categorical_accuracy: 0.9717 - auc: 0.9972 - val_loss: 0.7664 - val_categorical_accuracy: 0.8537 - val_auc: 0.9508\n",
      "Epoch 7/10\n",
      "2020/2020 [==============================] - 43s 21ms/step - loss: 0.3157 - categorical_accuracy: 0.9758 - auc: 0.9978 - val_loss: 0.7792 - val_categorical_accuracy: 0.8590 - val_auc: 0.9521\n",
      "Epoch 8/10\n",
      "2020/2020 [==============================] - 43s 21ms/step - loss: 0.3149 - categorical_accuracy: 0.9771 - auc: 0.9981 - val_loss: 0.8524 - val_categorical_accuracy: 0.8524 - val_auc: 0.9466\n",
      "Epoch 9/10\n",
      "2020/2020 [==============================] - 43s 21ms/step - loss: 0.3011 - categorical_accuracy: 0.9777 - auc: 0.9981 - val_loss: 0.8569 - val_categorical_accuracy: 0.8523 - val_auc: 0.9479\n",
      "Epoch 10/10\n",
      "2020/2020 [==============================] - 43s 21ms/step - loss: 0.3044 - categorical_accuracy: 0.9790 - auc: 0.9985 - val_loss: 0.9355 - val_categorical_accuracy: 0.8421 - val_auc: 0.9370\n"
     ]
    }
   ],
   "source": [
    "# Training model\n",
    "\n",
    "#callbacks = [EarlyStopping(monitor='val_loss', patience=2)]\n",
    "\n",
    "epochs = 10\n",
    "# Fit the model using the train and test datasets.\n",
    "#history = model.fit(x_train, train_labels,validation_data= (x_test,test_labels),epochs=epochs )\n",
    "history = model.fit(x_train,\n",
    "                    train_labels,\n",
    "                    epochs= epochs,\n",
    "                    #callbacks=callbacks,\n",
    "                    validation_data=(x_test, test_labels),\n",
    "                    verbose=1)"
   ]
  },
  {
   "cell_type": "code",
   "execution_count": null,
   "metadata": {
    "colab": {
     "base_uri": "https://localhost:8080/",
     "height": 295
    },
    "id": "dJP4ln7DkLFI",
    "outputId": "a884c8b8-f277-4ed6-9d4e-2293f27bc442"
   },
   "outputs": [
    {
     "data": {
      "image/png": "[encoded data removed]",
      "text/plain": [
       "<Figure size 432x288 with 1 Axes>"
      ]
     },
     "metadata": {
      "needs_background": "light",
      "tags": []
     },
     "output_type": "display_data"
    }
   ],
   "source": [
    "plt.plot(history.history['loss'], label=' training data')\n",
    "plt.plot(history.history['val_loss'], label='validation data)')\n",
    "plt.title('Loss for Text Classification')\n",
    "plt.ylabel('Loss value')\n",
    "plt.xlabel('No. epoch')\n",
    "plt.legend(loc=\"upper left\")\n",
    "plt.show()"
   ]
  },
  {
   "cell_type": "code",
   "execution_count": null,
   "metadata": {
    "colab": {
     "base_uri": "https://localhost:8080/",
     "height": 295
    },
    "id": "-9K2Sa6UkqKS",
    "outputId": "b200f790-f7c3-4976-c013-f24c87820b82"
   },
   "outputs": [
    {
     "data": {
      "image/png": "[encoded data removed]",
      "text/plain": [
       "<Figure size 432x288 with 1 Axes>"
      ]
     },
     "metadata": {
      "needs_background": "light",
      "tags": []
     },
     "output_type": "display_data"
    }
   ],
   "source": [
    "plt.plot(history.history['auc'], label=' Training AUC')\n",
    "plt.plot(history.history['val_auc'], label='Validation AUC)')\n",
    "plt.title('AUC Evaluation')\n",
    "plt.ylabel('AUC')\n",
    "plt.xlabel('No. epoch')\n",
    "plt.legend(loc=\"upper left\")\n",
    "plt.show()"
   ]
  },
  {
   "cell_type": "code",
   "execution_count": null,
   "metadata": {
    "colab": {
     "base_uri": "https://localhost:8080/"
    },
    "id": "Xze2BeVBkrKD",
    "outputId": "d9f7c642-d0d4-42a9-f7ff-8e6e93985ab4"
   },
   "outputs": [
    {
     "data": {
      "text/plain": [
       "58787    old news based kktc’s president said. afaik (o...\n",
       "16737    words \"turkey doesn't want follow unclos inven...\n",
       "27353       thought turk guys ok posts turkey /r/europe :d\n",
       "62209    true. tides shift comes time slaughtered disag...\n",
       "40789    thanks do, mate. mission seek help reddit prev...\n",
       "                               ...                        \n",
       "24478    didn't send them, let go. huge difference lett...\n",
       "30753    [so, addresses \"what simply refuse import will...\n",
       "9977     turkey arrested right? highest number journali...\n",
       "7303     doesn't story baltics analogous cyprus. popula...\n",
       "32862    isn't co2 tax, alternative bar lpg. turkey hug...\n",
       "Name: body, Length: 7182, dtype: object"
      ]
     },
     "execution_count": 18,
     "metadata": {
      "tags": []
     },
     "output_type": "execute_result"
    }
   ],
   "source": [
    "X_test"
   ]
  },
  {
   "cell_type": "code",
   "execution_count": null,
   "metadata": {
    "colab": {
     "base_uri": "https://localhost:8080/"
    },
    "id": "zorOw4WoksYD",
    "outputId": "b033c30f-d1e9-4955-ae34-6957371dd697"
   },
   "outputs": [
    {
     "name": "stderr",
     "output_type": "stream",
     "text": [
      "/usr/local/lib/python3.6/dist-packages/ipykernel_launcher.py:1: VisibleDeprecationWarning: Creating an ndarray from ragged nested sequences (which is a list-or-tuple of lists-or-tuples-or ndarrays with different lengths or shapes) is deprecated. If you meant to do this, you must specify 'dtype=object' when creating the ndarray\n",
      "  \"\"\"Entry point for launching an IPython kernel.\n"
     ]
    }
   ],
   "source": [
    "x_test2  = np.array( tokenizer.texts_to_sequences(X_test.astype(str).tolist()) )\n",
    "x_test2 = pad_sequences(x_test2, padding='post', maxlen=256)"
   ]
  },
  {
   "cell_type": "code",
   "execution_count": null,
   "metadata": {
    "colab": {
     "base_uri": "https://localhost:8080/"
    },
    "id": "u210gPedktVC",
    "outputId": "fe04510b-78a4-4ae9-a2ae-d3b4c3998451"
   },
   "outputs": [
    {
     "name": "stdout",
     "output_type": "stream",
     "text": [
      "Generate predictions for all samples\n"
     ]
    },
    {
     "data": {
      "text/plain": [
       "array([0, 2, 2, ..., 2, 2, 2])"
      ]
     },
     "execution_count": 20,
     "metadata": {
      "tags": []
     },
     "output_type": "execute_result"
    }
   ],
   "source": [
    "# Generate predictions (probabilities -- the output of the last layer)\n",
    "# on test  data using `predict`\n",
    "print(\"Generate predictions for all samples\")\n",
    "y_predictions = model.predict(x_test2)\n",
    "y_pred = y_predictions.argmax(axis=1)\n",
    "y_pred"
   ]
  },
  {
   "cell_type": "code",
   "execution_count": null,
   "metadata": {
    "id": "qCMQeZ1jkuWb"
   },
   "outputs": [],
   "source": [
    "y_pred = np.where((y_pred == 0),'Negative',y_pred)\n",
    "y_pred = np.where((y_pred == '1'),'Neutral',y_pred)\n",
    "y_pred = np.where((y_pred == '2'),'Positive',y_pred)"
   ]
  },
  {
   "cell_type": "code",
   "execution_count": null,
   "metadata": {
    "colab": {
     "base_uri": "https://localhost:8080/"
    },
    "id": "rov-2RMukvZr",
    "outputId": "a93f74a1-921f-488b-9a6e-b4bdb6b41fc9"
   },
   "outputs": [
    {
     "name": "stdout",
     "output_type": "stream",
     "text": [
      "              precision    recall  f1-score   support\n",
      "\n",
      "    Positive       0.88      0.90      0.89      3426\n",
      "    Negative       0.84      0.81      0.82      2097\n",
      "     Neutral       0.90      0.91      0.90      1659\n",
      "\n",
      "    accuracy                           0.87      7182\n",
      "   macro avg       0.87      0.87      0.87      7182\n",
      "weighted avg       0.87      0.87      0.87      7182\n",
      "\n"
     ]
    }
   ],
   "source": [
    "labels = ['Positive', 'Negative','Neutral']\n",
    "print(classification_report(y_test, y_pred, labels=labels))"
   ]
  },
  {
   "cell_type": "code",
   "execution_count": null,
   "metadata": {
    "id": "AT5xf5FzkwRj"
   },
   "outputs": [],
   "source": []
  }
 ],
 "metadata": {
  "accelerator": "GPU",
  "colab": {
   "collapsed_sections": [],
   "name": "mlp.ipynb",
   "provenance": []
  },
  "kernelspec": {
   "display_name": "Python 3",
   "language": "python",
   "name": "python3"
  },
  "language_info": {
   "codemirror_mode": {
    "name": "ipython",
    "version": 3
   },
   "file_extension": ".py",
   "mimetype": "text/x-python",
   "name": "python",
   "nbconvert_exporter": "python",
   "pygments_lexer": "ipython3",
   "version": "3.8.5"
  }
 },
 "nbformat": 4,
 "nbformat_minor": 1
}
