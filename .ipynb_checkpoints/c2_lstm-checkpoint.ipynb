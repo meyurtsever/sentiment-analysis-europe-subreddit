{
 "cells": [
  {
   "cell_type": "code",
   "execution_count": 1,
   "metadata": {},
   "outputs": [],
   "source": [
    "import pandas as pd\n",
    "import numpy as np\n",
    "\n",
    "import tensorflow as tf\n",
    "\n",
    "import matplotlib.pyplot as plt\n",
    "\n",
    "from tensorflow.keras import regularizers\n",
    "from tensorflow.keras import layers\n",
    "from tensorflow.keras import losses\n",
    "\n",
    "from tensorflow.keras.metrics import AUC\n",
    "\n",
    "from sklearn.feature_extraction.text import TfidfVectorizer\n",
    "from sklearn.model_selection import train_test_split\n",
    "from sklearn.preprocessing import LabelEncoder\n",
    "from sklearn.metrics import accuracy_score, f1_score, precision_score, recall_score, classification_report, confusion_matrix, matthews_corrcoef, roc_curve, auc, roc_auc_score\n",
    "\n",
    "\n",
    "from tensorflow.keras.preprocessing.text import Tokenizer\n",
    "from tensorflow.keras.preprocessing.sequence import pad_sequences"
   ]
  },
  {
   "cell_type": "code",
   "execution_count": 2,
   "metadata": {},
   "outputs": [],
   "source": [
    "train_data= pd.read_csv(\"preprocessed_european_comments.csv\")"
   ]
  },
  {
   "cell_type": "code",
   "execution_count": 3,
   "metadata": {},
   "outputs": [
    {
     "data": {
      "text/html": [
       "<div>\n",
       "<style scoped>\n",
       "    .dataframe tbody tr th:only-of-type {\n",
       "        vertical-align: middle;\n",
       "    }\n",
       "\n",
       "    .dataframe tbody tr th {\n",
       "        vertical-align: top;\n",
       "    }\n",
       "\n",
       "    .dataframe thead th {\n",
       "        text-align: right;\n",
       "    }\n",
       "</style>\n",
       "<table border=\"1\" class=\"dataframe\">\n",
       "  <thead>\n",
       "    <tr style=\"text-align: right;\">\n",
       "      <th></th>\n",
       "      <th>Unnamed: 0</th>\n",
       "      <th>body</th>\n",
       "      <th>Subjectivity</th>\n",
       "      <th>Polarity</th>\n",
       "      <th>Analysis</th>\n",
       "    </tr>\n",
       "  </thead>\n",
       "  <tbody>\n",
       "    <tr>\n",
       "      <th>0</th>\n",
       "      <td>0</td>\n",
       "      <td>woman claims said insults, bystanders didnt. t...</td>\n",
       "      <td>0.843750</td>\n",
       "      <td>-0.322917</td>\n",
       "      <td>Negative</td>\n",
       "    </tr>\n",
       "    <tr>\n",
       "      <th>1</th>\n",
       "      <td>1</td>\n",
       "      <td>turkey doesn't know balkans.</td>\n",
       "      <td>0.000000</td>\n",
       "      <td>0.000000</td>\n",
       "      <td>Neutral</td>\n",
       "    </tr>\n",
       "    <tr>\n",
       "      <th>2</th>\n",
       "      <td>2</td>\n",
       "      <td>lot talk turkey</td>\n",
       "      <td>0.000000</td>\n",
       "      <td>0.000000</td>\n",
       "      <td>Neutral</td>\n",
       "    </tr>\n",
       "    <tr>\n",
       "      <th>3</th>\n",
       "      <td>3</td>\n",
       "      <td>don't like ruling party turkey. it's turkish p...</td>\n",
       "      <td>0.000000</td>\n",
       "      <td>0.000000</td>\n",
       "      <td>Neutral</td>\n",
       "    </tr>\n",
       "    <tr>\n",
       "      <th>4</th>\n",
       "      <td>4</td>\n",
       "      <td>create confusion absolute numbers. ~0.01 popul...</td>\n",
       "      <td>0.423384</td>\n",
       "      <td>-0.020833</td>\n",
       "      <td>Negative</td>\n",
       "    </tr>\n",
       "  </tbody>\n",
       "</table>\n",
       "</div>"
      ],
      "text/plain": [
       "   Unnamed: 0                                               body  \\\n",
       "0           0  woman claims said insults, bystanders didnt. t...   \n",
       "1           1                       turkey doesn't know balkans.   \n",
       "2           2                                    lot talk turkey   \n",
       "3           3  don't like ruling party turkey. it's turkish p...   \n",
       "4           4  create confusion absolute numbers. ~0.01 popul...   \n",
       "\n",
       "   Subjectivity  Polarity  Analysis  \n",
       "0      0.843750 -0.322917  Negative  \n",
       "1      0.000000  0.000000   Neutral  \n",
       "2      0.000000  0.000000   Neutral  \n",
       "3      0.000000  0.000000   Neutral  \n",
       "4      0.423384 -0.020833  Negative  "
      ]
     },
     "execution_count": 3,
     "metadata": {},
     "output_type": "execute_result"
    }
   ],
   "source": [
    "train_data.head()"
   ]
  },
  {
   "cell_type": "code",
   "execution_count": 4,
   "metadata": {},
   "outputs": [],
   "source": [
    "# calculate word count of each sentence\n",
    "train_data['word_counter'] = train_data['body'].apply(lambda x:len(str(x).split())) "
   ]
  },
  {
   "cell_type": "code",
   "execution_count": 5,
   "metadata": {},
   "outputs": [
    {
     "name": "stdout",
     "output_type": "stream",
     "text": [
      "Info about training data:\n",
      "Positive    34026\n",
      "Negative    21331\n",
      "Neutral     16463\n",
      "Name: Analysis, dtype: int64\n",
      "Total comments:  71820\n"
     ]
    }
   ],
   "source": [
    "print('Info about training data:')\n",
    "print(train_data['Analysis'].value_counts())\n",
    "print('Total comments: ', len(train_data))\n",
    "\n",
    "max_train_sentence_length  = train_data['word_counter'].max()"
   ]
  },
  {
   "cell_type": "code",
   "execution_count": 6,
   "metadata": {},
   "outputs": [
    {
     "name": "stdout",
     "output_type": "stream",
     "text": [
      "Train Max Sentence Length :3263\n"
     ]
    }
   ],
   "source": [
    "# will be used for padding\n",
    "print('Train Max Sentence Length :'+str(max_train_sentence_length))"
   ]
  },
  {
   "cell_type": "code",
   "execution_count": 8,
   "metadata": {},
   "outputs": [
    {
     "name": "stdout",
     "output_type": "stream",
     "text": [
      "[[75, 127, 526, 2725]]\n"
     ]
    }
   ],
   "source": [
    "# consider 30k comments\n",
    "num_words = 30000\n",
    "\n",
    "# convert texts to number format - for tensorflow.\n",
    "\n",
    "tokenizer = Tokenizer(num_words=num_words,oov_token=\"unk\")\n",
    "tokenizer.fit_on_texts(train_data['body'].values.astype(str).tolist())\n",
    "\n",
    "print(str(tokenizer.texts_to_sequences(['this is a test'])))"
   ]
  },
  {
   "cell_type": "code",
   "execution_count": 9,
   "metadata": {},
   "outputs": [],
   "source": [
    "# splitting train and test data\n",
    "X_train, X_test, y_train, y_test = train_test_split(train_data['body'],\\\n",
    "                                                      train_data['Analysis'],\\\n",
    "                                                      test_size=0.1,\\\n",
    "                                                      random_state=0)"
   ]
  },
  {
   "cell_type": "code",
   "execution_count": 10,
   "metadata": {},
   "outputs": [
    {
     "name": "stderr",
     "output_type": "stream",
     "text": [
      "<ipython-input-10-52717cdf9361>:2: VisibleDeprecationWarning: Creating an ndarray from ragged nested sequences (which is a list-or-tuple of lists-or-tuples-or ndarrays with different lengths or shapes) is deprecated. If you meant to do this, you must specify 'dtype=object' when creating the ndarray\n",
      "  x_train = np.array( tokenizer.texts_to_sequences(X_train.values.astype(str)) )\n",
      "<ipython-input-10-52717cdf9361>:3: VisibleDeprecationWarning: Creating an ndarray from ragged nested sequences (which is a list-or-tuple of lists-or-tuples-or ndarrays with different lengths or shapes) is deprecated. If you meant to do this, you must specify 'dtype=object' when creating the ndarray\n",
      "  x_test  = np.array( tokenizer.texts_to_sequences(X_test.values.astype(str)) )\n"
     ]
    }
   ],
   "source": [
    "# text-to-number\n",
    "x_train = np.array( tokenizer.texts_to_sequences(X_train.values.astype(str)) )\n",
    "x_test  = np.array( tokenizer.texts_to_sequences(X_test.values.astype(str)) )"
   ]
  },
  {
   "cell_type": "code",
   "execution_count": 11,
   "metadata": {},
   "outputs": [],
   "source": [
    "# we get different length sentences after tokenizer.\n",
    "# we need fixed size vectors. so padding is applied.\n",
    "# max length of a sentence was given above. it was 3263.\n",
    "# here we are taking maxlen=256 and applying padding (256 selected for computational cost)\n",
    "x_train = pad_sequences(x_train, padding='post', maxlen=256)\n",
    "x_test = pad_sequences(x_test, padding='post', maxlen=256)"
   ]
  },
  {
   "cell_type": "code",
   "execution_count": 12,
   "metadata": {},
   "outputs": [
    {
     "data": {
      "text/plain": [
       "['Negative', 'Neutral', 'Positive']"
      ]
     },
     "execution_count": 12,
     "metadata": {},
     "output_type": "execute_result"
    }
   ],
   "source": [
    "# label encoding: 'positive', 'negative' and 'neutral' is converted to number format.\n",
    "le = LabelEncoder()\n",
    "\n",
    "train_labels = le.fit_transform(y_train)\n",
    "train_labels = np.asarray( tf.keras.utils.to_categorical(train_labels))\n",
    "\n",
    "test_labels = le.transform(y_test)\n",
    "test_labels = np.asarray(tf.keras.utils.to_categorical(test_labels))\n",
    "list(le.classes_)"
   ]
  },
  {
   "cell_type": "code",
   "execution_count": 13,
   "metadata": {},
   "outputs": [],
   "source": [
    "#train_ds = tf.data.Dataset.from_tensor_slices((x_train,train_labels))\n",
    "#test_ds = tf.data.Dataset.from_tensor_slices((x_test,test_labels))"
   ]
  },
  {
   "cell_type": "code",
   "execution_count": 14,
   "metadata": {
    "scrolled": true
   },
   "outputs": [
    {
     "name": "stdout",
     "output_type": "stream",
     "text": [
      "57259    Negative\n",
      "14501    Positive\n",
      "22125     Neutral\n",
      "7844     Positive\n",
      "30747    Negative\n",
      "18970    Positive\n",
      "13870     Neutral\n",
      "56432    Negative\n",
      "51771    Negative\n",
      "63354    Positive\n",
      "Name: Analysis, dtype: object\n",
      "Text to number\n",
      "[0 2 1 2 0 2 1 0 0 2]\n",
      "Number to category\n",
      "[[1. 0. 0.]\n",
      " [0. 0. 1.]\n",
      " [0. 1. 0.]\n",
      " [0. 0. 1.]\n",
      " [1. 0. 0.]\n",
      " [0. 0. 1.]\n",
      " [0. 1. 0.]\n",
      " [1. 0. 0.]\n",
      " [1. 0. 0.]\n",
      " [0. 0. 1.]]\n"
     ]
    }
   ],
   "source": [
    "# Details for label encoding process\n",
    "print(y_train[:10])\n",
    "train_labels = le.fit_transform(y_train)\n",
    "print('Text to number')\n",
    "print(train_labels[:10])\n",
    "train_labels = np.asarray( tf.keras.utils.to_categorical(train_labels))\n",
    "print('Number to category')\n",
    "print(train_labels[:10])"
   ]
  },
  {
   "cell_type": "code",
   "execution_count": 22,
   "metadata": {},
   "outputs": [
    {
     "name": "stdout",
     "output_type": "stream",
     "text": [
      "Model: \"sequential_2\"\n",
      "_________________________________________________________________\n",
      "Layer (type)                 Output Shape              Param #   \n",
      "=================================================================\n",
      "embedding_2 (Embedding)      (None, 256, 64)           1920000   \n",
      "_________________________________________________________________\n",
      "lstm_2 (LSTM)                (None, 256, 64)           33024     \n",
      "_________________________________________________________________\n",
      "flatten_1 (Flatten)          (None, 16384)             0         \n",
      "_________________________________________________________________\n",
      "dense_4 (Dense)              (None, 512)               8389120   \n",
      "_________________________________________________________________\n",
      "dropout_2 (Dropout)          (None, 512)               0         \n",
      "_________________________________________________________________\n",
      "dense_5 (Dense)              (None, 8)                 4104      \n",
      "_________________________________________________________________\n",
      "dropout_3 (Dropout)          (None, 8)                 0         \n",
      "_________________________________________________________________\n",
      "dense_6 (Dense)              (None, 3)                 27        \n",
      "=================================================================\n",
      "Total params: 10,346,275\n",
      "Trainable params: 10,346,275\n",
      "Non-trainable params: 0\n",
      "_________________________________________________________________\n"
     ]
    }
   ],
   "source": [
    "# looking for top 30k comments\n",
    "max_features = 30000\n",
    "\n",
    "#every index is represented by 64 dimensional vector\n",
    "embedding_dim =64\n",
    "\n",
    "#each input has 256 dimension\n",
    "sequence_length = 256\n",
    "\n",
    "model = tf.keras.Sequential()\n",
    "\n",
    "# first layer is embedding layer.\n",
    "model.add(tf.keras.layers.Embedding(max_features, embedding_dim, input_length=sequence_length,\\\n",
    "                                   embeddings_regularizer = regularizers.l2(0.0005)))     \n",
    "\n",
    "#model.add(tf.keras.layers.LSTM(64, dropout=0.1, return_sequences=True))\n",
    "#model.add(tf.keras.layers.Dense(3))\n",
    "\n",
    "#model.add(tf.keras.layers.Dropout(0.4))\n",
    "\n",
    "model.add(tf.keras.layers.LSTM(embedding_dim,dropout=0.2, recurrent_dropout=0.2,return_sequences=True,\\\n",
    "                                                            kernel_regularizer=regularizers.l2(0.005),\\\n",
    "                                                            bias_regularizer=regularizers.l2(0.005)))\n",
    "\n",
    "model.add(tf.keras.layers.Flatten())\n",
    "\n",
    "model.add(tf.keras.layers.Dense(512, activation='relu',\\\n",
    "                                kernel_regularizer=regularizers.l2(0.001),\\\n",
    "                                bias_regularizer=regularizers.l2(0.001),))\n",
    "model.add(tf.keras.layers.Dropout(0.4))\n",
    "\n",
    "model.add(tf.keras.layers.Dense(8, activation='relu',\\\n",
    "                                kernel_regularizer=regularizers.l2(0.001),\\\n",
    "                                bias_regularizer=regularizers.l2(0.001),))\n",
    "model.add(tf.keras.layers.Dropout(0.4))\n",
    "\n",
    "\n",
    "model.add(tf.keras.layers.Dense(3,activation='softmax',\\\n",
    "                                kernel_regularizer=regularizers.l2(0.001),\\\n",
    "                                bias_regularizer=regularizers.l2(0.001)))\n",
    "\n",
    "model.summary()\n",
    "model.compile(loss=tf.keras.losses.CategoricalCrossentropy(),optimizer=tf.keras.optimizers.Adam(1e-3),metrics=[\"CategoricalAccuracy\", AUC(name='auc')])"
   ]
  },
  {
   "cell_type": "code",
   "execution_count": 23,
   "metadata": {},
   "outputs": [
    {
     "data": {
      "text/plain": [
       "(7182, 256)"
      ]
     },
     "execution_count": 23,
     "metadata": {},
     "output_type": "execute_result"
    }
   ],
   "source": [
    "x_test.shape"
   ]
  },
  {
   "cell_type": "code",
   "execution_count": 24,
   "metadata": {},
   "outputs": [
    {
     "data": {
      "text/plain": [
       "(7182, 3)"
      ]
     },
     "execution_count": 24,
     "metadata": {},
     "output_type": "execute_result"
    }
   ],
   "source": [
    "test_labels.shape"
   ]
  },
  {
   "cell_type": "code",
   "execution_count": 25,
   "metadata": {
    "scrolled": false
   },
   "outputs": [
    {
     "name": "stdout",
     "output_type": "stream",
     "text": [
      "Epoch 1/10\n",
      "2020/2020 [==============================] - 340s 167ms/step - loss: 1.2532 - categorical_accuracy: 0.5736 - auc: 0.7715 - val_loss: 0.7896 - val_categorical_accuracy: 0.6763 - val_auc: 0.8730\n",
      "Epoch 2/10\n",
      "2020/2020 [==============================] - 350s 173ms/step - loss: 0.8423 - categorical_accuracy: 0.6581 - auc: 0.8539 - val_loss: 0.7677 - val_categorical_accuracy: 0.6845 - val_auc: 0.8875\n",
      "Epoch 3/10\n",
      "2020/2020 [==============================] - 338s 168ms/step - loss: 0.7846 - categorical_accuracy: 0.6723 - auc: 0.8735 - val_loss: 0.7559 - val_categorical_accuracy: 0.7605 - val_auc: 0.9026\n",
      "Epoch 4/10\n",
      "2020/2020 [==============================] - 339s 168ms/step - loss: 0.7554 - categorical_accuracy: 0.7077 - auc: 0.8866 - val_loss: 0.6847 - val_categorical_accuracy: 0.7925 - val_auc: 0.9224\n",
      "Epoch 5/10\n",
      "2020/2020 [==============================] - 356s 176ms/step - loss: 0.7418 - categorical_accuracy: 0.7295 - auc: 0.8958 - val_loss: 0.6594 - val_categorical_accuracy: 0.8047 - val_auc: 0.9276\n",
      "Epoch 6/10\n",
      "2020/2020 [==============================] - 387s 192ms/step - loss: 0.7217 - categorical_accuracy: 0.7433 - auc: 0.9032 - val_loss: 0.6463 - val_categorical_accuracy: 0.8109 - val_auc: 0.9278\n",
      "Epoch 7/10\n",
      "2020/2020 [==============================] - 377s 187ms/step - loss: 0.7129 - categorical_accuracy: 0.7492 - auc: 0.9053 - val_loss: 0.6416 - val_categorical_accuracy: 0.8187 - val_auc: 0.9341\n",
      "Epoch 8/10\n",
      "2020/2020 [==============================] - 395s 195ms/step - loss: 0.7043 - categorical_accuracy: 0.7549 - auc: 0.9096 - val_loss: 0.6237 - val_categorical_accuracy: 0.8234 - val_auc: 0.9385\n",
      "Epoch 9/10\n",
      "2020/2020 [==============================] - 398s 197ms/step - loss: 0.7134 - categorical_accuracy: 0.7559 - auc: 0.9087 - val_loss: 0.6153 - val_categorical_accuracy: 0.8144 - val_auc: 0.9365\n",
      "Epoch 10/10\n",
      "2020/2020 [==============================] - 386s 191ms/step - loss: 0.7033 - categorical_accuracy: 0.7631 - auc: 0.9138 - val_loss: 0.6141 - val_categorical_accuracy: 0.8315 - val_auc: 0.9424\n"
     ]
    }
   ],
   "source": [
    "# Training model\n",
    "epochs = 10\n",
    "# Fit the model using the train and test datasets.\n",
    "#history = model.fit(x_train, train_labels,validation_data= (x_test,test_labels),epochs=epochs )\n",
    "history = model.fit(x_train,\n",
    "                    train_labels,\n",
    "                    epochs= epochs,\n",
    "                    validation_data=(x_test, test_labels),\n",
    "                    verbose=1)"
   ]
  },
  {
   "cell_type": "code",
   "execution_count": 26,
   "metadata": {},
   "outputs": [
    {
     "data": {
      "image/png": "[encoded data removed]",
      "text/plain": [
       "<Figure size 432x288 with 1 Axes>"
      ]
     },
     "metadata": {
      "needs_background": "light"
     },
     "output_type": "display_data"
    }
   ],
   "source": [
    "plt.plot(history.history['loss'], label=' training data')\n",
    "plt.plot(history.history['val_loss'], label='validation data)')\n",
    "plt.title('Loss for Text Classification')\n",
    "plt.ylabel('Loss value')\n",
    "plt.xlabel('No. epoch')\n",
    "plt.legend(loc=\"upper left\")\n",
    "plt.show()"
   ]
  },
  {
   "cell_type": "code",
   "execution_count": 27,
   "metadata": {},
   "outputs": [
    {
     "data": {
      "image/png": "[encoded data removed]",
      "text/plain": [
       "<Figure size 432x288 with 1 Axes>"
      ]
     },
     "metadata": {
      "needs_background": "light"
     },
     "output_type": "display_data"
    }
   ],
   "source": [
    "plt.plot(history.history['auc'], label=' Training AUC')\n",
    "plt.plot(history.history['val_auc'], label='Validation AUC)')\n",
    "plt.title('AUC Evaluation')\n",
    "plt.ylabel('AUC')\n",
    "plt.xlabel('No. epoch')\n",
    "plt.legend(loc=\"upper left\")\n",
    "plt.show()"
   ]
  },
  {
   "cell_type": "code",
   "execution_count": 28,
   "metadata": {},
   "outputs": [
    {
     "data": {
      "text/plain": [
       "58787    old news based kktc’s president said. afaik (o...\n",
       "16737    words \"turkey doesn't want follow unclos inven...\n",
       "27353       thought turk guys ok posts turkey /r/europe :d\n",
       "62209    true. tides shift comes time slaughtered disag...\n",
       "40789    thanks do, mate. mission seek help reddit prev...\n",
       "                               ...                        \n",
       "24478    didn't send them, let go. huge difference lett...\n",
       "30753    [so, addresses \"what simply refuse import will...\n",
       "9977     turkey arrested right? highest number journali...\n",
       "7303     doesn't story baltics analogous cyprus. popula...\n",
       "32862    isn't co2 tax, alternative bar lpg. turkey hug...\n",
       "Name: body, Length: 7182, dtype: object"
      ]
     },
     "execution_count": 28,
     "metadata": {},
     "output_type": "execute_result"
    }
   ],
   "source": [
    "X_test"
   ]
  },
  {
   "cell_type": "code",
   "execution_count": 31,
   "metadata": {},
   "outputs": [
    {
     "name": "stderr",
     "output_type": "stream",
     "text": [
      "<ipython-input-31-1bce84296b7e>:1: VisibleDeprecationWarning: Creating an ndarray from ragged nested sequences (which is a list-or-tuple of lists-or-tuples-or ndarrays with different lengths or shapes) is deprecated. If you meant to do this, you must specify 'dtype=object' when creating the ndarray\n",
      "  x_test2  = np.array( tokenizer.texts_to_sequences(X_test.astype(str).tolist()) )\n"
     ]
    }
   ],
   "source": [
    "x_test2  = np.array( tokenizer.texts_to_sequences(X_test.astype(str).tolist()) )\n",
    "x_test2 = pad_sequences(x_test2, padding='post', maxlen=256)"
   ]
  },
  {
   "cell_type": "code",
   "execution_count": 32,
   "metadata": {},
   "outputs": [
    {
     "name": "stdout",
     "output_type": "stream",
     "text": [
      "Generate predictions for all samples\n"
     ]
    },
    {
     "data": {
      "text/plain": [
       "array([2, 2, 2, ..., 2, 2, 2], dtype=int64)"
      ]
     },
     "execution_count": 32,
     "metadata": {},
     "output_type": "execute_result"
    }
   ],
   "source": [
    "# Generate predictions (probabilities -- the output of the last layer)\n",
    "# on test  data using `predict`\n",
    "print(\"Generate predictions for all samples\")\n",
    "y_predictions = model.predict(x_test2)\n",
    "y_pred = y_predictions.argmax(axis=1)\n",
    "y_pred"
   ]
  },
  {
   "cell_type": "code",
   "execution_count": 33,
   "metadata": {},
   "outputs": [
    {
     "data": {
      "text/plain": [
       "58787    Negative\n",
       "16737    Positive\n",
       "27353    Positive\n",
       "62209    Negative\n",
       "40789    Positive\n",
       "           ...   \n",
       "24478    Negative\n",
       "30753    Positive\n",
       "9977     Positive\n",
       "7303     Positive\n",
       "32862    Positive\n",
       "Name: Analysis, Length: 7182, dtype: object"
      ]
     },
     "execution_count": 33,
     "metadata": {},
     "output_type": "execute_result"
    }
   ],
   "source": [
    "y_test.shape\n",
    "y_test"
   ]
  },
  {
   "cell_type": "code",
   "execution_count": 34,
   "metadata": {},
   "outputs": [],
   "source": [
    "y_pred = np.where((y_pred == 0),'Negative',y_pred)\n",
    "y_pred = np.where((y_pred == '1'),'Neutral',y_pred)\n",
    "y_pred = np.where((y_pred == '2'),'Positive',y_pred)"
   ]
  },
  {
   "cell_type": "code",
   "execution_count": 35,
   "metadata": {},
   "outputs": [
    {
     "name": "stdout",
     "output_type": "stream",
     "text": [
      "              precision    recall  f1-score   support\n",
      "\n",
      "    Positive       0.81      0.90      0.86      3426\n",
      "    Negative       0.76      0.67      0.71      2097\n",
      "     Neutral       0.95      0.89      0.92      1659\n",
      "\n",
      "    accuracy                           0.83      7182\n",
      "   macro avg       0.84      0.82      0.83      7182\n",
      "weighted avg       0.83      0.83      0.83      7182\n",
      "\n"
     ]
    }
   ],
   "source": [
    "labels = ['Positive', 'Negative','Neutral']\n",
    "print(classification_report(y_test, y_pred, labels=labels))"
   ]
  },
  {
   "cell_type": "code",
   "execution_count": null,
   "metadata": {},
   "outputs": [],
   "source": []
  }
 ],
 "metadata": {
  "kernelspec": {
   "display_name": "Python 3",
   "language": "python",
   "name": "python3"
  },
  "language_info": {
   "codemirror_mode": {
    "name": "ipython",
    "version": 3
   },
   "file_extension": ".py",
   "mimetype": "text/x-python",
   "name": "python",
   "nbconvert_exporter": "python",
   "pygments_lexer": "ipython3",
   "version": "3.8.5"
  }
 },
 "nbformat": 4,
 "nbformat_minor": 4
}
