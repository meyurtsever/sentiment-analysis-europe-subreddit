{
 "cells": [
  {
   "cell_type": "code",
   "execution_count": null,
   "metadata": {
    "id": "hPmN78CTAbwl"
   },
   "outputs": [],
   "source": [
    "import pandas as pd\n",
    "import numpy as np\n",
    "\n",
    "import tensorflow as tf\n",
    "\n",
    "import matplotlib.pyplot as plt\n",
    "\n",
    "from tensorflow.keras import regularizers\n",
    "from tensorflow.keras import layers\n",
    "from tensorflow.keras import losses\n",
    "\n",
    "from tensorflow.keras.metrics import AUC\n",
    "\n",
    "from sklearn.feature_extraction.text import TfidfVectorizer\n",
    "from sklearn.model_selection import train_test_split\n",
    "from sklearn.preprocessing import LabelEncoder\n",
    "from sklearn.metrics import accuracy_score, f1_score, precision_score, recall_score, classification_report, confusion_matrix, matthews_corrcoef, roc_curve, auc, roc_auc_score\n",
    "\n",
    "\n",
    "from tensorflow.keras.preprocessing.text import Tokenizer\n",
    "from tensorflow.keras.preprocessing.sequence import pad_sequences"
   ]
  },
  {
   "cell_type": "code",
   "execution_count": null,
   "metadata": {
    "colab": {
     "base_uri": "https://localhost:8080/"
    },
    "id": "Bs8i6Hixg17r",
    "outputId": "9974adc8-832d-4d19-9616-d16b40265329"
   },
   "outputs": [
    {
     "name": "stdout",
     "output_type": "stream",
     "text": [
      "Mounted at /content/drive\n"
     ]
    }
   ],
   "source": [
    "from google.colab import drive\n",
    "drive.mount('/content/drive')"
   ]
  },
  {
   "cell_type": "code",
   "execution_count": null,
   "metadata": {
    "id": "pzyvCnXsAbwq"
   },
   "outputs": [],
   "source": [
    "train_data= pd.read_csv(\"/content/drive/MyDrive/metin_madenciligi_proje/preprocessed_european_comments.csv\")"
   ]
  },
  {
   "cell_type": "code",
   "execution_count": null,
   "metadata": {
    "colab": {
     "base_uri": "https://localhost:8080/",
     "height": 195
    },
    "id": "4p7mFR3MAbwr",
    "outputId": "88bb79e6-96a8-497a-f523-4eda7c8e8caf"
   },
   "outputs": [
    {
     "data": {
      "text/html": [
       "<div>\n",
       "<style scoped>\n",
       "    .dataframe tbody tr th:only-of-type {\n",
       "        vertical-align: middle;\n",
       "    }\n",
       "\n",
       "    .dataframe tbody tr th {\n",
       "        vertical-align: top;\n",
       "    }\n",
       "\n",
       "    .dataframe thead th {\n",
       "        text-align: right;\n",
       "    }\n",
       "</style>\n",
       "<table border=\"1\" class=\"dataframe\">\n",
       "  <thead>\n",
       "    <tr style=\"text-align: right;\">\n",
       "      <th></th>\n",
       "      <th>Unnamed: 0</th>\n",
       "      <th>body</th>\n",
       "      <th>Subjectivity</th>\n",
       "      <th>Polarity</th>\n",
       "      <th>Analysis</th>\n",
       "    </tr>\n",
       "  </thead>\n",
       "  <tbody>\n",
       "    <tr>\n",
       "      <th>0</th>\n",
       "      <td>0</td>\n",
       "      <td>woman claims said insults, bystanders didnt. t...</td>\n",
       "      <td>0.843750</td>\n",
       "      <td>-0.322917</td>\n",
       "      <td>Negative</td>\n",
       "    </tr>\n",
       "    <tr>\n",
       "      <th>1</th>\n",
       "      <td>1</td>\n",
       "      <td>turkey doesn't know balkans.</td>\n",
       "      <td>0.000000</td>\n",
       "      <td>0.000000</td>\n",
       "      <td>Neutral</td>\n",
       "    </tr>\n",
       "    <tr>\n",
       "      <th>2</th>\n",
       "      <td>2</td>\n",
       "      <td>lot talk turkey</td>\n",
       "      <td>0.000000</td>\n",
       "      <td>0.000000</td>\n",
       "      <td>Neutral</td>\n",
       "    </tr>\n",
       "    <tr>\n",
       "      <th>3</th>\n",
       "      <td>3</td>\n",
       "      <td>don't like ruling party turkey. it's turkish p...</td>\n",
       "      <td>0.000000</td>\n",
       "      <td>0.000000</td>\n",
       "      <td>Neutral</td>\n",
       "    </tr>\n",
       "    <tr>\n",
       "      <th>4</th>\n",
       "      <td>4</td>\n",
       "      <td>create confusion absolute numbers. ~0.01 popul...</td>\n",
       "      <td>0.423384</td>\n",
       "      <td>-0.020833</td>\n",
       "      <td>Negative</td>\n",
       "    </tr>\n",
       "  </tbody>\n",
       "</table>\n",
       "</div>"
      ],
      "text/plain": [
       "   Unnamed: 0  ...  Analysis\n",
       "0           0  ...  Negative\n",
       "1           1  ...   Neutral\n",
       "2           2  ...   Neutral\n",
       "3           3  ...   Neutral\n",
       "4           4  ...  Negative\n",
       "\n",
       "[5 rows x 5 columns]"
      ]
     },
     "execution_count": 3,
     "metadata": {
      "tags": []
     },
     "output_type": "execute_result"
    }
   ],
   "source": [
    "train_data.head()"
   ]
  },
  {
   "cell_type": "code",
   "execution_count": null,
   "metadata": {
    "id": "esG62LciAbws"
   },
   "outputs": [],
   "source": [
    "# calculate word count of each sentence\n",
    "train_data['word_counter'] = train_data['body'].apply(lambda x:len(str(x).split())) "
   ]
  },
  {
   "cell_type": "code",
   "execution_count": null,
   "metadata": {
    "colab": {
     "base_uri": "https://localhost:8080/"
    },
    "id": "fgL6NiUJAbws",
    "outputId": "7aa8e2d4-daf4-40ce-8709-57462b03d675"
   },
   "outputs": [
    {
     "name": "stdout",
     "output_type": "stream",
     "text": [
      "Info about training data:\n",
      "Positive    34026\n",
      "Negative    21331\n",
      "Neutral     16463\n",
      "Name: Analysis, dtype: int64\n",
      "Total comments:  71820\n"
     ]
    }
   ],
   "source": [
    "print('Info about training data:')\n",
    "print(train_data['Analysis'].value_counts())\n",
    "print('Total comments: ', len(train_data))\n",
    "\n",
    "# will be used in cnn\n",
    "max_train_sentence_length  = train_data['word_counter'].max()"
   ]
  },
  {
   "cell_type": "code",
   "execution_count": null,
   "metadata": {
    "colab": {
     "base_uri": "https://localhost:8080/"
    },
    "id": "NLryq0puAbws",
    "outputId": "9066d703-66c9-437d-ed63-065cbd429935"
   },
   "outputs": [
    {
     "name": "stdout",
     "output_type": "stream",
     "text": [
      "Train Max Sentence Length :3263\n"
     ]
    }
   ],
   "source": [
    "# will be used for padding\n",
    "print('Train Max Sentence Length :'+str(max_train_sentence_length))"
   ]
  },
  {
   "cell_type": "code",
   "execution_count": null,
   "metadata": {
    "colab": {
     "base_uri": "https://localhost:8080/"
    },
    "id": "q5GUz_XUAbwt",
    "outputId": "3402f08b-565c-408c-e569-5bb2d1269600"
   },
   "outputs": [
    {
     "name": "stdout",
     "output_type": "stream",
     "text": [
      "[[75, 127, 526, 2725]]\n"
     ]
    }
   ],
   "source": [
    "# consider 30k comments\n",
    "num_words = 30000\n",
    "\n",
    "# convert texts to number format - for tensorflow.\n",
    "\n",
    "tokenizer = Tokenizer(num_words=num_words,oov_token=\"unk\")\n",
    "tokenizer.fit_on_texts(train_data['body'].values.astype(str).tolist())\n",
    "\n",
    "print(str(tokenizer.texts_to_sequences(['this is a test'])))"
   ]
  },
  {
   "cell_type": "code",
   "execution_count": null,
   "metadata": {
    "id": "HHJ1SY0KAbwt"
   },
   "outputs": [],
   "source": [
    "# splitting train and test data\n",
    "X_train, X_test, y_train, y_test = train_test_split(train_data['body'],\\\n",
    "                                                      train_data['Analysis'],\\\n",
    "                                                      test_size=0.1,\\\n",
    "                                                      random_state=0)"
   ]
  },
  {
   "cell_type": "code",
   "execution_count": null,
   "metadata": {
    "colab": {
     "base_uri": "https://localhost:8080/"
    },
    "id": "W1yMn2goAbwt",
    "outputId": "de794191-bf5d-4033-a346-37e36f11fa6d"
   },
   "outputs": [
    {
     "name": "stderr",
     "output_type": "stream",
     "text": [
      "/usr/local/lib/python3.6/dist-packages/ipykernel_launcher.py:2: VisibleDeprecationWarning: Creating an ndarray from ragged nested sequences (which is a list-or-tuple of lists-or-tuples-or ndarrays with different lengths or shapes) is deprecated. If you meant to do this, you must specify 'dtype=object' when creating the ndarray\n",
      "  \n",
      "/usr/local/lib/python3.6/dist-packages/ipykernel_launcher.py:3: VisibleDeprecationWarning: Creating an ndarray from ragged nested sequences (which is a list-or-tuple of lists-or-tuples-or ndarrays with different lengths or shapes) is deprecated. If you meant to do this, you must specify 'dtype=object' when creating the ndarray\n",
      "  This is separate from the ipykernel package so we can avoid doing imports until\n"
     ]
    }
   ],
   "source": [
    "# text-to-number\n",
    "x_train = np.array( tokenizer.texts_to_sequences(X_train.values.astype(str)) )\n",
    "x_test  = np.array( tokenizer.texts_to_sequences(X_test.values.astype(str)) )"
   ]
  },
  {
   "cell_type": "code",
   "execution_count": null,
   "metadata": {
    "id": "tarCflg4Abwu"
   },
   "outputs": [],
   "source": [
    "# we get different length sentences after tokenizer.\n",
    "# we need fixed size vectors. so padding is applied.\n",
    "# max length of a sentence was given above. it was 3263.\n",
    "# here we are taking maxlen=256 and applying padding (256 selected for computational cost)\n",
    "x_train = pad_sequences(x_train, padding='post', maxlen=256)\n",
    "x_test = pad_sequences(x_test, padding='post', maxlen=256)"
   ]
  },
  {
   "cell_type": "code",
   "execution_count": null,
   "metadata": {
    "colab": {
     "base_uri": "https://localhost:8080/"
    },
    "id": "TJBwPnWBAbwu",
    "outputId": "d2890fcd-3bb6-47ec-e007-58ec73e910bd"
   },
   "outputs": [
    {
     "data": {
      "text/plain": [
       "(64638, 256)"
      ]
     },
     "execution_count": 11,
     "metadata": {
      "tags": []
     },
     "output_type": "execute_result"
    }
   ],
   "source": [
    "x_train.shape"
   ]
  },
  {
   "cell_type": "code",
   "execution_count": null,
   "metadata": {
    "colab": {
     "base_uri": "https://localhost:8080/"
    },
    "id": "wYw4VbI4Abwu",
    "outputId": "61676ac6-00bf-45b6-b22d-344ea266fa10"
   },
   "outputs": [
    {
     "data": {
      "text/plain": [
       "['Negative', 'Neutral', 'Positive']"
      ]
     },
     "execution_count": 12,
     "metadata": {
      "tags": []
     },
     "output_type": "execute_result"
    }
   ],
   "source": [
    "# label encoding: 'positive', 'negative' and 'neutral' is converted to number format.\n",
    "le = LabelEncoder()\n",
    "\n",
    "train_labels = le.fit_transform(y_train)\n",
    "train_labels = np.asarray( tf.keras.utils.to_categorical(train_labels))\n",
    "\n",
    "test_labels = le.transform(y_test)\n",
    "test_labels = np.asarray(tf.keras.utils.to_categorical(test_labels))\n",
    "list(le.classes_)"
   ]
  },
  {
   "cell_type": "code",
   "execution_count": null,
   "metadata": {
    "id": "PtHaEoGcAbwv"
   },
   "outputs": [],
   "source": [
    "train_ds = tf.data.Dataset.from_tensor_slices((x_train,train_labels))\n",
    "test_ds = tf.data.Dataset.from_tensor_slices((x_test,test_labels))"
   ]
  },
  {
   "cell_type": "code",
   "execution_count": null,
   "metadata": {
    "colab": {
     "base_uri": "https://localhost:8080/"
    },
    "id": "Rv-h8Ui2Abwv",
    "outputId": "ceffad14-6141-4efb-ddeb-422942500ced",
    "scrolled": true
   },
   "outputs": [
    {
     "name": "stdout",
     "output_type": "stream",
     "text": [
      "57259    Negative\n",
      "14501    Positive\n",
      "22125     Neutral\n",
      "7844     Positive\n",
      "30747    Negative\n",
      "18970    Positive\n",
      "13870     Neutral\n",
      "56432    Negative\n",
      "51771    Negative\n",
      "63354    Positive\n",
      "Name: Analysis, dtype: object\n",
      "Text to number\n",
      "[0 2 1 2 0 2 1 0 0 2]\n",
      "Number to category\n",
      "[[1. 0. 0.]\n",
      " [0. 0. 1.]\n",
      " [0. 1. 0.]\n",
      " [0. 0. 1.]\n",
      " [1. 0. 0.]\n",
      " [0. 0. 1.]\n",
      " [0. 1. 0.]\n",
      " [1. 0. 0.]\n",
      " [1. 0. 0.]\n",
      " [0. 0. 1.]]\n"
     ]
    }
   ],
   "source": [
    "# Details for label encoding process\n",
    "print(y_train[:10])\n",
    "train_labels = le.fit_transform(y_train)\n",
    "print('Text to number')\n",
    "print(train_labels[:10])\n",
    "train_labels = np.asarray( tf.keras.utils.to_categorical(train_labels))\n",
    "print('Number to category')\n",
    "print(train_labels[:10])"
   ]
  },
  {
   "cell_type": "code",
   "execution_count": null,
   "metadata": {
    "colab": {
     "base_uri": "https://localhost:8080/"
    },
    "id": "YrwMfWtMAbwv",
    "outputId": "5b8a726b-8a77-4d6e-a39a-ca5b29cffd6d"
   },
   "outputs": [
    {
     "name": "stdout",
     "output_type": "stream",
     "text": [
      "Model: \"sequential\"\n",
      "_________________________________________________________________\n",
      "Layer (type)                 Output Shape              Param #   \n",
      "=================================================================\n",
      "embedding (Embedding)        (None, 256, 64)           1920000   \n",
      "_________________________________________________________________\n",
      "conv1d (Conv1D)              (None, 254, 128)          24704     \n",
      "_________________________________________________________________\n",
      "global_max_pooling1d (Global (None, 128)               0         \n",
      "_________________________________________________________________\n",
      "dense (Dense)                (None, 3)                 387       \n",
      "=================================================================\n",
      "Total params: 1,945,091\n",
      "Trainable params: 1,945,091\n",
      "Non-trainable params: 0\n",
      "_________________________________________________________________\n"
     ]
    }
   ],
   "source": [
    "# Creating CNN Model\n",
    "\n",
    "# looking for top 30k comments\n",
    "max_features = 30000\n",
    "\n",
    "#every index is represented by 64 dimensional vector\n",
    "embedding_dim =64\n",
    "\n",
    "#each input has 256 dimension\n",
    "sequence_length = 256\n",
    "\n",
    "model = tf.keras.Sequential()\n",
    "\n",
    "# first layer is embedding layer.\n",
    "model.add(tf.keras.layers.Embedding(max_features, embedding_dim, input_length=sequence_length,\\\n",
    "                                    embeddings_regularizer = regularizers.l2(0.0005)))     \n",
    "\n",
    "# second is conv. layer.\n",
    "# 1-dimensional for texts (2D for images)\n",
    "# kernel_size = 3, looking for 3 words at a time (total of 256).\n",
    "model.add(tf.keras.layers.Conv1D(128, 3, activation='relu',\\\n",
    "                                 kernel_regularizer = regularizers.l2(0.0005),\\\n",
    "                                 bias_regularizer = regularizers.l2(0.0005))) \n",
    "\n",
    "# adding maxpooling after convolution layer.\n",
    "# feature map is reduced by half after max pooling.\n",
    "model.add(tf.keras.layers.GlobalMaxPooling1D())\n",
    "\n",
    "# final layer, fully connected dense layer.\n",
    "# 3 neurons for the output: possitive, negative and neutral.\n",
    "# regularizers prevent overfitting.\n",
    "model.add(tf.keras.layers.Dense(3, activation='softmax',\\\n",
    "                                kernel_regularizer=regularizers.l2(0.001),\\\n",
    "                                bias_regularizer=regularizers.l2(0.001),))\n",
    "                    \n",
    "model.summary()\n",
    "model.compile(loss=tf.keras.losses.CategoricalCrossentropy(from_logits=True), optimizer='Nadam', metrics=[\"CategoricalAccuracy\",  AUC(name='auc')])"
   ]
  },
  {
   "cell_type": "code",
   "execution_count": null,
   "metadata": {
    "id": "KGt-a0LtAbww",
    "outputId": "feefc4ef-4e73-4452-9bea-9df5b3751e27"
   },
   "outputs": [
    {
     "name": "stdout",
     "output_type": "stream",
     "text": [
      "Epoch 1/50\n",
      "505/505 [==============================] - 263s 519ms/step - loss: 0.8847 - categorical_accuracy: 0.6619 - val_loss: 0.4300 - val_categorical_accuracy: 0.8882\n",
      "Epoch 2/50\n",
      "505/505 [==============================] - 253s 500ms/step - loss: 0.4200 - categorical_accuracy: 0.8915 - val_loss: 0.4011 - val_categorical_accuracy: 0.9002\n",
      "Epoch 3/50\n",
      "505/505 [==============================] - 255s 506ms/step - loss: 0.3917 - categorical_accuracy: 0.9046 - val_loss: 0.3893 - val_categorical_accuracy: 0.9085\n",
      "Epoch 4/50\n",
      "505/505 [==============================] - 252s 500ms/step - loss: 0.3815 - categorical_accuracy: 0.9102 - val_loss: 0.3869 - val_categorical_accuracy: 0.9096\n",
      "Epoch 5/50\n",
      "505/505 [==============================] - 263s 522ms/step - loss: 0.3740 - categorical_accuracy: 0.9133 - val_loss: 0.3871 - val_categorical_accuracy: 0.9085\n",
      "Epoch 6/50\n",
      "505/505 [==============================] - 262s 518ms/step - loss: 0.3698 - categorical_accuracy: 0.9166 - val_loss: 0.3852 - val_categorical_accuracy: 0.9096\n",
      "Epoch 7/50\n",
      "505/505 [==============================] - 254s 503ms/step - loss: 0.3656 - categorical_accuracy: 0.9172 - val_loss: 0.3833 - val_categorical_accuracy: 0.9114\n",
      "Epoch 8/50\n",
      "505/505 [==============================] - 254s 504ms/step - loss: 0.3623 - categorical_accuracy: 0.9210 - val_loss: 0.3878 - val_categorical_accuracy: 0.9137\n",
      "Epoch 9/50\n",
      "505/505 [==============================] - 253s 500ms/step - loss: 0.3587 - categorical_accuracy: 0.9239 - val_loss: 0.3866 - val_categorical_accuracy: 0.9145\n",
      "Epoch 10/50\n",
      "505/505 [==============================] - 254s 502ms/step - loss: 0.3570 - categorical_accuracy: 0.9257 - val_loss: 0.3852 - val_categorical_accuracy: 0.9146\n",
      "Epoch 11/50\n",
      "505/505 [==============================] - 253s 501ms/step - loss: 0.3537 - categorical_accuracy: 0.9288 - val_loss: 0.3891 - val_categorical_accuracy: 0.9145\n",
      "Epoch 12/50\n",
      "505/505 [==============================] - 252s 499ms/step - loss: 0.3496 - categorical_accuracy: 0.9316 - val_loss: 0.3887 - val_categorical_accuracy: 0.9138\n",
      "Epoch 13/50\n",
      "505/505 [==============================] - 252s 499ms/step - loss: 0.3472 - categorical_accuracy: 0.9341 - val_loss: 0.3945 - val_categorical_accuracy: 0.9137\n",
      "Epoch 14/50\n",
      "505/505 [==============================] - 252s 498ms/step - loss: 0.3446 - categorical_accuracy: 0.9363 - val_loss: 0.3952 - val_categorical_accuracy: 0.9140\n",
      "Epoch 15/50\n",
      "505/505 [==============================] - 253s 501ms/step - loss: 0.3412 - categorical_accuracy: 0.9401 - val_loss: 0.4003 - val_categorical_accuracy: 0.9121\n",
      "Epoch 16/50\n",
      "505/505 [==============================] - 253s 500ms/step - loss: 0.3384 - categorical_accuracy: 0.9425 - val_loss: 0.4011 - val_categorical_accuracy: 0.9153\n",
      "Epoch 17/50\n",
      "505/505 [==============================] - 253s 501ms/step - loss: 0.3348 - categorical_accuracy: 0.9457 - val_loss: 0.4074 - val_categorical_accuracy: 0.9134\n",
      "Epoch 18/50\n",
      "505/505 [==============================] - 252s 500ms/step - loss: 0.3338 - categorical_accuracy: 0.9473 - val_loss: 0.4101 - val_categorical_accuracy: 0.9103\n",
      "Epoch 19/50\n",
      "505/505 [==============================] - 252s 498ms/step - loss: 0.3311 - categorical_accuracy: 0.9500 - val_loss: 0.4112 - val_categorical_accuracy: 0.9112\n",
      "Epoch 20/50\n",
      "505/505 [==============================] - 252s 499ms/step - loss: 0.3299 - categorical_accuracy: 0.9501 - val_loss: 0.4116 - val_categorical_accuracy: 0.9106\n",
      "Epoch 21/50\n",
      "505/505 [==============================] - 251s 497ms/step - loss: 0.3281 - categorical_accuracy: 0.9531 - val_loss: 0.4150 - val_categorical_accuracy: 0.9105\n",
      "Epoch 22/50\n",
      "505/505 [==============================] - 252s 500ms/step - loss: 0.3264 - categorical_accuracy: 0.9547 - val_loss: 0.4166 - val_categorical_accuracy: 0.9082\n",
      "Epoch 23/50\n",
      "505/505 [==============================] - 251s 498ms/step - loss: 0.3265 - categorical_accuracy: 0.9555 - val_loss: 0.4191 - val_categorical_accuracy: 0.9119\n",
      "Epoch 24/50\n",
      "505/505 [==============================] - 251s 497ms/step - loss: 0.3251 - categorical_accuracy: 0.9550 - val_loss: 0.4225 - val_categorical_accuracy: 0.9098\n",
      "Epoch 25/50\n",
      "505/505 [==============================] - 252s 499ms/step - loss: 0.3249 - categorical_accuracy: 0.9566 - val_loss: 0.4193 - val_categorical_accuracy: 0.9102\n",
      "Epoch 26/50\n",
      "505/505 [==============================] - 251s 498ms/step - loss: 0.3226 - categorical_accuracy: 0.9580 - val_loss: 0.4213 - val_categorical_accuracy: 0.9121\n",
      "Epoch 27/50\n",
      "505/505 [==============================] - 252s 499ms/step - loss: 0.3224 - categorical_accuracy: 0.9569 - val_loss: 0.4232 - val_categorical_accuracy: 0.9130\n",
      "Epoch 28/50\n",
      "505/505 [==============================] - 251s 498ms/step - loss: 0.3221 - categorical_accuracy: 0.9581 - val_loss: 0.4243 - val_categorical_accuracy: 0.9091\n",
      "Epoch 29/50\n",
      "505/505 [==============================] - 253s 502ms/step - loss: 0.3220 - categorical_accuracy: 0.9584 - val_loss: 0.4227 - val_categorical_accuracy: 0.9114\n",
      "Epoch 30/50\n",
      "505/505 [==============================] - 254s 502ms/step - loss: 0.3206 - categorical_accuracy: 0.9588 - val_loss: 0.4257 - val_categorical_accuracy: 0.9112\n",
      "Epoch 31/50\n",
      "505/505 [==============================] - 252s 499ms/step - loss: 0.3202 - categorical_accuracy: 0.9592 - val_loss: 0.4238 - val_categorical_accuracy: 0.9103\n",
      "Epoch 32/50\n",
      "505/505 [==============================] - 252s 499ms/step - loss: 0.3193 - categorical_accuracy: 0.9606 - val_loss: 0.4238 - val_categorical_accuracy: 0.9117\n",
      "Epoch 33/50\n",
      "505/505 [==============================] - 253s 500ms/step - loss: 0.3190 - categorical_accuracy: 0.9609 - val_loss: 0.4301 - val_categorical_accuracy: 0.9087\n",
      "Epoch 34/50\n",
      "505/505 [==============================] - 251s 497ms/step - loss: 0.3187 - categorical_accuracy: 0.9604 - val_loss: 0.4256 - val_categorical_accuracy: 0.9099\n",
      "Epoch 35/50\n",
      "505/505 [==============================] - 251s 497ms/step - loss: 0.3183 - categorical_accuracy: 0.9612 - val_loss: 0.4239 - val_categorical_accuracy: 0.9112\n",
      "Epoch 36/50\n",
      "505/505 [==============================] - 251s 498ms/step - loss: 0.3174 - categorical_accuracy: 0.9613 - val_loss: 0.4264 - val_categorical_accuracy: 0.9123\n",
      "Epoch 37/50\n",
      "505/505 [==============================] - 251s 498ms/step - loss: 0.3166 - categorical_accuracy: 0.9618 - val_loss: 0.4252 - val_categorical_accuracy: 0.9112\n",
      "Epoch 38/50\n",
      "505/505 [==============================] - 250s 496ms/step - loss: 0.3166 - categorical_accuracy: 0.9612 - val_loss: 0.4243 - val_categorical_accuracy: 0.9113\n",
      "Epoch 39/50\n",
      "505/505 [==============================] - 252s 499ms/step - loss: 0.3147 - categorical_accuracy: 0.9629 - val_loss: 0.4237 - val_categorical_accuracy: 0.9142\n",
      "Epoch 40/50\n",
      "505/505 [==============================] - 251s 497ms/step - loss: 0.3153 - categorical_accuracy: 0.9633 - val_loss: 0.4265 - val_categorical_accuracy: 0.9114\n",
      "Epoch 41/50\n",
      "505/505 [==============================] - 253s 500ms/step - loss: 0.3154 - categorical_accuracy: 0.9628 - val_loss: 0.4259 - val_categorical_accuracy: 0.9138\n",
      "Epoch 42/50\n",
      "505/505 [==============================] - 254s 502ms/step - loss: 0.3146 - categorical_accuracy: 0.9636 - val_loss: 0.4264 - val_categorical_accuracy: 0.9133\n",
      "Epoch 43/50\n",
      "505/505 [==============================] - 253s 500ms/step - loss: 0.3150 - categorical_accuracy: 0.9636 - val_loss: 0.4266 - val_categorical_accuracy: 0.9131\n",
      "Epoch 44/50\n",
      "505/505 [==============================] - 253s 501ms/step - loss: 0.3136 - categorical_accuracy: 0.9637 - val_loss: 0.4273 - val_categorical_accuracy: 0.9105\n",
      "Epoch 45/50\n",
      "505/505 [==============================] - 253s 501ms/step - loss: 0.3139 - categorical_accuracy: 0.9636 - val_loss: 0.4278 - val_categorical_accuracy: 0.9114\n",
      "Epoch 46/50\n",
      "505/505 [==============================] - 253s 500ms/step - loss: 0.3145 - categorical_accuracy: 0.9639 - val_loss: 0.4278 - val_categorical_accuracy: 0.9089\n",
      "Epoch 47/50\n",
      "505/505 [==============================] - 252s 499ms/step - loss: 0.3128 - categorical_accuracy: 0.9641 - val_loss: 0.4266 - val_categorical_accuracy: 0.9107\n",
      "Epoch 48/50\n",
      "505/505 [==============================] - 251s 498ms/step - loss: 0.3132 - categorical_accuracy: 0.9636 - val_loss: 0.4266 - val_categorical_accuracy: 0.9114\n"
     ]
    },
    {
     "name": "stdout",
     "output_type": "stream",
     "text": [
      "Epoch 49/50\n",
      "505/505 [==============================] - 252s 499ms/step - loss: 0.3136 - categorical_accuracy: 0.9646 - val_loss: 0.4289 - val_categorical_accuracy: 0.9114\n",
      "Epoch 50/50\n",
      "505/505 [==============================] - 251s 497ms/step - loss: 0.3129 - categorical_accuracy: 0.9637 - val_loss: 0.4294 - val_categorical_accuracy: 0.9121\n"
     ]
    }
   ],
   "source": [
    "# Training model\n",
    "history = model.fit(train_ds.shuffle(2000).batch(128),\n",
    "                    epochs=10,\n",
    "                    validation_data=test_ds.batch(128),\n",
    "                    verbose=1)"
   ]
  },
  {
   "cell_type": "code",
   "execution_count": null,
   "metadata": {
    "colab": {
     "base_uri": "https://localhost:8080/"
    },
    "id": "VDDR75AChacf",
    "outputId": "630d4d30-5b21-4666-cb21-41cff4f7bd28"
   },
   "outputs": [
    {
     "name": "stdout",
     "output_type": "stream",
     "text": [
      "Epoch 1/15\n",
      "1010/1010 [==============================] - 39s 36ms/step - loss: 0.7983 - categorical_accuracy: 0.7170 - auc: 0.8802 - val_loss: 0.4292 - val_categorical_accuracy: 0.8892 - val_auc: 0.9716\n",
      "Epoch 2/15\n",
      "1010/1010 [==============================] - 36s 36ms/step - loss: 0.4207 - categorical_accuracy: 0.8936 - auc: 0.9739 - val_loss: 0.4100 - val_categorical_accuracy: 0.9006 - val_auc: 0.9764\n",
      "Epoch 3/15\n",
      "1010/1010 [==============================] - 36s 36ms/step - loss: 0.4026 - categorical_accuracy: 0.9041 - auc: 0.9780 - val_loss: 0.4016 - val_categorical_accuracy: 0.9042 - val_auc: 0.9781\n",
      "Epoch 4/15\n",
      "1010/1010 [==============================] - 36s 36ms/step - loss: 0.3937 - categorical_accuracy: 0.9065 - auc: 0.9802 - val_loss: 0.3966 - val_categorical_accuracy: 0.9082 - val_auc: 0.9794\n",
      "Epoch 5/15\n",
      "1010/1010 [==============================] - 36s 36ms/step - loss: 0.3874 - categorical_accuracy: 0.9109 - auc: 0.9815 - val_loss: 0.3955 - val_categorical_accuracy: 0.9091 - val_auc: 0.9799\n",
      "Epoch 6/15\n",
      "1010/1010 [==============================] - 36s 36ms/step - loss: 0.3816 - categorical_accuracy: 0.9150 - auc: 0.9827 - val_loss: 0.3945 - val_categorical_accuracy: 0.9114 - val_auc: 0.9801\n",
      "Epoch 7/15\n",
      "1010/1010 [==============================] - 36s 36ms/step - loss: 0.3794 - categorical_accuracy: 0.9157 - auc: 0.9833 - val_loss: 0.3926 - val_categorical_accuracy: 0.9112 - val_auc: 0.9806\n",
      "Epoch 8/15\n",
      "1010/1010 [==============================] - 36s 35ms/step - loss: 0.3763 - categorical_accuracy: 0.9175 - auc: 0.9838 - val_loss: 0.3969 - val_categorical_accuracy: 0.9107 - val_auc: 0.9800\n",
      "Epoch 9/15\n",
      "1010/1010 [==============================] - 36s 36ms/step - loss: 0.3725 - categorical_accuracy: 0.9190 - auc: 0.9845 - val_loss: 0.3955 - val_categorical_accuracy: 0.9124 - val_auc: 0.9809\n",
      "Epoch 10/15\n",
      "1010/1010 [==============================] - 36s 35ms/step - loss: 0.3697 - categorical_accuracy: 0.9216 - auc: 0.9852 - val_loss: 0.3983 - val_categorical_accuracy: 0.9103 - val_auc: 0.9806\n",
      "Epoch 11/15\n",
      "1010/1010 [==============================] - 36s 35ms/step - loss: 0.3655 - categorical_accuracy: 0.9232 - auc: 0.9859 - val_loss: 0.3945 - val_categorical_accuracy: 0.9158 - val_auc: 0.9816\n",
      "Epoch 12/15\n",
      "1010/1010 [==============================] - 36s 35ms/step - loss: 0.3628 - categorical_accuracy: 0.9255 - auc: 0.9867 - val_loss: 0.4002 - val_categorical_accuracy: 0.9142 - val_auc: 0.9808\n",
      "Epoch 13/15\n",
      "1010/1010 [==============================] - 36s 36ms/step - loss: 0.3607 - categorical_accuracy: 0.9283 - auc: 0.9872 - val_loss: 0.3989 - val_categorical_accuracy: 0.9146 - val_auc: 0.9811\n",
      "Epoch 14/15\n",
      "1010/1010 [==============================] - 36s 36ms/step - loss: 0.3578 - categorical_accuracy: 0.9304 - auc: 0.9877 - val_loss: 0.4061 - val_categorical_accuracy: 0.9116 - val_auc: 0.9806\n",
      "Epoch 15/15\n",
      "1010/1010 [==============================] - 36s 35ms/step - loss: 0.3553 - categorical_accuracy: 0.9332 - auc: 0.9884 - val_loss: 0.4008 - val_categorical_accuracy: 0.9148 - val_auc: 0.9816\n"
     ]
    }
   ],
   "source": [
    "# Training model\n",
    "epochs = 15\n",
    "# Fit the model using the train and test datasets.\n",
    "#history = model.fit(x_train, train_labels,validation_data= (x_test,test_labels),epochs=epochs )\n",
    "history = model.fit(train_ds.shuffle(2000).batch(64),\n",
    "                    epochs= epochs ,\n",
    "                    validation_data=test_ds.batch(64),\n",
    "                    verbose=1)"
   ]
  },
  {
   "cell_type": "code",
   "execution_count": null,
   "metadata": {
    "id": "PcE11SolAbww",
    "outputId": "10b59958-e021-4eb7-bbac-ef760b39dc2e",
    "scrolled": true
   },
   "outputs": [
    {
     "data": {
      "image/png": "[encoded data removed]",
      "text/plain": [
       "<Figure size 432x288 with 1 Axes>"
      ]
     },
     "metadata": {
      "needs_background": "light",
      "tags": []
     },
     "output_type": "display_data"
    }
   ],
   "source": [
    "plt.plot(history.history['loss'], label=' training data')\n",
    "plt.plot(history.history['val_loss'], label='validation data)')\n",
    "plt.title('Loss for Text Classification')\n",
    "plt.ylabel('Loss value')\n",
    "plt.xlabel('No. epoch')\n",
    "plt.legend(loc=\"upper left\")\n",
    "plt.show()"
   ]
  },
  {
   "cell_type": "code",
   "execution_count": null,
   "metadata": {
    "id": "YPjZDugGAbww",
    "outputId": "cc7a8be5-86d3-4e82-ccdb-2d439c9c14ed",
    "scrolled": false
   },
   "outputs": [
    {
     "name": "stdout",
     "output_type": "stream",
     "text": [
      "Epoch 1/10\n",
      "2020/2020 [==============================] - 286s 141ms/step - loss: 0.7187 - categorical_accuracy: 0.7428 - auc: 0.8827 - val_loss: 0.4412 - val_categorical_accuracy: 0.8885 - val_auc: 0.9627\n",
      "Epoch 2/10\n",
      "2020/2020 [==============================] - 279s 138ms/step - loss: 0.4230 - categorical_accuracy: 0.8941 - auc: 0.9687 - val_loss: 0.4314 - val_categorical_accuracy: 0.8931 - val_auc: 0.9667\n",
      "Epoch 3/10\n",
      "2020/2020 [==============================] - 282s 139ms/step - loss: 0.4052 - categorical_accuracy: 0.9045 - auc: 0.9728 - val_loss: 0.4167 - val_categorical_accuracy: 0.8996 - val_auc: 0.9709\n",
      "Epoch 4/10\n",
      "2020/2020 [==============================] - 281s 139ms/step - loss: 0.4028 - categorical_accuracy: 0.9049 - auc: 0.9736 - val_loss: 0.4097 - val_categorical_accuracy: 0.9002 - val_auc: 0.9711\n",
      "Epoch 5/10\n",
      "2020/2020 [==============================] - 285s 141ms/step - loss: 0.3898 - categorical_accuracy: 0.9108 - auc: 0.9755 - val_loss: 0.4027 - val_categorical_accuracy: 0.9085 - val_auc: 0.9736\n",
      "Epoch 6/10\n",
      "2020/2020 [==============================] - 288s 142ms/step - loss: 0.3895 - categorical_accuracy: 0.9121 - auc: 0.9757 - val_loss: 0.4014 - val_categorical_accuracy: 0.9073 - val_auc: 0.9711\n",
      "Epoch 7/10\n",
      "2020/2020 [==============================] - 310s 154ms/step - loss: 0.3801 - categorical_accuracy: 0.9160 - auc: 0.9768 - val_loss: 0.3902 - val_categorical_accuracy: 0.9137 - val_auc: 0.9740\n",
      "Epoch 8/10\n",
      "2020/2020 [==============================] - 312s 154ms/step - loss: 0.3739 - categorical_accuracy: 0.9174 - auc: 0.9780 - val_loss: 0.4020 - val_categorical_accuracy: 0.9053 - val_auc: 0.9742\n",
      "Epoch 9/10\n",
      "2020/2020 [==============================] - 310s 154ms/step - loss: 0.3706 - categorical_accuracy: 0.9194 - auc: 0.9785 - val_loss: 0.3988 - val_categorical_accuracy: 0.9102 - val_auc: 0.9718\n",
      "Epoch 10/10\n",
      "2020/2020 [==============================] - 302s 150ms/step - loss: 0.3664 - categorical_accuracy: 0.9229 - auc: 0.9792 - val_loss: 0.3921 - val_categorical_accuracy: 0.9073 - val_auc: 0.9744\n"
     ]
    }
   ],
   "source": [
    "# Training model\n",
    "epochs = 10\n",
    "# Fit the model using the train and test datasets.\n",
    "#history = model.fit(x_train, train_labels,validation_data= (x_test,test_labels),epochs=epochs )\n",
    "history = model.fit(x_train,\n",
    "                    train_labels,\n",
    "                    epochs= epochs ,\n",
    "                    validation_data=(x_test, test_labels),\n",
    "                    verbose=1)"
   ]
  },
  {
   "cell_type": "code",
   "execution_count": null,
   "metadata": {
    "id": "RGQi8h5NAbww",
    "outputId": "6002cc78-3ef1-4fc3-b9e8-59df12ccfcca"
   },
   "outputs": [
    {
     "name": "stdout",
     "output_type": "stream",
     "text": [
      "dict_keys(['loss', 'categorical_accuracy', 'auc', 'val_loss', 'val_categorical_accuracy', 'val_auc'])\n"
     ]
    }
   ],
   "source": [
    "print(history.history.keys())"
   ]
  },
  {
   "cell_type": "code",
   "execution_count": null,
   "metadata": {
    "id": "VpHwAhbGAbwx",
    "outputId": "cb094ebf-1229-440e-b6f6-c5b75ff6dabe",
    "scrolled": true
   },
   "outputs": [
    {
     "data": {
      "image/png": "[encoded data removed]",
      "text/plain": [
       "<Figure size 432x288 with 1 Axes>"
      ]
     },
     "metadata": {
      "needs_background": "light",
      "tags": []
     },
     "output_type": "display_data"
    }
   ],
   "source": [
    "plt.plot(history.history['loss'], label=' training data')\n",
    "plt.plot(history.history['val_loss'], label='validation data)')\n",
    "plt.title('Loss for Text Classification')\n",
    "plt.ylabel('Loss value')\n",
    "plt.xlabel('No. epoch')\n",
    "plt.legend(loc=\"upper left\")\n",
    "plt.show()"
   ]
  },
  {
   "cell_type": "code",
   "execution_count": null,
   "metadata": {
    "id": "iY0jUxqvAbwx",
    "outputId": "4cc6ae5c-a20c-4ef3-d2d2-4af96d2fd431"
   },
   "outputs": [
    {
     "data": {
      "image/png": "[encoded data removed]",
      "text/plain": [
       "<Figure size 432x288 with 1 Axes>"
      ]
     },
     "metadata": {
      "needs_background": "light",
      "tags": []
     },
     "output_type": "display_data"
    }
   ],
   "source": [
    "plt.plot(history.history['auc'], label=' Training AUC')\n",
    "plt.plot(history.history['val_auc'], label='Validation AUC)')\n",
    "plt.title('AUC Evaluation')\n",
    "plt.ylabel('AUC')\n",
    "plt.xlabel('No. epoch')\n",
    "plt.legend(loc=\"upper left\")\n",
    "plt.show()"
   ]
  },
  {
   "cell_type": "code",
   "execution_count": null,
   "metadata": {
    "colab": {
     "base_uri": "https://localhost:8080/",
     "height": 295
    },
    "id": "St7uxUMtmZTj",
    "outputId": "8a0a989a-7cd7-4eb1-f666-314ed3df5c23"
   },
   "outputs": [
    {
     "data": {
      "image/png": "[encoded data removed]",
      "text/plain": [
       "<Figure size 432x288 with 1 Axes>"
      ]
     },
     "metadata": {
      "needs_background": "light",
      "tags": []
     },
     "output_type": "display_data"
    }
   ],
   "source": [
    "plt.plot(history.history['loss'], label=' training data')\n",
    "plt.plot(history.history['val_loss'], label='validation data)')\n",
    "plt.title('Loss for Text Classification')\n",
    "plt.ylabel('Loss value')\n",
    "plt.xlabel('No. epoch')\n",
    "plt.legend(loc=\"upper left\")\n",
    "plt.show()"
   ]
  },
  {
   "cell_type": "code",
   "execution_count": null,
   "metadata": {
    "colab": {
     "base_uri": "https://localhost:8080/",
     "height": 295
    },
    "id": "JurZ-Nw-mcbt",
    "outputId": "939478d1-70c3-487e-8a7e-5fff9c055e33"
   },
   "outputs": [
    {
     "data": {
      "image/png": "[encoded data removed]",
      "text/plain": [
       "<Figure size 432x288 with 1 Axes>"
      ]
     },
     "metadata": {
      "needs_background": "light",
      "tags": []
     },
     "output_type": "display_data"
    }
   ],
   "source": [
    "plt.plot(history.history['auc'], label=' Training AUC')\n",
    "plt.plot(history.history['val_auc'], label='Validation AUC)')\n",
    "plt.title('AUC Evaluation')\n",
    "plt.ylabel('AUC')\n",
    "plt.xlabel('No. epoch')\n",
    "plt.legend(loc=\"upper left\")\n",
    "plt.show()"
   ]
  },
  {
   "cell_type": "code",
   "execution_count": null,
   "metadata": {
    "id": "Baef3JnsAbwx",
    "outputId": "09974037-1e46-4c71-b8ae-71714bd9585c"
   },
   "outputs": [
    {
     "data": {
      "text/plain": [
       "58787    old news based kktc’s president said. afaik (o...\n",
       "16737    words \"turkey doesn't want follow unclos inven...\n",
       "27353       thought turk guys ok posts turkey /r/europe :d\n",
       "62209    true. tides shift comes time slaughtered disag...\n",
       "40789    thanks do, mate. mission seek help reddit prev...\n",
       "                               ...                        \n",
       "24478    didn't send them, let go. huge difference lett...\n",
       "30753    [so, addresses \"what simply refuse import will...\n",
       "9977     turkey arrested right? highest number journali...\n",
       "7303     doesn't story baltics analogous cyprus. popula...\n",
       "32862    isn't co2 tax, alternative bar lpg. turkey hug...\n",
       "Name: body, Length: 7182, dtype: object"
      ]
     },
     "execution_count": 18,
     "metadata": {
      "tags": []
     },
     "output_type": "execute_result"
    }
   ],
   "source": [
    "X_test"
   ]
  },
  {
   "cell_type": "code",
   "execution_count": null,
   "metadata": {
    "id": "n9ppg4tlAbwx",
    "outputId": "a956adfa-e47b-4f01-f21b-0d9f7d9cfd78"
   },
   "outputs": [
    {
     "name": "stderr",
     "output_type": "stream",
     "text": [
      "<ipython-input-21-92ca069ced8a>:1: VisibleDeprecationWarning: Creating an ndarray from ragged nested sequences (which is a list-or-tuple of lists-or-tuples-or ndarrays with different lengths or shapes) is deprecated. If you meant to do this, you must specify 'dtype=object' when creating the ndarray\n",
      "  x_test2  = np.array( tokenizer.texts_to_sequences(X_test.astype(str).tolist()) )\n"
     ]
    },
    {
     "data": {
      "text/plain": [
       "array([[ 305,  199,  286, ...,    0,    0,    0],\n",
       "       [ 682,    2,   31, ...,    0,    0,    0],\n",
       "       [ 403,  330,  326, ...,    0,    0,    0],\n",
       "       ...,\n",
       "       [   2, 1530,   23, ...,    0,    0,    0],\n",
       "       [  31,  786, 3024, ...,    0,    0,    0],\n",
       "       [  56, 8761, 1412, ...,    0,    0,    0]])"
      ]
     },
     "execution_count": 21,
     "metadata": {
      "tags": []
     },
     "output_type": "execute_result"
    }
   ],
   "source": [
    "x_test2  = np.array( tokenizer.texts_to_sequences(X_test.astype(str).tolist()) )\n",
    "x_test2 = pad_sequences(x_test2, padding='post', maxlen=3263)"
   ]
  },
  {
   "cell_type": "code",
   "execution_count": null,
   "metadata": {
    "id": "zHeEwr8iAbwy",
    "outputId": "11b713a9-5fb6-4cd2-a089-00c18eaf40c0"
   },
   "outputs": [
    {
     "name": "stdout",
     "output_type": "stream",
     "text": [
      "Generate predictions for all samples\n"
     ]
    },
    {
     "data": {
      "text/plain": [
       "array([0, 2, 2, ..., 2, 2, 2], dtype=int64)"
      ]
     },
     "execution_count": 22,
     "metadata": {
      "tags": []
     },
     "output_type": "execute_result"
    }
   ],
   "source": [
    "# Generate predictions (probabilities -- the output of the last layer)\n",
    "# on test  data using `predict`\n",
    "print(\"Generate predictions for all samples\")\n",
    "y_predictions = model.predict(x_test2)\n",
    "y_pred = y_predictions.argmax(axis=1)\n",
    "y_pred"
   ]
  },
  {
   "cell_type": "code",
   "execution_count": null,
   "metadata": {
    "id": "npJgYxJQAbwy",
    "outputId": "dd5bd704-4195-4257-c102-e7eb25146517"
   },
   "outputs": [
    {
     "data": {
      "text/plain": [
       "58787    Negative\n",
       "16737    Positive\n",
       "27353    Positive\n",
       "62209    Negative\n",
       "40789    Positive\n",
       "           ...   \n",
       "24478    Negative\n",
       "30753    Positive\n",
       "9977     Positive\n",
       "7303     Positive\n",
       "32862    Positive\n",
       "Name: Analysis, Length: 7182, dtype: object"
      ]
     },
     "execution_count": 23,
     "metadata": {
      "tags": []
     },
     "output_type": "execute_result"
    }
   ],
   "source": [
    "y_test.shape\n",
    "y_test"
   ]
  },
  {
   "cell_type": "code",
   "execution_count": null,
   "metadata": {
    "id": "G55S57F2Abwy",
    "outputId": "dcaff1f5-1f2c-4c30-86bf-35bdb8945834"
   },
   "outputs": [
    {
     "data": {
      "text/plain": [
       "(7182,)"
      ]
     },
     "execution_count": 24,
     "metadata": {
      "tags": []
     },
     "output_type": "execute_result"
    }
   ],
   "source": [
    "y_pred = np.where((y_pred == 0),'Negative',y_pred)\n",
    "y_pred = np.where((y_pred == '1'),'Neutral',y_pred)\n",
    "y_pred = np.where((y_pred == '2'),'Positive',y_pred)"
   ]
  },
  {
   "cell_type": "code",
   "execution_count": null,
   "metadata": {
    "id": "veJ5FkAXAbwy",
    "outputId": "b97b2f93-1cd9-4887-e353-92431a2e5eb6"
   },
   "outputs": [
    {
     "data": {
      "text/plain": [
       "array(['Negative', 'Positive', 'Positive', ..., 'Positive', 'Positive',\n",
       "       'Positive'], dtype='<U21')"
      ]
     },
     "execution_count": 30,
     "metadata": {
      "tags": []
     },
     "output_type": "execute_result"
    }
   ],
   "source": [
    "y_pred"
   ]
  },
  {
   "cell_type": "code",
   "execution_count": null,
   "metadata": {
    "id": "iLuHSz8kAbwz",
    "outputId": "e0c3e2d4-14e9-4fdb-c97b-aae5f1fa2aee"
   },
   "outputs": [
    {
     "data": {
      "text/plain": [
       "58787    Negative\n",
       "16737    Positive\n",
       "27353    Positive\n",
       "62209    Negative\n",
       "40789    Positive\n",
       "           ...   \n",
       "24478    Negative\n",
       "30753    Positive\n",
       "9977     Positive\n",
       "7303     Positive\n",
       "32862    Positive\n",
       "Name: Analysis, Length: 7182, dtype: object"
      ]
     },
     "execution_count": 31,
     "metadata": {
      "tags": []
     },
     "output_type": "execute_result"
    }
   ],
   "source": [
    "y_test"
   ]
  },
  {
   "cell_type": "code",
   "execution_count": null,
   "metadata": {
    "id": "BV0Y710YAbwz",
    "outputId": "e91ef539-acae-4126-dd01-23d32ca269e5"
   },
   "outputs": [
    {
     "name": "stdout",
     "output_type": "stream",
     "text": [
      "              precision    recall  f1-score   support\n",
      "\n",
      "    Positive       0.90      0.93      0.91      3426\n",
      "    Negative       0.88      0.84      0.86      2097\n",
      "     Neutral       0.94      0.95      0.95      1659\n",
      "\n",
      "    accuracy                           0.91      7182\n",
      "   macro avg       0.91      0.90      0.91      7182\n",
      "weighted avg       0.91      0.91      0.91      7182\n",
      "\n"
     ]
    }
   ],
   "source": [
    "labels = ['Positive', 'Negative','Neutral']\n",
    "print(classification_report(y_test, y_pred, labels=labels))"
   ]
  },
  {
   "cell_type": "code",
   "execution_count": null,
   "metadata": {
    "id": "e5cSqC5DAbwz"
   },
   "outputs": [],
   "source": []
  }
 ],
 "metadata": {
  "accelerator": "GPU",
  "colab": {
   "collapsed_sections": [],
   "name": "c1_cnn.ipynb",
   "provenance": []
  },
  "kernelspec": {
   "display_name": "Python 3",
   "language": "python",
   "name": "python3"
  },
  "language_info": {
   "codemirror_mode": {
    "name": "ipython",
    "version": 3
   },
   "file_extension": ".py",
   "mimetype": "text/x-python",
   "name": "python",
   "nbconvert_exporter": "python",
   "pygments_lexer": "ipython3",
   "version": "3.8.5"
  }
 },
 "nbformat": 4,
 "nbformat_minor": 1
}
