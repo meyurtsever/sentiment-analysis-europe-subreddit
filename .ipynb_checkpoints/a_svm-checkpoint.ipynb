{
 "cells": [
  {
   "cell_type": "code",
   "execution_count": null,
   "metadata": {
    "id": "FF8Aw3tAKOJf"
   },
   "outputs": [],
   "source": [
    "import pandas as pd\n",
    "import numpy as np\n",
    "\n",
    "from sklearn.multiclass import OneVsRestClassifier\n",
    "from sklearn.feature_extraction.text import TfidfVectorizer\n",
    "from sklearn.model_selection import train_test_split\n",
    "from sklearn.preprocessing import LabelEncoder\n",
    "from sklearn.metrics import accuracy_score, f1_score, precision_score, recall_score, classification_report, confusion_matrix, matthews_corrcoef, roc_curve, auc, roc_auc_score\n",
    "from sklearn import preprocessing\n",
    "\n",
    "from sklearn.svm import SVC\n",
    "from sklearn.svm import LinearSVC\n",
    "from sklearn.model_selection import learning_curve\n",
    "\n",
    "import matplotlib.pyplot as plt"
   ]
  },
  {
   "cell_type": "code",
   "execution_count": null,
   "metadata": {
    "id": "ZbPFdXVPKOJo"
   },
   "outputs": [],
   "source": [
    "# read pre-processed data\n",
    "data = pd.read_csv('preprocessed_european_comments.csv')"
   ]
  },
  {
   "cell_type": "code",
   "execution_count": null,
   "metadata": {
    "id": "L_pdAywHKOJp",
    "outputId": "9cb900d5-d2d9-450d-a9fe-dfd890feec1a",
    "scrolled": true
   },
   "outputs": [
    {
     "name": "stdout",
     "output_type": "stream",
     "text": [
      "       Unnamed: 0                                               body  \\\n",
      "0               0  woman claims said insults, bystanders didnt. t...   \n",
      "1               1                       turkey doesn't know balkans.   \n",
      "2               2                                    lot talk turkey   \n",
      "3               3  don't like ruling party turkey. it's turkish p...   \n",
      "4               4  create confusion absolute numbers. ~0.01 popul...   \n",
      "...           ...                                                ...   \n",
      "71815       71815  reiterate. better fuck rights 500 people count...   \n",
      "71816       71816  term broad. prefer term near east shorter excl...   \n",
      "71817       71817  actually georgians tao-klarjeti. artvin ardaha...   \n",
      "71818       71818  genocide equivalent person intentionally kille...   \n",
      "71819       71819  agree turkey europe, suppose people european m...   \n",
      "\n",
      "       Subjectivity  Polarity  Analysis  \n",
      "0          0.843750 -0.322917  Negative  \n",
      "1          0.000000  0.000000   Neutral  \n",
      "2          0.000000  0.000000   Neutral  \n",
      "3          0.000000  0.000000   Neutral  \n",
      "4          0.423384 -0.020833  Negative  \n",
      "...             ...       ...       ...  \n",
      "71815      0.536111 -0.002734  Negative  \n",
      "71816      0.346591  0.051136  Positive  \n",
      "71817      0.283929  0.083929  Positive  \n",
      "71818      0.438971  0.035539  Positive  \n",
      "71819      0.164583 -0.052083  Negative  \n",
      "\n",
      "[71820 rows x 5 columns]\n"
     ]
    }
   ],
   "source": [
    "print(data)"
   ]
  },
  {
   "cell_type": "code",
   "execution_count": null,
   "metadata": {
    "id": "SHr4yZu3KOJq",
    "outputId": "8277b2f9-9134-458f-b4eb-078f65f61369"
   },
   "outputs": [
    {
     "name": "stdout",
     "output_type": "stream",
     "text": [
      "[['Negative']\n",
      " ['Neutral']\n",
      " ['Neutral']\n",
      " ...\n",
      " ['Positive']\n",
      " ['Positive']\n",
      " ['Negative']]\n"
     ]
    }
   ],
   "source": [
    "# getting labels from pre-processed dataset\n",
    "label = data.iloc[:, -1:].values\n",
    "print(label)"
   ]
  },
  {
   "cell_type": "code",
   "execution_count": null,
   "metadata": {
    "id": "tJpBm1tfKOJq",
    "scrolled": false
   },
   "outputs": [],
   "source": [
    "# data.iloc[:,:-1] get all the columns except label column - for the X_train\n",
    "X_train, X_test, y_train, y_test = train_test_split (data['body'], label, test_size=0.2, random_state=0)"
   ]
  },
  {
   "cell_type": "code",
   "execution_count": null,
   "metadata": {
    "id": "y6Xv0TlhKOJr",
    "outputId": "dd006a42-4779-43df-d667-1f8ed605988c",
    "scrolled": false
   },
   "outputs": [
    {
     "name": "stdout",
     "output_type": "stream",
     "text": [
      "[['Positive']\n",
      " ['Positive']\n",
      " ['Neutral']\n",
      " ['Negative']\n",
      " ['Positive']\n",
      " ['Positive']\n",
      " ['Positive']\n",
      " ['Negative']\n",
      " ['Positive']\n",
      " ['Positive']]\n",
      "[2 2 1 0 2 2 2 0 2 2]\n"
     ]
    },
    {
     "name": "stderr",
     "output_type": "stream",
     "text": [
      "C:\\Users\\Yurtsever\\anaconda3\\lib\\site-packages\\sklearn\\utils\\validation.py:72: DataConversionWarning: A column-vector y was passed when a 1d array was expected. Please change the shape of y to (n_samples, ), for example using ravel().\n",
      "  return f(**kwargs)\n"
     ]
    }
   ],
   "source": [
    "# label encoder\n",
    "Encoder = LabelEncoder()\n",
    "print(y_train[:10])\n",
    "\n",
    "y_train = Encoder.fit_transform(y_train)\n",
    "print(y_train[:10])\n",
    "\n",
    "y_test = Encoder.fit_transform(y_test)"
   ]
  },
  {
   "cell_type": "code",
   "execution_count": null,
   "metadata": {
    "id": "WeG06mQWKOJr",
    "outputId": "195d923b-6e86-4c6f-ddb5-9772b461b2e6"
   },
   "outputs": [
    {
     "name": "stdout",
     "output_type": "stream",
     "text": [
      "[[0. 0. 0. ... 0. 0. 0.]\n",
      " [0. 0. 0. ... 0. 0. 0.]\n",
      " [0. 0. 0. ... 0. 0. 0.]\n",
      " ...\n",
      " [0. 0. 0. ... 0. 0. 0.]\n",
      " [0. 0. 0. ... 0. 0. 0.]\n",
      " [0. 0. 0. ... 0. 0. 0.]]\n"
     ]
    }
   ],
   "source": [
    "# TFIDF vectorizer\n",
    "vectorizer = TfidfVectorizer(analyzer='word', lowercase=True)\n",
    "\n",
    "X_train_tfidf = vectorizer.fit_transform(X_train.values.astype(str))\n",
    "X_test_tfidf = vectorizer.transform(X_test.values.astype(str))\n",
    "print(X_train_tfidf.toarray())"
   ]
  },
  {
   "cell_type": "code",
   "execution_count": null,
   "metadata": {
    "id": "Ba86rnaNKOJs",
    "outputId": "bca73736-9594-454e-ea52-422c5e4f294d"
   },
   "outputs": [
    {
     "data": {
      "text/plain": [
       "LinearSVC()"
      ]
     },
     "execution_count": 106,
     "metadata": {
      "tags": []
     },
     "output_type": "execute_result"
    }
   ],
   "source": [
    "# For large datasets consider using LinearSVC or SGDClassifier instead, possibly after a Nystroem transformer.\n",
    "# more info: https://scikit-learn.org/stable/modules/generated/sklearn.svm.SVC.html\n",
    "svc = LinearSVC()\n",
    "\n",
    "# train\n",
    "svc.fit(X_train_tfidf, y_train)"
   ]
  },
  {
   "cell_type": "code",
   "execution_count": null,
   "metadata": {
    "id": "MdXIwmK_KOJt"
   },
   "outputs": [],
   "source": [
    "# predict the labels on validation dataset\n",
    "predictions_SVM = svc.predict(X_test_tfidf)"
   ]
  },
  {
   "cell_type": "code",
   "execution_count": null,
   "metadata": {
    "id": "6vo0A1g5KOJt",
    "outputId": "f5f4b5fa-f880-4cd4-8a9c-e255a17fa15b"
   },
   "outputs": [
    {
     "name": "stdout",
     "output_type": "stream",
     "text": [
      "0.9026037315511\n"
     ]
    }
   ],
   "source": [
    "accuracy = accuracy_score(y_test, predictions_SVM)\n",
    "print(accuracy)"
   ]
  },
  {
   "cell_type": "markdown",
   "metadata": {
    "id": "3NRtGDeaKOJt"
   },
   "source": [
    "### 2. Learning Curve"
   ]
  },
  {
   "cell_type": "code",
   "execution_count": null,
   "metadata": {
    "id": "hjCVt65bKOJu",
    "outputId": "001d7dbb-2f11-4d5d-d705-efc0809f5714",
    "scrolled": true
   },
   "outputs": [
    {
     "name": "stdout",
     "output_type": "stream",
     "text": [
      "[learning_curve] Training set sizes: [  517  1561  2606  3651  4696  5740  6785  7830  8875  9919 10964 12009\n",
      " 13054 14098 15143 16188 17233 18277 19322 20367 21412 22456 23501 24546\n",
      " 25591 26635 27680 28725 29770 30814 31859 32904 33949 34993 36038 37083\n",
      " 38128 39172 40217 41262 42307 43351 44396 45441 46486 47530 48575 49620\n",
      " 50665 51710]\n"
     ]
    },
    {
     "name": "stderr",
     "output_type": "stream",
     "text": [
      "[Parallel(n_jobs=-1)]: Using backend LokyBackend with 6 concurrent workers.\n",
      "[Parallel(n_jobs=-1)]: Done 500 out of 500 | elapsed:  1.8min finished\n"
     ]
    }
   ],
   "source": [
    "train_sizes, train_scores, test_scores = learning_curve(LinearSVC(), X_train_tfidf, y_train, cv=10, scoring='accuracy', n_jobs=-1, train_sizes=np.linspace(0.01,1,50), verbose=1)"
   ]
  },
  {
   "cell_type": "code",
   "execution_count": null,
   "metadata": {
    "id": "SGKHTIyFKOJu",
    "outputId": "9772af51-4944-4fac-a2a4-2034a55d1030"
   },
   "outputs": [
    {
     "data": {
      "text/plain": [
       "array([1.        , 0.99942345, 0.99961627, 0.99898658, 0.99733816,\n",
       "       0.99658537, 0.99647752, 0.99609195, 0.99559437, 0.99483819,\n",
       "       0.99423568, 0.99392955, 0.99385629, 0.99341041, 0.99290761,\n",
       "       0.99203731, 0.99189346, 0.99152487, 0.99087051, 0.9900329 ,\n",
       "       0.98912292, 0.98925454, 0.98880899, 0.98828322, 0.98781212,\n",
       "       0.98708466, 0.98687861, 0.98647868, 0.98617736, 0.98607127,\n",
       "       0.98569321, 0.98551544, 0.98510118, 0.98501415, 0.98496309,\n",
       "       0.98472885, 0.98461498, 0.98431533, 0.98405649, 0.98367021,\n",
       "       0.98341882, 0.98327374, 0.98334985, 0.98301754, 0.98260552,\n",
       "       0.98241532, 0.98233248, 0.98217654, 0.98191256, 0.98166506])"
      ]
     },
     "execution_count": 110,
     "metadata": {
      "tags": []
     },
     "output_type": "execute_result"
    }
   ],
   "source": [
    "# getting mean values of training score\n",
    "train_mean = np.mean(train_scores, axis=1)\n",
    "train_mean"
   ]
  },
  {
   "cell_type": "code",
   "execution_count": null,
   "metadata": {
    "id": "Z6r5jcRKKOJv"
   },
   "outputs": [],
   "source": [
    "train_std = np.std(train_scores, axis=1)"
   ]
  },
  {
   "cell_type": "code",
   "execution_count": null,
   "metadata": {
    "id": "wEljyti8KOJv"
   },
   "outputs": [],
   "source": [
    "test_mean = np.mean(test_scores, axis=1)"
   ]
  },
  {
   "cell_type": "code",
   "execution_count": null,
   "metadata": {
    "id": "gGx_coHOKOJv"
   },
   "outputs": [],
   "source": [
    "#standard dev.\n",
    "test_std = np.std(test_scores, axis=1)"
   ]
  },
  {
   "cell_type": "code",
   "execution_count": null,
   "metadata": {
    "id": "mEgb8UQ_KOJw",
    "outputId": "ea3e377a-80fc-4386-e857-294f2471c6d9"
   },
   "outputs": [
    {
     "data": {
      "text/plain": [
       "<matplotlib.legend.Legend at 0x17d60817a90>"
      ]
     },
     "execution_count": 114,
     "metadata": {
      "tags": []
     },
     "output_type": "execute_result"
    },
    {
     "data": {
      "image/png": "[encoded data removed]",
      "text/plain": [
       "<Figure size 432x288 with 1 Axes>"
      ]
     },
     "metadata": {
      "needs_background": "light",
      "tags": []
     },
     "output_type": "display_data"
    }
   ],
   "source": [
    "plt.plot(train_sizes, train_mean, label='Training Score')\n",
    "plt.plot(train_sizes, test_mean, label='Cross-Validation Score')\n",
    "\n",
    "plt.fill_between(train_sizes, train_mean-train_std, train_mean+train_std, color='#DDDDDD')\n",
    "plt.fill_between(train_sizes, test_mean-test_std, test_mean+test_std, color='#DDDDDD')\n",
    "\n",
    "plt.title('Learning Curve')\n",
    "plt.xlabel('Training Size')\n",
    "plt.ylabel('Accuracy Score')\n",
    "plt.legend(loc = 'best')"
   ]
  },
  {
   "cell_type": "markdown",
   "metadata": {
    "id": "R-xknOhcKOJw"
   },
   "source": [
    "### 2. Model Evaluation\n",
    ">**TN / True Negative:** the case was negative and predicted negative<br>\n",
    "**TP / True Positive:** the case was positive and predicted positive<br>\n",
    "**FN / False Negative:** the case was positive but predicted negative<br>\n",
    "**FP / False Positive:** the case was negative but predicted positive<br>"
   ]
  },
  {
   "cell_type": "markdown",
   "metadata": {
    "id": "dWzUY7JUKOJw"
   },
   "source": [
    "#### 2.1. Accuracy"
   ]
  },
  {
   "cell_type": "code",
   "execution_count": null,
   "metadata": {
    "id": "_IxXxT_FKOJx",
    "outputId": "6a458fbe-e4a2-4358-c0c9-dfdadfb1cc62"
   },
   "outputs": [
    {
     "name": "stdout",
     "output_type": "stream",
     "text": [
      "0.9026037315511\n"
     ]
    }
   ],
   "source": [
    "accuracy = accuracy_score(y_test, predictions_SVM)\n",
    "print(accuracy)"
   ]
  },
  {
   "cell_type": "markdown",
   "metadata": {
    "id": "ngSVvDMQKOJx"
   },
   "source": [
    "#### 2.2. F-Measure\n",
    ">**What percent of positive predictions were correct?**<br>\n",
    "F1 Score = 2*(Recall * Precision) / (Recall + Precision)"
   ]
  },
  {
   "cell_type": "code",
   "execution_count": null,
   "metadata": {
    "id": "skYj4LxIKOJx",
    "outputId": "a8f97458-58c2-406c-9fe2-d04cb7f82241"
   },
   "outputs": [
    {
     "name": "stdout",
     "output_type": "stream",
     "text": [
      "0.9000588581343653\n"
     ]
    }
   ],
   "source": [
    "print(f1_score(y_test, predictions_SVM, average=\"macro\"))"
   ]
  },
  {
   "cell_type": "markdown",
   "metadata": {
    "id": "C8XxzFzLKOJy"
   },
   "source": [
    "#### 2.3. Precision\n",
    ">**Accuracy of positive predictions.**<br>\n",
    "Precision = TP/(TP + FP)"
   ]
  },
  {
   "cell_type": "code",
   "execution_count": null,
   "metadata": {
    "id": "N1wYQzFdKOJy",
    "outputId": "f0d18c28-9c1a-4e9a-98b4-61e53b46de6f"
   },
   "outputs": [
    {
     "name": "stdout",
     "output_type": "stream",
     "text": [
      "0.9003738800820459\n"
     ]
    }
   ],
   "source": [
    "print(precision_score(y_test, predictions_SVM, average=\"macro\"))"
   ]
  },
  {
   "cell_type": "markdown",
   "metadata": {
    "id": "-diP4G8lKOJy"
   },
   "source": [
    "#### 2.4. Recall\n",
    ">**What percent of the positive cases did you catch?**<br>\n",
    "Recall = TP/(TP+FN)\n",
    "\n"
   ]
  },
  {
   "cell_type": "code",
   "execution_count": null,
   "metadata": {
    "id": "uTxpPmuQKOJy",
    "outputId": "58d89c9b-60c1-48be-e3e2-bd02be095b77"
   },
   "outputs": [
    {
     "name": "stdout",
     "output_type": "stream",
     "text": [
      "0.9003599285543155\n"
     ]
    }
   ],
   "source": [
    "print(recall_score(y_test, predictions_SVM, average=\"macro\")) "
   ]
  },
  {
   "cell_type": "markdown",
   "metadata": {
    "id": "056CgN4LKOJz"
   },
   "source": [
    "#### 2.5. AUC (Area Under Curve)\n",
    ">*AUC–ROC curve is the model selection metric for bi–multi class classification problem. ROC is a probability curve for different classes. ROC tells us how good the model is for distinguishing the given classes, in terms of the predicted probability.<br>\n",
    "A typical ROC curve has False Positive Rate (FPR) on the X-axis and True Positive Rate (TPR) on the Y-axis.*\n",
    "\n",
    ">We have three classes in the dataset. Therefore, we will calculate ROC value for all classes.<br>\n",
    "**Labels are expressed in binary format with one-hot encoding.**<br>\n",
    "***ROC Curve is obtained as much as the number of classes.***"
   ]
  },
  {
   "cell_type": "code",
   "execution_count": null,
   "metadata": {
    "id": "PRDyigy-KOJz",
    "outputId": "a2981fd9-0832-45b8-fa67-8234e7b89d27",
    "scrolled": false
   },
   "outputs": [
    {
     "name": "stderr",
     "output_type": "stream",
     "text": [
      "C:\\Users\\Yurtsever\\anaconda3\\lib\\site-packages\\sklearn\\utils\\validation.py:72: DataConversionWarning: A column-vector y was passed when a 1d array was expected. Please change the shape of y to (n_samples, ), for example using ravel().\n",
      "  return f(**kwargs)\n"
     ]
    },
    {
     "data": {
      "image/png": "[encoded data removed]",
      "text/plain": [
       "<Figure size 432x288 with 1 Axes>"
      ]
     },
     "metadata": {
      "needs_background": "light",
      "tags": []
     },
     "output_type": "display_data"
    },
    {
     "data": {
      "image/png": "[encoded data removed]",
      "text/plain": [
       "<Figure size 432x288 with 1 Axes>"
      ]
     },
     "metadata": {
      "needs_background": "light",
      "tags": []
     },
     "output_type": "display_data"
    },
    {
     "data": {
      "image/png": "[encoded data removed]",
      "text/plain": [
       "<Figure size 432x288 with 1 Axes>"
      ]
     },
     "metadata": {
      "needs_background": "light",
      "tags": []
     },
     "output_type": "display_data"
    }
   ],
   "source": [
    "X, y = data['body'], label\n",
    "\n",
    "y = Encoder.fit_transform(y)\n",
    "\n",
    "y = preprocessing.label_binarize(y, classes=[0,1,2])\n",
    "n_classes = 3\n",
    "\n",
    "# shuffle and split training and test sets\n",
    "X_train, X_test, y_train, y_test =\\\n",
    "    train_test_split(X, y, test_size=0.33, random_state=0)\n",
    "\n",
    "# TFIDF vectorizer\n",
    "vectorizer = TfidfVectorizer(analyzer='word', lowercase=True)\n",
    "X_train_tfidf = vectorizer.fit_transform(X_train.values.astype(str))\n",
    "X_test_tfidf = vectorizer.transform(X_test.values.astype(str))\n",
    "\n",
    "# classifier\n",
    "clf = OneVsRestClassifier(LinearSVC())\n",
    "\n",
    "# train\n",
    "y_score = clf.fit(X_train_tfidf, y_train).decision_function(X_test_tfidf)\n",
    "\n",
    "# predict the labels on validation dataset\n",
    "#predictions_SVM = clf.predict(X_test_tfidf)\n",
    "\n",
    "# Compute ROC curve and ROC area for each class\n",
    "fpr = dict()\n",
    "tpr = dict()\n",
    "roc_auc = dict()\n",
    "for i in range(n_classes):\n",
    "    fpr[i], tpr[i], _ = roc_curve(y_test[:, i], y_score[:, i])\n",
    "    roc_auc[i] = auc(fpr[i], tpr[i])\n",
    "\n",
    "# Plot of a ROC curve for a specific class\n",
    "for i in range(n_classes):\n",
    "    plt.figure()\n",
    "    plt.plot(fpr[i], tpr[i], label='ROC curve (area = %0.2f)' % roc_auc[i])\n",
    "    plt.plot([0, 1], [0, 1], 'k--')\n",
    "    plt.xlim([0.0, 1.0])\n",
    "    plt.ylim([0.0, 1.05])\n",
    "    plt.xlabel('False Positive Rate')\n",
    "    plt.ylabel('True Positive Rate')\n",
    "    plt.title('Receiver operating characteristic example')\n",
    "    plt.legend(loc=\"lower right\")\n",
    "    plt.show()"
   ]
  },
  {
   "cell_type": "code",
   "execution_count": null,
   "metadata": {
    "id": "gXPCamFHKOJ0"
   },
   "outputs": [],
   "source": []
  }
 ],
 "metadata": {
  "colab": {
   "collapsed_sections": [],
   "name": "a_svm.ipynb",
   "provenance": []
  },
  "kernelspec": {
   "display_name": "Python 3",
   "language": "python",
   "name": "python3"
  },
  "language_info": {
   "codemirror_mode": {
    "name": "ipython",
    "version": 3
   },
   "file_extension": ".py",
   "mimetype": "text/x-python",
   "name": "python",
   "nbconvert_exporter": "python",
   "pygments_lexer": "ipython3",
   "version": "3.8.5"
  }
 },
 "nbformat": 4,
 "nbformat_minor": 1
}
