{
 "cells": [
  {
   "cell_type": "code",
   "execution_count": 1,
   "metadata": {
    "executionInfo": {
     "elapsed": 2973,
     "status": "ok",
     "timestamp": 1610292174666,
     "user": {
      "displayName": "M. Enes Yurtsever",
      "photoUrl": "https://lh3.googleusercontent.com/a-/AOh14GiEm2H7l5UcVtWpzbNFEkUFSnWkWW4CzX6-fn2BKg=s64",
      "userId": "00861404564400626655"
     },
     "user_tz": -180
    },
    "id": "AmK8Xr0DZT8W"
   },
   "outputs": [],
   "source": [
    "import pandas as pd\n",
    "import numpy as np\n",
    "import tensorflow as tf\n",
    "\n",
    "from sklearn.preprocessing import LabelEncoder"
   ]
  },
  {
   "cell_type": "code",
   "execution_count": 2,
   "metadata": {
    "colab": {
     "base_uri": "https://localhost:8080/"
    },
    "executionInfo": {
     "elapsed": 1206,
     "status": "ok",
     "timestamp": 1610292176418,
     "user": {
      "displayName": "M. Enes Yurtsever",
      "photoUrl": "https://lh3.googleusercontent.com/a-/AOh14GiEm2H7l5UcVtWpzbNFEkUFSnWkWW4CzX6-fn2BKg=s64",
      "userId": "00861404564400626655"
     },
     "user_tz": -180
    },
    "id": "9Y0XnUrQMPXK",
    "outputId": "d044796d-6b2c-4fbc-aeda-a267aa647fa4"
   },
   "outputs": [
    {
     "name": "stdout",
     "output_type": "stream",
     "text": [
      "Drive already mounted at /content/drive; to attempt to forcibly remount, call drive.mount(\"/content/drive\", force_remount=True).\n"
     ]
    }
   ],
   "source": [
    "from google.colab import drive\n",
    "drive.mount('/content/drive')"
   ]
  },
  {
   "cell_type": "code",
   "execution_count": 3,
   "metadata": {
    "executionInfo": {
     "elapsed": 987,
     "status": "ok",
     "timestamp": 1610292178295,
     "user": {
      "displayName": "M. Enes Yurtsever",
      "photoUrl": "https://lh3.googleusercontent.com/a-/AOh14GiEm2H7l5UcVtWpzbNFEkUFSnWkWW4CzX6-fn2BKg=s64",
      "userId": "00861404564400626655"
     },
     "user_tz": -180
    },
    "id": "1lu3zxcXMTbM"
   },
   "outputs": [],
   "source": [
    "train_data = pd.read_csv('/content/drive/MyDrive/metin_madenciligi_proje/preprocessed_european_comments_train.csv')\n",
    "#train_data_new = train_data[train_data['body'].notnull()]\n",
    "\n",
    "test_data = pd.read_csv(\"/content/drive/MyDrive/metin_madenciligi_proje/preprocessed_european_comments_test.csv\")\n",
    "#test_data_new = test_data[test_data['body'].notnull()]"
   ]
  },
  {
   "cell_type": "code",
   "execution_count": 4,
   "metadata": {
    "colab": {
     "base_uri": "https://localhost:8080/",
     "height": 202
    },
    "executionInfo": {
     "elapsed": 632,
     "status": "ok",
     "timestamp": 1610292179733,
     "user": {
      "displayName": "M. Enes Yurtsever",
      "photoUrl": "https://lh3.googleusercontent.com/a-/AOh14GiEm2H7l5UcVtWpzbNFEkUFSnWkWW4CzX6-fn2BKg=s64",
      "userId": "00861404564400626655"
     },
     "user_tz": -180
    },
    "id": "ZFbV0_BUYeW9",
    "outputId": "41a781af-5785-484d-9e4b-9c7794a4e822"
   },
   "outputs": [
    {
     "data": {
      "text/html": [
       "<div>\n",
       "<style scoped>\n",
       "    .dataframe tbody tr th:only-of-type {\n",
       "        vertical-align: middle;\n",
       "    }\n",
       "\n",
       "    .dataframe tbody tr th {\n",
       "        vertical-align: top;\n",
       "    }\n",
       "\n",
       "    .dataframe thead th {\n",
       "        text-align: right;\n",
       "    }\n",
       "</style>\n",
       "<table border=\"1\" class=\"dataframe\">\n",
       "  <thead>\n",
       "    <tr style=\"text-align: right;\">\n",
       "      <th></th>\n",
       "      <th>Unnamed: 0</th>\n",
       "      <th>body</th>\n",
       "      <th>Subjectivity</th>\n",
       "      <th>Polarity</th>\n",
       "      <th>Analysis</th>\n",
       "    </tr>\n",
       "  </thead>\n",
       "  <tbody>\n",
       "    <tr>\n",
       "      <th>0</th>\n",
       "      <td>0</td>\n",
       "      <td>woman claims said insults, bystanders didnt. t...</td>\n",
       "      <td>0.843750</td>\n",
       "      <td>-0.322917</td>\n",
       "      <td>Negative</td>\n",
       "    </tr>\n",
       "    <tr>\n",
       "      <th>1</th>\n",
       "      <td>1</td>\n",
       "      <td>turkey doesn't know balkans.</td>\n",
       "      <td>0.000000</td>\n",
       "      <td>0.000000</td>\n",
       "      <td>Neutral</td>\n",
       "    </tr>\n",
       "    <tr>\n",
       "      <th>2</th>\n",
       "      <td>2</td>\n",
       "      <td>lot talk turkey</td>\n",
       "      <td>0.000000</td>\n",
       "      <td>0.000000</td>\n",
       "      <td>Neutral</td>\n",
       "    </tr>\n",
       "    <tr>\n",
       "      <th>3</th>\n",
       "      <td>3</td>\n",
       "      <td>don't like ruling party turkey. it's turkish p...</td>\n",
       "      <td>0.000000</td>\n",
       "      <td>0.000000</td>\n",
       "      <td>Neutral</td>\n",
       "    </tr>\n",
       "    <tr>\n",
       "      <th>4</th>\n",
       "      <td>4</td>\n",
       "      <td>create confusion absolute numbers. ~0.01 popul...</td>\n",
       "      <td>0.423384</td>\n",
       "      <td>-0.020833</td>\n",
       "      <td>Negative</td>\n",
       "    </tr>\n",
       "  </tbody>\n",
       "</table>\n",
       "</div>"
      ],
      "text/plain": [
       "   Unnamed: 0  ...  Analysis\n",
       "0           0  ...  Negative\n",
       "1           1  ...   Neutral\n",
       "2           2  ...   Neutral\n",
       "3           3  ...   Neutral\n",
       "4           4  ...  Negative\n",
       "\n",
       "[5 rows x 5 columns]"
      ]
     },
     "execution_count": 4,
     "metadata": {
      "tags": []
     },
     "output_type": "execute_result"
    }
   ],
   "source": [
    "train_data.head()"
   ]
  },
  {
   "cell_type": "code",
   "execution_count": 5,
   "metadata": {
    "colab": {
     "base_uri": "https://localhost:8080/"
    },
    "executionInfo": {
     "elapsed": 964,
     "status": "ok",
     "timestamp": 1610292181303,
     "user": {
      "displayName": "M. Enes Yurtsever",
      "photoUrl": "https://lh3.googleusercontent.com/a-/AOh14GiEm2H7l5UcVtWpzbNFEkUFSnWkWW4CzX6-fn2BKg=s64",
      "userId": "00861404564400626655"
     },
     "user_tz": -180
    },
    "id": "MoCL3zAdRU9q",
    "outputId": "c318f42c-03dd-4c35-c769-041d16401e3c"
   },
   "outputs": [
    {
     "data": {
      "text/plain": [
       "(71820, 5)"
      ]
     },
     "execution_count": 5,
     "metadata": {
      "tags": []
     },
     "output_type": "execute_result"
    }
   ],
   "source": [
    "combined_data = train_data.append(test_data, ignore_index=True)\n",
    "combined_data.shape"
   ]
  },
  {
   "cell_type": "code",
   "execution_count": 6,
   "metadata": {
    "colab": {
     "base_uri": "https://localhost:8080/"
    },
    "executionInfo": {
     "elapsed": 840,
     "status": "ok",
     "timestamp": 1610292182677,
     "user": {
      "displayName": "M. Enes Yurtsever",
      "photoUrl": "https://lh3.googleusercontent.com/a-/AOh14GiEm2H7l5UcVtWpzbNFEkUFSnWkWW4CzX6-fn2BKg=s64",
      "userId": "00861404564400626655"
     },
     "user_tz": -180
    },
    "id": "r6n9EBGMMl6V",
    "outputId": "daa7d3c1-6665-4154-887f-c16a837e018e"
   },
   "outputs": [
    {
     "data": {
      "text/plain": [
       "Positive    26622\n",
       "Negative    16947\n",
       "Neutral     13250\n",
       "Name: Analysis, dtype: int64"
      ]
     },
     "execution_count": 6,
     "metadata": {
      "tags": []
     },
     "output_type": "execute_result"
    }
   ],
   "source": [
    "train_data[\"Analysis\"].value_counts()"
   ]
  },
  {
   "cell_type": "code",
   "execution_count": 7,
   "metadata": {
    "executionInfo": {
     "elapsed": 1441,
     "status": "ok",
     "timestamp": 1610292185363,
     "user": {
      "displayName": "M. Enes Yurtsever",
      "photoUrl": "https://lh3.googleusercontent.com/a-/AOh14GiEm2H7l5UcVtWpzbNFEkUFSnWkWW4CzX6-fn2BKg=s64",
      "userId": "00861404564400626655"
     },
     "user_tz": -180
    },
    "id": "i_SRMWLFM-4z"
   },
   "outputs": [],
   "source": [
    "tokenized_data = combined_data['body'].apply(lambda x: str(x).split()) # tokenizing"
   ]
  },
  {
   "cell_type": "code",
   "execution_count": 8,
   "metadata": {
    "colab": {
     "base_uri": "https://localhost:8080/"
    },
    "executionInfo": {
     "elapsed": 1039,
     "status": "ok",
     "timestamp": 1610292186857,
     "user": {
      "displayName": "M. Enes Yurtsever",
      "photoUrl": "https://lh3.googleusercontent.com/a-/AOh14GiEm2H7l5UcVtWpzbNFEkUFSnWkWW4CzX6-fn2BKg=s64",
      "userId": "00861404564400626655"
     },
     "user_tz": -180
    },
    "id": "2jQ0F2TJeYit",
    "outputId": "d90595d4-0198-4dc0-83b4-298cdbbff4d9"
   },
   "outputs": [
    {
     "data": {
      "text/plain": [
       "0        [woman, claims, said, insults,, bystanders, di...\n",
       "1                        [turkey, doesn't, know, balkans.]\n",
       "2                                      [lot, talk, turkey]\n",
       "3        [don't, like, ruling, party, turkey., it's, tu...\n",
       "4        [create, confusion, absolute, numbers., ~0.01,...\n",
       "                               ...                        \n",
       "71815    [reiterate., better, fuck, rights, 500, people...\n",
       "71816    [term, broad., prefer, term, near, east, short...\n",
       "71817    [actually, georgians, tao-klarjeti., artvin, a...\n",
       "71818    [genocide, equivalent, person, intentionally, ...\n",
       "71819    [agree, turkey, europe,, suppose, people, euro...\n",
       "Name: body, Length: 71820, dtype: object"
      ]
     },
     "execution_count": 8,
     "metadata": {
      "tags": []
     },
     "output_type": "execute_result"
    }
   ],
   "source": [
    "tokenized_data"
   ]
  },
  {
   "cell_type": "code",
   "execution_count": 9,
   "metadata": {
    "executionInfo": {
     "elapsed": 984,
     "status": "ok",
     "timestamp": 1610292188434,
     "user": {
      "displayName": "M. Enes Yurtsever",
      "photoUrl": "https://lh3.googleusercontent.com/a-/AOh14GiEm2H7l5UcVtWpzbNFEkUFSnWkWW4CzX6-fn2BKg=s64",
      "userId": "00861404564400626655"
     },
     "user_tz": -180
    },
    "id": "nni7AgqBN138"
   },
   "outputs": [],
   "source": [
    "from gensim.models import Word2Vec"
   ]
  },
  {
   "cell_type": "code",
   "execution_count": 10,
   "metadata": {
    "colab": {
     "base_uri": "https://localhost:8080/"
    },
    "executionInfo": {
     "elapsed": 98312,
     "status": "ok",
     "timestamp": 1610292287172,
     "user": {
      "displayName": "M. Enes Yurtsever",
      "photoUrl": "https://lh3.googleusercontent.com/a-/AOh14GiEm2H7l5UcVtWpzbNFEkUFSnWkWW4CzX6-fn2BKg=s64",
      "userId": "00861404564400626655"
     },
     "user_tz": -180
    },
    "id": "vn_6QeZ9OErE",
    "outputId": "93ae5c98-f2ee-4965-b6d2-ca5d88a11b30"
   },
   "outputs": [
    {
     "data": {
      "text/plain": [
       "(25429610, 28743220)"
      ]
     },
     "execution_count": 10,
     "metadata": {
      "tags": []
     },
     "output_type": "execute_result"
    }
   ],
   "source": [
    "model_w2v = Word2Vec(tokenized_data, size=256,  window=5)\n",
    "model_w2v.train(tokenized_data, total_examples= len(tokenized_data), epochs=10)"
   ]
  },
  {
   "cell_type": "code",
   "execution_count": 11,
   "metadata": {
    "colab": {
     "base_uri": "https://localhost:8080/"
    },
    "executionInfo": {
     "elapsed": 70105,
     "status": "ok",
     "timestamp": 1610292287173,
     "user": {
      "displayName": "M. Enes Yurtsever",
      "photoUrl": "https://lh3.googleusercontent.com/a-/AOh14GiEm2H7l5UcVtWpzbNFEkUFSnWkWW4CzX6-fn2BKg=s64",
      "userId": "00861404564400626655"
     },
     "user_tz": -180
    },
    "id": "MmSlClNeOM3z",
    "outputId": "c6202024-db07-45a8-a072-d9e4f2fa7890"
   },
   "outputs": [
    {
     "data": {
      "text/plain": [
       "[('circassian', 0.5956593751907349),\n",
       " ('namibian', 0.5450688600540161),\n",
       " ('1915', 0.5298489332199097),\n",
       " ('\"armenian', 0.5280247926712036),\n",
       " ('azerbaijani', 0.5228245258331299),\n",
       " ('armenians.', 0.5165754556655884),\n",
       " ('armenians', 0.5123624801635742),\n",
       " ('deniers', 0.5072523355484009),\n",
       " ('denial.', 0.5067297220230103),\n",
       " ('armenia.', 0.502419114112854)]"
      ]
     },
     "execution_count": 11,
     "metadata": {
      "tags": []
     },
     "output_type": "execute_result"
    }
   ],
   "source": [
    "model_w2v.wv.most_similar(positive=\"armenian\")"
   ]
  },
  {
   "cell_type": "code",
   "execution_count": 12,
   "metadata": {
    "colab": {
     "base_uri": "https://localhost:8080/"
    },
    "executionInfo": {
     "elapsed": 69366,
     "status": "ok",
     "timestamp": 1610292287173,
     "user": {
      "displayName": "M. Enes Yurtsever",
      "photoUrl": "https://lh3.googleusercontent.com/a-/AOh14GiEm2H7l5UcVtWpzbNFEkUFSnWkWW4CzX6-fn2BKg=s64",
      "userId": "00861404564400626655"
     },
     "user_tz": -180
    },
    "id": "XHleTKOzyqj3",
    "outputId": "8fb58c63-c085-43d8-870e-0f96b9c53728"
   },
   "outputs": [
    {
     "data": {
      "text/plain": [
       "[('eez.', 0.7754791975021362),\n",
       " ('eez,', 0.7669628858566284),\n",
       " ('kastellorizo', 0.7500872611999512),\n",
       " ('kastelorizo', 0.6813058853149414),\n",
       " ('12nm', 0.6687940359115601),\n",
       " ('meis', 0.6561087965965271),\n",
       " ('rhodes', 0.6325935125350952),\n",
       " ('eez?', 0.6305007338523865),\n",
       " ('eez)', 0.6242465972900391),\n",
       " ('eezs', 0.6213582754135132)]"
      ]
     },
     "execution_count": 12,
     "metadata": {
      "tags": []
     },
     "output_type": "execute_result"
    }
   ],
   "source": [
    "# EEZ: Exclusive Economic Zone (Münhasır Ekonomik Bölge)\n",
    "model_w2v.wv.most_similar(positive=\"eez\")"
   ]
  },
  {
   "cell_type": "code",
   "execution_count": 13,
   "metadata": {
    "executionInfo": {
     "elapsed": 68754,
     "status": "ok",
     "timestamp": 1610292287173,
     "user": {
      "displayName": "M. Enes Yurtsever",
      "photoUrl": "https://lh3.googleusercontent.com/a-/AOh14GiEm2H7l5UcVtWpzbNFEkUFSnWkWW4CzX6-fn2BKg=s64",
      "userId": "00861404564400626655"
     },
     "user_tz": -180
    },
    "id": "XB2SI5vlOanz"
   },
   "outputs": [],
   "source": [
    "def word_vector(tokens, size):\n",
    "    vec = np.zeros(size).reshape((1, size))\n",
    "    count = 0.\n",
    "    for word in tokens:\n",
    "        try:\n",
    "            vec += model_w2v[word].reshape((1, size))\n",
    "            count += 1.\n",
    "        except KeyError: # handling the case where the token is not in vocabulary\n",
    "                         \n",
    "            continue\n",
    "    if count != 0:\n",
    "        vec /= count\n",
    "    return vec"
   ]
  },
  {
   "cell_type": "code",
   "execution_count": 14,
   "metadata": {
    "colab": {
     "base_uri": "https://localhost:8080/"
    },
    "executionInfo": {
     "elapsed": 73758,
     "status": "ok",
     "timestamp": 1610292292801,
     "user": {
      "displayName": "M. Enes Yurtsever",
      "photoUrl": "https://lh3.googleusercontent.com/a-/AOh14GiEm2H7l5UcVtWpzbNFEkUFSnWkWW4CzX6-fn2BKg=s64",
      "userId": "00861404564400626655"
     },
     "user_tz": -180
    },
    "id": "nFmdv1tPOhnj",
    "outputId": "2f1414c6-bf3d-4188-a4be-d48bdada3e2c"
   },
   "outputs": [
    {
     "name": "stderr",
     "output_type": "stream",
     "text": [
      "/usr/local/lib/python3.6/dist-packages/ipykernel_launcher.py:6: DeprecationWarning: Call to deprecated `__getitem__` (Method will be removed in 4.0.0, use self.wv.__getitem__() instead).\n",
      "  \n"
     ]
    },
    {
     "data": {
      "text/plain": [
       "(71820, 256)"
      ]
     },
     "execution_count": 14,
     "metadata": {
      "tags": []
     },
     "output_type": "execute_result"
    }
   ],
   "source": [
    "wordvec_arrays = np.zeros((len(tokenized_data), 256))\n",
    "\n",
    "for i in range(len(test_data)):\n",
    "    wordvec_arrays[i,:] = word_vector(tokenized_data[i], 256)\n",
    "\n",
    "wordvec_df = pd.DataFrame(wordvec_arrays)\n",
    "wordvec_df.shape"
   ]
  },
  {
   "cell_type": "code",
   "execution_count": 15,
   "metadata": {
    "executionInfo": {
     "elapsed": 73192,
     "status": "ok",
     "timestamp": 1610292292802,
     "user": {
      "displayName": "M. Enes Yurtsever",
      "photoUrl": "https://lh3.googleusercontent.com/a-/AOh14GiEm2H7l5UcVtWpzbNFEkUFSnWkWW4CzX6-fn2BKg=s64",
      "userId": "00861404564400626655"
     },
     "user_tz": -180
    },
    "id": "617aDq19OyN0"
   },
   "outputs": [],
   "source": [
    "from sklearn.model_selection import train_test_split"
   ]
  },
  {
   "cell_type": "code",
   "execution_count": 16,
   "metadata": {
    "colab": {
     "base_uri": "https://localhost:8080/"
    },
    "executionInfo": {
     "elapsed": 72690,
     "status": "ok",
     "timestamp": 1610292292802,
     "user": {
      "displayName": "M. Enes Yurtsever",
      "photoUrl": "https://lh3.googleusercontent.com/a-/AOh14GiEm2H7l5UcVtWpzbNFEkUFSnWkWW4CzX6-fn2BKg=s64",
      "userId": "00861404564400626655"
     },
     "user_tz": -180
    },
    "id": "qYDOr6pm0U1l",
    "outputId": "36d2549b-435a-434d-b18b-c29f94e10241"
   },
   "outputs": [
    {
     "name": "stdout",
     "output_type": "stream",
     "text": [
      "(56819, 256) (56819,)\n"
     ]
    }
   ],
   "source": [
    "train_w2v = wordvec_df.iloc[:56819,:]\n",
    "test_w2v = wordvec_df.iloc[56819:,:]\n",
    "\n",
    "_, _, y_train, y_valid = train_test_split(train_w2v, train_data['Analysis'],  \n",
    "                                                          random_state=42, \n",
    "                                                          test_size=0.1)\n",
    "\n",
    "print(train_w2v.shape, train_data['Analysis'].shape)\n",
    "\n",
    "xtrain_w2v = train_w2v.iloc[y_train.index,:]\n",
    "xvalid_w2v = train_w2v.iloc[y_valid.index,:]"
   ]
  },
  {
   "cell_type": "code",
   "execution_count": 17,
   "metadata": {
    "colab": {
     "base_uri": "https://localhost:8080/"
    },
    "executionInfo": {
     "elapsed": 72224,
     "status": "ok",
     "timestamp": 1610292292803,
     "user": {
      "displayName": "M. Enes Yurtsever",
      "photoUrl": "https://lh3.googleusercontent.com/a-/AOh14GiEm2H7l5UcVtWpzbNFEkUFSnWkWW4CzX6-fn2BKg=s64",
      "userId": "00861404564400626655"
     },
     "user_tz": -180
    },
    "id": "NoaP7lBuZOUP",
    "outputId": "13b637a2-eabe-40cc-dd36-1cf78e062ab9"
   },
   "outputs": [
    {
     "data": {
      "text/plain": [
       "['Negative', 'Neutral', 'Positive']"
      ]
     },
     "execution_count": 17,
     "metadata": {
      "tags": []
     },
     "output_type": "execute_result"
    }
   ],
   "source": [
    "# label encoding: 'positive', 'negative' and 'neutral' is converted to number format.\n",
    "le = LabelEncoder()\n",
    "\n",
    "train_labels = le.fit_transform(y_train)\n",
    "train_labels = np.asarray(tf.keras.utils.to_categorical(train_labels))\n",
    "\n",
    "test_labels = le.transform(y_valid)\n",
    "test_labels = np.asarray(tf.keras.utils.to_categorical(test_labels))\n",
    "list(le.classes_)"
   ]
  },
  {
   "cell_type": "code",
   "execution_count": 18,
   "metadata": {
    "colab": {
     "base_uri": "https://localhost:8080/"
    },
    "executionInfo": {
     "elapsed": 71706,
     "status": "ok",
     "timestamp": 1610292292804,
     "user": {
      "displayName": "M. Enes Yurtsever",
      "photoUrl": "https://lh3.googleusercontent.com/a-/AOh14GiEm2H7l5UcVtWpzbNFEkUFSnWkWW4CzX6-fn2BKg=s64",
      "userId": "00861404564400626655"
     },
     "user_tz": -180
    },
    "id": "GYteYKQPT3iy",
    "outputId": "2ee1c0ef-fe04-462a-a325-b34029807393"
   },
   "outputs": [
    {
     "data": {
      "text/plain": [
       "array([[0., 0., 1.],\n",
       "       [0., 0., 1.],\n",
       "       [0., 1., 0.],\n",
       "       ...,\n",
       "       [1., 0., 0.],\n",
       "       [0., 0., 1.],\n",
       "       [0., 1., 0.]], dtype=float32)"
      ]
     },
     "execution_count": 18,
     "metadata": {
      "tags": []
     },
     "output_type": "execute_result"
    }
   ],
   "source": [
    "train_labels"
   ]
  },
  {
   "cell_type": "code",
   "execution_count": 19,
   "metadata": {
    "colab": {
     "base_uri": "https://localhost:8080/"
    },
    "executionInfo": {
     "elapsed": 71241,
     "status": "ok",
     "timestamp": 1610292292805,
     "user": {
      "displayName": "M. Enes Yurtsever",
      "photoUrl": "https://lh3.googleusercontent.com/a-/AOh14GiEm2H7l5UcVtWpzbNFEkUFSnWkWW4CzX6-fn2BKg=s64",
      "userId": "00861404564400626655"
     },
     "user_tz": -180
    },
    "id": "jmb9H7hoT7Yr",
    "outputId": "673faeaa-b28b-43d7-cf3f-57152e4bcac6"
   },
   "outputs": [
    {
     "data": {
      "text/plain": [
       "(5682, 3)"
      ]
     },
     "execution_count": 19,
     "metadata": {
      "tags": []
     },
     "output_type": "execute_result"
    }
   ],
   "source": [
    "test_labels.shape"
   ]
  },
  {
   "cell_type": "code",
   "execution_count": 20,
   "metadata": {
    "colab": {
     "base_uri": "https://localhost:8080/"
    },
    "executionInfo": {
     "elapsed": 130073,
     "status": "ok",
     "timestamp": 1610292352141,
     "user": {
      "displayName": "M. Enes Yurtsever",
      "photoUrl": "https://lh3.googleusercontent.com/a-/AOh14GiEm2H7l5UcVtWpzbNFEkUFSnWkWW4CzX6-fn2BKg=s64",
      "userId": "00861404564400626655"
     },
     "user_tz": -180
    },
    "id": "6EbpasJqSlFM",
    "outputId": "7b89eb6f-e71b-4a98-be0d-4a9b0ab50ca8"
   },
   "outputs": [
    {
     "name": "stdout",
     "output_type": "stream",
     "text": [
      "Epoch 1/25\n",
      "400/400 [==============================] - 4s 7ms/step - loss: 1.0325 - categorical_accuracy: 0.4786 - auc: 0.6441 - val_loss: 0.9973 - val_categorical_accuracy: 0.5016 - val_auc: 0.6734\n",
      "Epoch 2/25\n",
      "400/400 [==============================] - 2s 5ms/step - loss: 0.9824 - categorical_accuracy: 0.5140 - auc: 0.6840 - val_loss: 0.9895 - val_categorical_accuracy: 0.5051 - val_auc: 0.6775\n",
      "Epoch 3/25\n",
      "400/400 [==============================] - 2s 6ms/step - loss: 0.9679 - categorical_accuracy: 0.5222 - auc: 0.6946 - val_loss: 0.9904 - val_categorical_accuracy: 0.5058 - val_auc: 0.6773\n",
      "Epoch 4/25\n",
      "400/400 [==============================] - 2s 5ms/step - loss: 0.9573 - categorical_accuracy: 0.5248 - auc: 0.7011 - val_loss: 0.9860 - val_categorical_accuracy: 0.5084 - val_auc: 0.6803\n",
      "Epoch 5/25\n",
      "400/400 [==============================] - 2s 5ms/step - loss: 0.9492 - categorical_accuracy: 0.5285 - auc: 0.7058 - val_loss: 0.9903 - val_categorical_accuracy: 0.5104 - val_auc: 0.6794\n",
      "Epoch 6/25\n",
      "400/400 [==============================] - 2s 5ms/step - loss: 0.9370 - categorical_accuracy: 0.5387 - auc: 0.7139 - val_loss: 0.9924 - val_categorical_accuracy: 0.5065 - val_auc: 0.6808\n",
      "Epoch 7/25\n",
      "400/400 [==============================] - 2s 6ms/step - loss: 0.9258 - categorical_accuracy: 0.5440 - auc: 0.7216 - val_loss: 0.9974 - val_categorical_accuracy: 0.5055 - val_auc: 0.6785\n",
      "Epoch 8/25\n",
      "400/400 [==============================] - 2s 5ms/step - loss: 0.9169 - categorical_accuracy: 0.5491 - auc: 0.7269 - val_loss: 1.0053 - val_categorical_accuracy: 0.5084 - val_auc: 0.6782\n",
      "Epoch 9/25\n",
      "400/400 [==============================] - 2s 6ms/step - loss: 0.9070 - categorical_accuracy: 0.5540 - auc: 0.7328 - val_loss: 1.0081 - val_categorical_accuracy: 0.5104 - val_auc: 0.6784\n",
      "Epoch 10/25\n",
      "400/400 [==============================] - 3s 6ms/step - loss: 0.8943 - categorical_accuracy: 0.5606 - auc: 0.7407 - val_loss: 1.0109 - val_categorical_accuracy: 0.5060 - val_auc: 0.6772\n",
      "Epoch 11/25\n",
      "400/400 [==============================] - 3s 6ms/step - loss: 0.8926 - categorical_accuracy: 0.5593 - auc: 0.7386 - val_loss: 1.0264 - val_categorical_accuracy: 0.5048 - val_auc: 0.6740\n",
      "Epoch 12/25\n",
      "400/400 [==============================] - 2s 6ms/step - loss: 0.8811 - categorical_accuracy: 0.5674 - auc: 0.7470 - val_loss: 1.0333 - val_categorical_accuracy: 0.5032 - val_auc: 0.6739\n",
      "Epoch 13/25\n",
      "400/400 [==============================] - 2s 6ms/step - loss: 0.8722 - categorical_accuracy: 0.5711 - auc: 0.7504 - val_loss: 1.0554 - val_categorical_accuracy: 0.5040 - val_auc: 0.6710\n",
      "Epoch 14/25\n",
      "400/400 [==============================] - 2s 5ms/step - loss: 0.8630 - categorical_accuracy: 0.5763 - auc: 0.7561 - val_loss: 1.0639 - val_categorical_accuracy: 0.5035 - val_auc: 0.6701\n",
      "Epoch 15/25\n",
      "400/400 [==============================] - 2s 6ms/step - loss: 0.8608 - categorical_accuracy: 0.5757 - auc: 0.7565 - val_loss: 1.0601 - val_categorical_accuracy: 0.5026 - val_auc: 0.6703\n",
      "Epoch 16/25\n",
      "400/400 [==============================] - 2s 5ms/step - loss: 0.8514 - categorical_accuracy: 0.5811 - auc: 0.7611 - val_loss: 1.0814 - val_categorical_accuracy: 0.5040 - val_auc: 0.6702\n",
      "Epoch 17/25\n",
      "400/400 [==============================] - 2s 6ms/step - loss: 0.8448 - categorical_accuracy: 0.5822 - auc: 0.7641 - val_loss: 1.1035 - val_categorical_accuracy: 0.5009 - val_auc: 0.6656\n",
      "Epoch 18/25\n",
      "400/400 [==============================] - 2s 6ms/step - loss: 0.8423 - categorical_accuracy: 0.5835 - auc: 0.7656 - val_loss: 1.1160 - val_categorical_accuracy: 0.5007 - val_auc: 0.6675\n",
      "Epoch 19/25\n",
      "400/400 [==============================] - 2s 5ms/step - loss: 0.8363 - categorical_accuracy: 0.5859 - auc: 0.7681 - val_loss: 1.1334 - val_categorical_accuracy: 0.5032 - val_auc: 0.6664\n",
      "Epoch 20/25\n",
      "400/400 [==============================] - 2s 5ms/step - loss: 0.8290 - categorical_accuracy: 0.5897 - auc: 0.7710 - val_loss: 1.1430 - val_categorical_accuracy: 0.4974 - val_auc: 0.6618\n",
      "Epoch 21/25\n",
      "400/400 [==============================] - 2s 5ms/step - loss: 0.8259 - categorical_accuracy: 0.5910 - auc: 0.7728 - val_loss: 1.1667 - val_categorical_accuracy: 0.5026 - val_auc: 0.6661\n",
      "Epoch 22/25\n",
      "400/400 [==============================] - 2s 6ms/step - loss: 0.8227 - categorical_accuracy: 0.5914 - auc: 0.7733 - val_loss: 1.1818 - val_categorical_accuracy: 0.4988 - val_auc: 0.6627\n",
      "Epoch 23/25\n",
      "400/400 [==============================] - 2s 6ms/step - loss: 0.8152 - categorical_accuracy: 0.5974 - auc: 0.7785 - val_loss: 1.2134 - val_categorical_accuracy: 0.5035 - val_auc: 0.6645\n",
      "Epoch 24/25\n",
      "400/400 [==============================] - 2s 5ms/step - loss: 0.8132 - categorical_accuracy: 0.5966 - auc: 0.7781 - val_loss: 1.2073 - val_categorical_accuracy: 0.5018 - val_auc: 0.6663\n",
      "Epoch 25/25\n",
      "400/400 [==============================] - 2s 6ms/step - loss: 0.8153 - categorical_accuracy: 0.5935 - auc: 0.7759 - val_loss: 1.2375 - val_categorical_accuracy: 0.4991 - val_auc: 0.6616\n"
     ]
    }
   ],
   "source": [
    "import tensorflow as tf\n",
    "import keras.layers as layers\n",
    "from keras.models import Model\n",
    "from keras import models\n",
    "import keras.losses\n",
    "\n",
    "from keras.callbacks import EarlyStopping, ModelCheckpoint\n",
    "from keras.layers import Input,Embedding,Dense,Flatten\n",
    "from tensorflow.keras.metrics import AUC\n",
    "from sklearn.metrics import accuracy_score, f1_score, precision_score, recall_score, classification_report, confusion_matrix, matthews_corrcoef, roc_curve, auc, roc_auc_score\n",
    "\n",
    "epochs = 25\n",
    "batch_size = 256\n",
    "optimizer = \"adam\"\n",
    "metrics = [\"categorical_crossentropy\", AUC(name='auc')]\n",
    "\n",
    "# Build neural network\n",
    "model = models.Sequential()\n",
    "model.add(Dense(32, activation='relu'))\n",
    "model.add(Dense(64, activation='relu'))\n",
    "model.add(Dense(64, activation='relu'))\n",
    "model.add(Dense(3, activation='softmax'))\n",
    "\n",
    "model.compile(loss=tf.keras.losses.CategoricalCrossentropy(from_logits=True), optimizer=optimizer, metrics= metrics)\n",
    "\n",
    "history = model.fit(xtrain_w2v, train_labels, epochs=epochs, batch_size=batch_size, validation_data=(xvalid_w2v, test_labels))"
   ]
  },
  {
   "cell_type": "code",
   "execution_count": 27,
   "metadata": {
    "colab": {
     "base_uri": "https://localhost:8080/",
     "height": 295
    },
    "executionInfo": {
     "elapsed": 1013,
     "status": "ok",
     "timestamp": 1610292465448,
     "user": {
      "displayName": "M. Enes Yurtsever",
      "photoUrl": "https://lh3.googleusercontent.com/a-/AOh14GiEm2H7l5UcVtWpzbNFEkUFSnWkWW4CzX6-fn2BKg=s64",
      "userId": "00861404564400626655"
     },
     "user_tz": -180
    },
    "id": "oaBkimyB5jHn",
    "outputId": "90ea9d3a-e6a0-4384-dbbb-b769d7c05697"
   },
   "outputs": [
    {
     "data": {
      "image/png": "[encoded data removed]",
      "text/plain": [
       "<Figure size 432x288 with 1 Axes>"
      ]
     },
     "metadata": {
      "needs_background": "light",
      "tags": []
     },
     "output_type": "display_data"
    }
   ],
   "source": [
    "import matplotlib.pyplot as plt\n",
    "\n",
    "plt.plot(history.history['loss'], label=' training data')\n",
    "plt.plot(history.history['val_loss'], label='validation data')\n",
    "plt.title('Loss for Text Classification')\n",
    "plt.ylabel('Loss value')\n",
    "plt.xlabel('No. epoch')\n",
    "plt.legend(loc=\"upper left\")\n",
    "plt.show()"
   ]
  },
  {
   "cell_type": "code",
   "execution_count": 30,
   "metadata": {
    "colab": {
     "base_uri": "https://localhost:8080/",
     "height": 295
    },
    "executionInfo": {
     "elapsed": 912,
     "status": "ok",
     "timestamp": 1610294093643,
     "user": {
      "displayName": "M. Enes Yurtsever",
      "photoUrl": "https://lh3.googleusercontent.com/a-/AOh14GiEm2H7l5UcVtWpzbNFEkUFSnWkWW4CzX6-fn2BKg=s64",
      "userId": "00861404564400626655"
     },
     "user_tz": -180
    },
    "id": "0RLMRoIE6NkK",
    "outputId": "d9a29297-437e-4fbe-de2b-c48048628510"
   },
   "outputs": [
    {
     "data": {
      "image/png": "[encoded data removed]",
      "text/plain": [
       "<Figure size 432x288 with 1 Axes>"
      ]
     },
     "metadata": {
      "needs_background": "light",
      "tags": []
     },
     "output_type": "display_data"
    }
   ],
   "source": [
    "plt.plot(history.history['auc'], label=' Training AUC')\n",
    "plt.plot(history.history['val_auc'], label='Validation AUC')\n",
    "plt.title('AUC Evaluation')\n",
    "plt.ylabel('AUC')\n",
    "plt.xlabel('No. epoch')\n",
    "plt.legend(loc=\"upper left\")\n",
    "plt.show()"
   ]
  },
  {
   "cell_type": "code",
   "execution_count": 31,
   "metadata": {
    "executionInfo": {
     "elapsed": 1224,
     "status": "ok",
     "timestamp": 1610294199053,
     "user": {
      "displayName": "M. Enes Yurtsever",
      "photoUrl": "https://lh3.googleusercontent.com/a-/AOh14GiEm2H7l5UcVtWpzbNFEkUFSnWkWW4CzX6-fn2BKg=s64",
      "userId": "00861404564400626655"
     },
     "user_tz": -180
    },
    "id": "dnlRfijb6Tsv"
   },
   "outputs": [],
   "source": [
    "y__pred = model.predict(test_w2v)\n"
   ]
  },
  {
   "cell_type": "code",
   "execution_count": 32,
   "metadata": {
    "colab": {
     "base_uri": "https://localhost:8080/"
    },
    "executionInfo": {
     "elapsed": 943,
     "status": "ok",
     "timestamp": 1610294205681,
     "user": {
      "displayName": "M. Enes Yurtsever",
      "photoUrl": "https://lh3.googleusercontent.com/a-/AOh14GiEm2H7l5UcVtWpzbNFEkUFSnWkWW4CzX6-fn2BKg=s64",
      "userId": "00861404564400626655"
     },
     "user_tz": -180
    },
    "id": "uxu55qXQA34S",
    "outputId": "981b6d56-cc27-4bd2-e91d-5cdbd9ef98d5"
   },
   "outputs": [
    {
     "data": {
      "text/plain": [
       "(15001, 3)"
      ]
     },
     "execution_count": 32,
     "metadata": {
      "tags": []
     },
     "output_type": "execute_result"
    }
   ],
   "source": [
    "y__pred.shape"
   ]
  },
  {
   "cell_type": "code",
   "execution_count": 39,
   "metadata": {
    "executionInfo": {
     "elapsed": 975,
     "status": "ok",
     "timestamp": 1610294278299,
     "user": {
      "displayName": "M. Enes Yurtsever",
      "photoUrl": "https://lh3.googleusercontent.com/a-/AOh14GiEm2H7l5UcVtWpzbNFEkUFSnWkWW4CzX6-fn2BKg=s64",
      "userId": "00861404564400626655"
     },
     "user_tz": -180
    },
    "id": "CQiDREnUBE9Z"
   },
   "outputs": [],
   "source": [
    "y__pred = np.where((y__pred == 0),'Negative', y__pred)\n",
    "y__pred = np.where((y__pred == '1'),'Neutral', y__pred)\n",
    "y__pred = np.where((y__pred == '2'),'Positive', y__pred)"
   ]
  },
  {
   "cell_type": "code",
   "execution_count": 50,
   "metadata": {
    "colab": {
     "base_uri": "https://localhost:8080/"
    },
    "executionInfo": {
     "elapsed": 881,
     "status": "ok",
     "timestamp": 1610294482861,
     "user": {
      "displayName": "M. Enes Yurtsever",
      "photoUrl": "https://lh3.googleusercontent.com/a-/AOh14GiEm2H7l5UcVtWpzbNFEkUFSnWkWW4CzX6-fn2BKg=s64",
      "userId": "00861404564400626655"
     },
     "user_tz": -180
    },
    "id": "6vgASpjnB1tt",
    "outputId": "5b37532a-a5fa-4542-ad42-15d84f0968eb"
   },
   "outputs": [
    {
     "data": {
      "text/plain": [
       "(15001,)"
      ]
     },
     "execution_count": 50,
     "metadata": {
      "tags": []
     },
     "output_type": "execute_result"
    }
   ],
   "source": [
    "y__test.shape"
   ]
  },
  {
   "cell_type": "code",
   "execution_count": 54,
   "metadata": {
    "colab": {
     "base_uri": "https://localhost:8080/"
    },
    "executionInfo": {
     "elapsed": 843,
     "status": "ok",
     "timestamp": 1610294534114,
     "user": {
      "displayName": "M. Enes Yurtsever",
      "photoUrl": "https://lh3.googleusercontent.com/a-/AOh14GiEm2H7l5UcVtWpzbNFEkUFSnWkWW4CzX6-fn2BKg=s64",
      "userId": "00861404564400626655"
     },
     "user_tz": -180
    },
    "id": "VVurMlVGBIyA",
    "outputId": "a35f852c-dc84-4a9d-96b9-68cb58925f06"
   },
   "outputs": [
    {
     "name": "stdout",
     "output_type": "stream",
     "text": [
      "              precision    recall  f1-score   support\n",
      "\n",
      "    Negative       0.00      0.00      0.00      4384\n",
      "     Neutral       0.00      0.00      0.00      3213\n",
      "    Positive       0.49      1.00      0.66      7404\n",
      "\n",
      "    accuracy                           0.49     15001\n",
      "   macro avg       0.16      0.33      0.22     15001\n",
      "weighted avg       0.24      0.49      0.33     15001\n",
      "\n"
     ]
    },
    {
     "name": "stderr",
     "output_type": "stream",
     "text": [
      "/usr/local/lib/python3.6/dist-packages/sklearn/metrics/_classification.py:1272: UndefinedMetricWarning: Precision and F-score are ill-defined and being set to 0.0 in labels with no predicted samples. Use `zero_division` parameter to control this behavior.\n",
      "  _warn_prf(average, modifier, msg_start, len(result))\n"
     ]
    }
   ],
   "source": [
    "print(classification_report(test_data.Analysis, y__pred))"
   ]
  },
  {
   "cell_type": "code",
   "execution_count": null,
   "metadata": {
    "id": "Zsb-uAUQBnd5"
   },
   "outputs": [],
   "source": []
  }
 ],
 "metadata": {
  "accelerator": "GPU",
  "colab": {
   "collapsed_sections": [],
   "name": "d1_word2vec.ipynb",
   "provenance": []
  },
  "kernelspec": {
   "display_name": "Python 3",
   "language": "python",
   "name": "python3"
  },
  "language_info": {
   "codemirror_mode": {
    "name": "ipython",
    "version": 3
   },
   "file_extension": ".py",
   "mimetype": "text/x-python",
   "name": "python",
   "nbconvert_exporter": "python",
   "pygments_lexer": "ipython3",
   "version": "3.8.5"
  }
 },
 "nbformat": 4,
 "nbformat_minor": 1
}
