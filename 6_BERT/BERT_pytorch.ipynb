{
 "cells": [
  {
   "cell_type": "code",
   "execution_count": 1,
   "metadata": {
    "executionInfo": {
     "elapsed": 2087,
     "status": "ok",
     "timestamp": 1609232811966,
     "user": {
      "displayName": "H. Vildan Yurtsever",
      "photoUrl": "https://lh6.googleusercontent.com/-Kof8dNOY2TI/AAAAAAAAAAI/AAAAAAAAAEA/VNLk2YBe6RY/s64/photo.jpg",
      "userId": "11283036826844958450"
     },
     "user_tz": -180
    },
    "id": "7kWP4aWU7CDE"
   },
   "outputs": [],
   "source": [
    "import numpy as np\n",
    "import pandas as pd\n",
    "import tensorflow as tf"
   ]
  },
  {
   "cell_type": "code",
   "execution_count": 2,
   "metadata": {
    "colab": {
     "base_uri": "https://localhost:8080/"
    },
    "executionInfo": {
     "elapsed": 6446,
     "status": "ok",
     "timestamp": 1609232819836,
     "user": {
      "displayName": "H. Vildan Yurtsever",
      "photoUrl": "https://lh6.googleusercontent.com/-Kof8dNOY2TI/AAAAAAAAAAI/AAAAAAAAAEA/VNLk2YBe6RY/s64/photo.jpg",
      "userId": "11283036826844958450"
     },
     "user_tz": -180
    },
    "id": "oS8q7WZs8LFn",
    "outputId": "0bac85af-8db4-4c99-f30b-807a5949b9f9"
   },
   "outputs": [
    {
     "name": "stdout",
     "output_type": "stream",
     "text": [
      "\u001b[K     |████████████████████████████████| 1.5MB 15.1MB/s \n",
      "\u001b[K     |████████████████████████████████| 890kB 53.0MB/s \n",
      "\u001b[K     |████████████████████████████████| 2.9MB 60.2MB/s \n",
      "\u001b[?25h  Building wheel for sacremoses (setup.py) ... \u001b[?25l\u001b[?25hdone\n"
     ]
    }
   ],
   "source": [
    "!pip install -qq transformers"
   ]
  },
  {
   "cell_type": "code",
   "execution_count": 3,
   "metadata": {
    "colab": {
     "base_uri": "https://localhost:8080/"
    },
    "executionInfo": {
     "elapsed": 605,
     "status": "ok",
     "timestamp": 1609232821501,
     "user": {
      "displayName": "H. Vildan Yurtsever",
      "photoUrl": "https://lh6.googleusercontent.com/-Kof8dNOY2TI/AAAAAAAAAAI/AAAAAAAAAEA/VNLk2YBe6RY/s64/photo.jpg",
      "userId": "11283036826844958450"
     },
     "user_tz": -180
    },
    "id": "Mzq6OCC9J4Mi",
    "outputId": "1c333108-5f0f-4011-a9bb-c6575a36f6be"
   },
   "outputs": [
    {
     "name": "stdout",
     "output_type": "stream",
     "text": [
      "Tue Dec 29 09:07:02 2020       \n",
      "+-----------------------------------------------------------------------------+\n",
      "| NVIDIA-SMI 460.27.04    Driver Version: 418.67       CUDA Version: 10.1     |\n",
      "|-------------------------------+----------------------+----------------------+\n",
      "| GPU  Name        Persistence-M| Bus-Id        Disp.A | Volatile Uncorr. ECC |\n",
      "| Fan  Temp  Perf  Pwr:Usage/Cap|         Memory-Usage | GPU-Util  Compute M. |\n",
      "|                               |                      |               MIG M. |\n",
      "|===============================+======================+======================|\n",
      "|   0  Tesla T4            Off  | 00000000:00:04.0 Off |                    0 |\n",
      "| N/A   39C    P8     9W /  70W |      0MiB / 15079MiB |      0%      Default |\n",
      "|                               |                      |                 ERR! |\n",
      "+-------------------------------+----------------------+----------------------+\n",
      "                                                                               \n",
      "+-----------------------------------------------------------------------------+\n",
      "| Processes:                                                                  |\n",
      "|  GPU   GI   CI        PID   Type   Process name                  GPU Memory |\n",
      "|        ID   ID                                                   Usage      |\n",
      "|=============================================================================|\n",
      "|  No running processes found                                                 |\n",
      "+-----------------------------------------------------------------------------+\n"
     ]
    }
   ],
   "source": [
    "!nvidia-smi"
   ]
  },
  {
   "cell_type": "code",
   "execution_count": 4,
   "metadata": {
    "executionInfo": {
     "elapsed": 5293,
     "status": "ok",
     "timestamp": 1609232829012,
     "user": {
      "displayName": "H. Vildan Yurtsever",
      "photoUrl": "https://lh6.googleusercontent.com/-Kof8dNOY2TI/AAAAAAAAAAI/AAAAAAAAAEA/VNLk2YBe6RY/s64/photo.jpg",
      "userId": "11283036826844958450"
     },
     "user_tz": -180
    },
    "id": "Vgh6Kn2O_vtI"
   },
   "outputs": [],
   "source": [
    "import transformers\n",
    "from transformers import BertModel, BertTokenizer, AdamW, get_linear_schedule_with_warmup\n",
    "import torch\n",
    "import numpy as np\n",
    "import pandas as pd\n",
    "import seaborn as sns\n",
    "from pylab import rcParams\n",
    "import matplotlib.pyplot as plt\n",
    "from matplotlib import rc\n",
    "from sklearn.model_selection import train_test_split\n",
    "from sklearn.metrics import confusion_matrix, classification_report\n",
    "from collections import defaultdict\n",
    "from textwrap import wrap\n",
    "from torch import nn, optim\n",
    "from torch.utils.data import Dataset, DataLoader\n",
    "%matplotlib inline\n",
    "%config InlineBackend.figure_format='retina'\n",
    "sns.set(style='whitegrid', palette='muted', font_scale=1.2)\n",
    "HAPPY_COLORS_PALETTE = [\"#01BEFE\", \"#FFDD00\", \"#FF7D00\", \"#FF006D\", \"#ADFF02\", \"#8F00FF\"]\n",
    "sns.set_palette(sns.color_palette(HAPPY_COLORS_PALETTE))\n",
    "rcParams['figure.figsize'] = 12, 8\n",
    "RANDOM_SEED = 42\n",
    "np.random.seed(RANDOM_SEED)\n",
    "torch.manual_seed(RANDOM_SEED)\n",
    "device = torch.device(\"cuda:0\" if torch.cuda.is_available() else \"cpu\")"
   ]
  },
  {
   "cell_type": "code",
   "execution_count": 5,
   "metadata": {
    "colab": {
     "base_uri": "https://localhost:8080/"
    },
    "executionInfo": {
     "elapsed": 14445,
     "status": "ok",
     "timestamp": 1609232843523,
     "user": {
      "displayName": "H. Vildan Yurtsever",
      "photoUrl": "https://lh6.googleusercontent.com/-Kof8dNOY2TI/AAAAAAAAAAI/AAAAAAAAAEA/VNLk2YBe6RY/s64/photo.jpg",
      "userId": "11283036826844958450"
     },
     "user_tz": -180
    },
    "id": "hRhXmlwV7CQF",
    "outputId": "4c020b2f-8284-42aa-9ee7-595bec65094b"
   },
   "outputs": [
    {
     "name": "stdout",
     "output_type": "stream",
     "text": [
      "Mounted at /content/drive\n"
     ]
    }
   ],
   "source": [
    "from google.colab import drive\n",
    "drive.mount('/content/drive')"
   ]
  },
  {
   "cell_type": "code",
   "execution_count": 6,
   "metadata": {
    "executionInfo": {
     "elapsed": 893,
     "status": "ok",
     "timestamp": 1609232846516,
     "user": {
      "displayName": "H. Vildan Yurtsever",
      "photoUrl": "https://lh6.googleusercontent.com/-Kof8dNOY2TI/AAAAAAAAAAI/AAAAAAAAAEA/VNLk2YBe6RY/s64/photo.jpg",
      "userId": "11283036826844958450"
     },
     "user_tz": -180
    },
    "id": "H4gyQxaq7EJD"
   },
   "outputs": [],
   "source": [
    "data_train = pd.read_csv('/content/drive/MyDrive/metin_madenciligi_proje/preprocessed_european_comments_train_10k.csv', sep=';', encoding='ISO-8859-1')"
   ]
  },
  {
   "cell_type": "code",
   "execution_count": 7,
   "metadata": {
    "colab": {
     "base_uri": "https://localhost:8080/",
     "height": 202
    },
    "executionInfo": {
     "elapsed": 439,
     "status": "ok",
     "timestamp": 1609232847505,
     "user": {
      "displayName": "H. Vildan Yurtsever",
      "photoUrl": "https://lh6.googleusercontent.com/-Kof8dNOY2TI/AAAAAAAAAAI/AAAAAAAAAEA/VNLk2YBe6RY/s64/photo.jpg",
      "userId": "11283036826844958450"
     },
     "user_tz": -180
    },
    "id": "y_CL3CH-7J_k",
    "outputId": "b629d5e2-cd12-422e-b58e-ba8c7192f780"
   },
   "outputs": [
    {
     "data": {
      "text/html": [
       "<div>\n",
       "<style scoped>\n",
       "    .dataframe tbody tr th:only-of-type {\n",
       "        vertical-align: middle;\n",
       "    }\n",
       "\n",
       "    .dataframe tbody tr th {\n",
       "        vertical-align: top;\n",
       "    }\n",
       "\n",
       "    .dataframe thead th {\n",
       "        text-align: right;\n",
       "    }\n",
       "</style>\n",
       "<table border=\"1\" class=\"dataframe\">\n",
       "  <thead>\n",
       "    <tr style=\"text-align: right;\">\n",
       "      <th></th>\n",
       "      <th>body</th>\n",
       "      <th>Subjectivity</th>\n",
       "      <th>Polarity</th>\n",
       "      <th>Analysis</th>\n",
       "    </tr>\n",
       "  </thead>\n",
       "  <tbody>\n",
       "    <tr>\n",
       "      <th>0</th>\n",
       "      <td>woman claims said insults, bystanders didnt. t...</td>\n",
       "      <td>8.437500e+04</td>\n",
       "      <td>-3.229170e+16</td>\n",
       "      <td>Negative</td>\n",
       "    </tr>\n",
       "    <tr>\n",
       "      <th>1</th>\n",
       "      <td>turkey doesn't know balkans.</td>\n",
       "      <td>0.000000e+00</td>\n",
       "      <td>0.000000e+00</td>\n",
       "      <td>Neutral</td>\n",
       "    </tr>\n",
       "    <tr>\n",
       "      <th>2</th>\n",
       "      <td>lot talk turkey</td>\n",
       "      <td>0.000000e+00</td>\n",
       "      <td>0.000000e+00</td>\n",
       "      <td>Neutral</td>\n",
       "    </tr>\n",
       "    <tr>\n",
       "      <th>3</th>\n",
       "      <td>don't like ruling party turkey. it's turkish p...</td>\n",
       "      <td>0.000000e+00</td>\n",
       "      <td>0.000000e+00</td>\n",
       "      <td>Neutral</td>\n",
       "    </tr>\n",
       "    <tr>\n",
       "      <th>4</th>\n",
       "      <td>create confusion absolute numbers. ~0.01 popul...</td>\n",
       "      <td>4.233840e+15</td>\n",
       "      <td>-2.083330e+16</td>\n",
       "      <td>Negative</td>\n",
       "    </tr>\n",
       "  </tbody>\n",
       "</table>\n",
       "</div>"
      ],
      "text/plain": [
       "                                                body  ...  Analysis\n",
       "0  woman claims said insults, bystanders didnt. t...  ...  Negative\n",
       "1                       turkey doesn't know balkans.  ...   Neutral\n",
       "2                                    lot talk turkey  ...   Neutral\n",
       "3  don't like ruling party turkey. it's turkish p...  ...   Neutral\n",
       "4  create confusion absolute numbers. ~0.01 popul...  ...  Negative\n",
       "\n",
       "[5 rows x 4 columns]"
      ]
     },
     "execution_count": 7,
     "metadata": {
      "tags": []
     },
     "output_type": "execute_result"
    }
   ],
   "source": [
    "data_train.head(5)"
   ]
  },
  {
   "cell_type": "code",
   "execution_count": 8,
   "metadata": {
    "executionInfo": {
     "elapsed": 631,
     "status": "ok",
     "timestamp": 1609232848917,
     "user": {
      "displayName": "H. Vildan Yurtsever",
      "photoUrl": "https://lh6.googleusercontent.com/-Kof8dNOY2TI/AAAAAAAAAAI/AAAAAAAAAEA/VNLk2YBe6RY/s64/photo.jpg",
      "userId": "11283036826844958450"
     },
     "user_tz": -180
    },
    "id": "q1cGJLzg7Kx7"
   },
   "outputs": [],
   "source": [
    "def to_sentiment(sentiment):\n",
    "  sentiment = str(sentiment)\n",
    "  if sentiment == 'Negative':\n",
    "    return 0\n",
    "  elif sentiment == 'Neutral':\n",
    "    return 1\n",
    "  else:\n",
    "    return 2"
   ]
  },
  {
   "cell_type": "code",
   "execution_count": 9,
   "metadata": {
    "executionInfo": {
     "elapsed": 531,
     "status": "ok",
     "timestamp": 1609232850519,
     "user": {
      "displayName": "H. Vildan Yurtsever",
      "photoUrl": "https://lh6.googleusercontent.com/-Kof8dNOY2TI/AAAAAAAAAAI/AAAAAAAAAEA/VNLk2YBe6RY/s64/photo.jpg",
      "userId": "11283036826844958450"
     },
     "user_tz": -180
    },
    "id": "6dJ-To9485tc"
   },
   "outputs": [],
   "source": [
    "data_train['Analysis'] = data_train.Analysis.apply(to_sentiment)"
   ]
  },
  {
   "cell_type": "code",
   "execution_count": 10,
   "metadata": {
    "colab": {
     "base_uri": "https://localhost:8080/"
    },
    "executionInfo": {
     "elapsed": 393,
     "status": "ok",
     "timestamp": 1609232851427,
     "user": {
      "displayName": "H. Vildan Yurtsever",
      "photoUrl": "https://lh6.googleusercontent.com/-Kof8dNOY2TI/AAAAAAAAAAI/AAAAAAAAAEA/VNLk2YBe6RY/s64/photo.jpg",
      "userId": "11283036826844958450"
     },
     "user_tz": -180
    },
    "id": "-63AF4Gn8-ck",
    "outputId": "fdac745e-7416-48a8-d44e-ccc82a575e3f"
   },
   "outputs": [
    {
     "data": {
      "text/plain": [
       "0       0\n",
       "1       1\n",
       "2       1\n",
       "3       1\n",
       "4       0\n",
       "       ..\n",
       "9993    0\n",
       "9994    2\n",
       "9995    0\n",
       "9996    0\n",
       "9997    2\n",
       "Name: Analysis, Length: 9998, dtype: int64"
      ]
     },
     "execution_count": 10,
     "metadata": {
      "tags": []
     },
     "output_type": "execute_result"
    }
   ],
   "source": [
    "data_train['Analysis']"
   ]
  },
  {
   "cell_type": "code",
   "execution_count": 11,
   "metadata": {
    "executionInfo": {
     "elapsed": 433,
     "status": "ok",
     "timestamp": 1609232852357,
     "user": {
      "displayName": "H. Vildan Yurtsever",
      "photoUrl": "https://lh6.googleusercontent.com/-Kof8dNOY2TI/AAAAAAAAAAI/AAAAAAAAAEA/VNLk2YBe6RY/s64/photo.jpg",
      "userId": "11283036826844958450"
     },
     "user_tz": -180
    },
    "id": "mwUZuRmy9BXs"
   },
   "outputs": [],
   "source": [
    "class_names = ['negative', 'neutral', 'positive']"
   ]
  },
  {
   "cell_type": "code",
   "execution_count": 12,
   "metadata": {
    "executionInfo": {
     "elapsed": 817,
     "status": "ok",
     "timestamp": 1609232853238,
     "user": {
      "displayName": "H. Vildan Yurtsever",
      "photoUrl": "https://lh6.googleusercontent.com/-Kof8dNOY2TI/AAAAAAAAAAI/AAAAAAAAAEA/VNLk2YBe6RY/s64/photo.jpg",
      "userId": "11283036826844958450"
     },
     "user_tz": -180
    },
    "id": "Okz7JjBc9Gnk"
   },
   "outputs": [],
   "source": [
    "PRE_TRAINED_MODEL_NAME = 'bert-base-uncased'"
   ]
  },
  {
   "cell_type": "code",
   "execution_count": 13,
   "metadata": {
    "colab": {
     "base_uri": "https://localhost:8080/",
     "height": 67,
     "referenced_widgets": [
      "f36f8d5cfcfb41f4812a4d635b57937e",
      "84462d92ec2d478fa22791487e248cb8",
      "1b1c9ee6e86a443985e47daf911020e1",
      "8470b1da8a124edcb3493154e14600a3",
      "50d610890ba24cf0bbc70b5b9f4ad47d",
      "6eb5995d41564b0a8eeb3c6db911c034",
      "61b3a6b5859f437c8471f167d2c18f21",
      "329d71b50ee24971a620294edf031f5c"
     ]
    },
    "executionInfo": {
     "elapsed": 793,
     "status": "ok",
     "timestamp": 1609232854601,
     "user": {
      "displayName": "H. Vildan Yurtsever",
      "photoUrl": "https://lh6.googleusercontent.com/-Kof8dNOY2TI/AAAAAAAAAAI/AAAAAAAAAEA/VNLk2YBe6RY/s64/photo.jpg",
      "userId": "11283036826844958450"
     },
     "user_tz": -180
    },
    "id": "QX4PvFXC9U-0",
    "outputId": "79085c03-c5aa-42c0-d9a7-7171c9282edb"
   },
   "outputs": [
    {
     "data": {
      "application/vnd.jupyter.widget-view+json": {
       "model_id": "f36f8d5cfcfb41f4812a4d635b57937e",
       "version_major": 2,
       "version_minor": 0
      },
      "text/plain": [
       "HBox(children=(FloatProgress(value=0.0, description='Downloading', max=231508.0, style=ProgressStyle(descripti…"
      ]
     },
     "metadata": {
      "tags": []
     },
     "output_type": "display_data"
    },
    {
     "name": "stdout",
     "output_type": "stream",
     "text": [
      "\n"
     ]
    }
   ],
   "source": [
    "tokenizer = BertTokenizer.from_pretrained(PRE_TRAINED_MODEL_NAME)"
   ]
  },
  {
   "cell_type": "code",
   "execution_count": 14,
   "metadata": {
    "colab": {
     "base_uri": "https://localhost:8080/"
    },
    "executionInfo": {
     "elapsed": 838,
     "status": "ok",
     "timestamp": 1609232855559,
     "user": {
      "displayName": "H. Vildan Yurtsever",
      "photoUrl": "https://lh6.googleusercontent.com/-Kof8dNOY2TI/AAAAAAAAAAI/AAAAAAAAAEA/VNLk2YBe6RY/s64/photo.jpg",
      "userId": "11283036826844958450"
     },
     "user_tz": -180
    },
    "id": "WtMJRIkl9al0",
    "outputId": "12fed6dd-04b0-44a1-8d58-c5761f82c8d1"
   },
   "outputs": [
    {
     "name": "stdout",
     "output_type": "stream",
     "text": [
      " Sentence: When was I last outside? I am stuck at home for 2 weeks.\n",
      "   Tokens: ['when', 'was', 'i', 'last', 'outside', '?', 'i', 'am', 'stuck', 'at', 'home', 'for', '2', 'weeks', '.']\n",
      "Token IDs: [2043, 2001, 1045, 2197, 2648, 1029, 1045, 2572, 5881, 2012, 2188, 2005, 1016, 3134, 1012]\n"
     ]
    }
   ],
   "source": [
    "sample_txt = 'When was I last outside? I am stuck at home for 2 weeks.'\n",
    "tokens = tokenizer.tokenize(sample_txt)\n",
    "token_ids = tokenizer.convert_tokens_to_ids(tokens)\n",
    "\n",
    "print(f' Sentence: {sample_txt}')\n",
    "print(f'   Tokens: {tokens}')\n",
    "print(f'Token IDs: {token_ids}')"
   ]
  },
  {
   "cell_type": "code",
   "execution_count": 15,
   "metadata": {
    "colab": {
     "base_uri": "https://localhost:8080/"
    },
    "executionInfo": {
     "elapsed": 918,
     "status": "ok",
     "timestamp": 1609232856593,
     "user": {
      "displayName": "H. Vildan Yurtsever",
      "photoUrl": "https://lh6.googleusercontent.com/-Kof8dNOY2TI/AAAAAAAAAAI/AAAAAAAAAEA/VNLk2YBe6RY/s64/photo.jpg",
      "userId": "11283036826844958450"
     },
     "user_tz": -180
    },
    "id": "bIruGV7Q9gEE",
    "outputId": "1183c9d9-8c42-4457-ee72-d1351c3a3192"
   },
   "outputs": [
    {
     "data": {
      "text/plain": [
       "('[SEP]', 102)"
      ]
     },
     "execution_count": 15,
     "metadata": {
      "tags": []
     },
     "output_type": "execute_result"
    }
   ],
   "source": [
    "# [SEP] - marker for ending of a sentence\n",
    "tokenizer.sep_token, tokenizer.sep_token_id"
   ]
  },
  {
   "cell_type": "code",
   "execution_count": 16,
   "metadata": {
    "colab": {
     "base_uri": "https://localhost:8080/"
    },
    "executionInfo": {
     "elapsed": 670,
     "status": "ok",
     "timestamp": 1609232856594,
     "user": {
      "displayName": "H. Vildan Yurtsever",
      "photoUrl": "https://lh6.googleusercontent.com/-Kof8dNOY2TI/AAAAAAAAAAI/AAAAAAAAAEA/VNLk2YBe6RY/s64/photo.jpg",
      "userId": "11283036826844958450"
     },
     "user_tz": -180
    },
    "id": "yg_eiCg--KyE",
    "outputId": "42dcb853-0449-47f6-c040-e45ce7d01c9e"
   },
   "outputs": [
    {
     "data": {
      "text/plain": [
       "('[CLS]', 101)"
      ]
     },
     "execution_count": 16,
     "metadata": {
      "tags": []
     },
     "output_type": "execute_result"
    }
   ],
   "source": [
    "# [CLS] - we must add this token to the start of each sentence, so BERT knows we’re doing classification\n",
    "tokenizer.cls_token, tokenizer.cls_token_id"
   ]
  },
  {
   "cell_type": "code",
   "execution_count": 17,
   "metadata": {
    "colab": {
     "base_uri": "https://localhost:8080/"
    },
    "executionInfo": {
     "elapsed": 670,
     "status": "ok",
     "timestamp": 1609232857817,
     "user": {
      "displayName": "H. Vildan Yurtsever",
      "photoUrl": "https://lh6.googleusercontent.com/-Kof8dNOY2TI/AAAAAAAAAAI/AAAAAAAAAEA/VNLk2YBe6RY/s64/photo.jpg",
      "userId": "11283036826844958450"
     },
     "user_tz": -180
    },
    "id": "c6YqRdXa-RDU",
    "outputId": "73583d99-959a-4f34-f6d0-17ffa77ce4a2"
   },
   "outputs": [
    {
     "data": {
      "text/plain": [
       "('[PAD]', 0)"
      ]
     },
     "execution_count": 17,
     "metadata": {
      "tags": []
     },
     "output_type": "execute_result"
    }
   ],
   "source": [
    "# There is also a special token for padding:\n",
    "tokenizer.pad_token, tokenizer.pad_token_id"
   ]
  },
  {
   "cell_type": "code",
   "execution_count": 18,
   "metadata": {
    "colab": {
     "base_uri": "https://localhost:8080/"
    },
    "executionInfo": {
     "elapsed": 411,
     "status": "ok",
     "timestamp": 1609232857818,
     "user": {
      "displayName": "H. Vildan Yurtsever",
      "photoUrl": "https://lh6.googleusercontent.com/-Kof8dNOY2TI/AAAAAAAAAAI/AAAAAAAAAEA/VNLk2YBe6RY/s64/photo.jpg",
      "userId": "11283036826844958450"
     },
     "user_tz": -180
    },
    "id": "Z-b8mwV2-VZV",
    "outputId": "8d4ce785-251e-4a1a-c56b-e67aa6fdc552"
   },
   "outputs": [
    {
     "data": {
      "text/plain": [
       "('[UNK]', 100)"
      ]
     },
     "execution_count": 18,
     "metadata": {
      "tags": []
     },
     "output_type": "execute_result"
    }
   ],
   "source": [
    "# BERT understands tokens that were in the training set. Everything else can be encoded using the [UNK] (unknown) token:\n",
    "tokenizer.unk_token, tokenizer.unk_token_id\n",
    "('[UNK]', 100)"
   ]
  },
  {
   "cell_type": "code",
   "execution_count": 19,
   "metadata": {
    "colab": {
     "base_uri": "https://localhost:8080/"
    },
    "executionInfo": {
     "elapsed": 565,
     "status": "ok",
     "timestamp": 1609232859424,
     "user": {
      "displayName": "H. Vildan Yurtsever",
      "photoUrl": "https://lh6.googleusercontent.com/-Kof8dNOY2TI/AAAAAAAAAAI/AAAAAAAAAEA/VNLk2YBe6RY/s64/photo.jpg",
      "userId": "11283036826844958450"
     },
     "user_tz": -180
    },
    "id": "PhVyFCvk-bkN",
    "outputId": "6e8ea302-3e6a-4861-9dd4-b60fd0d9ae3b"
   },
   "outputs": [
    {
     "name": "stderr",
     "output_type": "stream",
     "text": [
      "Truncation was not explicitly activated but `max_length` is provided a specific value, please use `truncation=True` to explicitly truncate examples to max length. Defaulting to 'longest_first' truncation strategy. If you encode pairs of sequences (GLUE-style) with the tokenizer you can select this strategy more precisely by providing a specific strategy to `truncation`.\n",
      "/usr/local/lib/python3.6/dist-packages/transformers/tokenization_utils_base.py:2179: FutureWarning: The `pad_to_max_length` argument is deprecated and will be removed in a future version, use `padding=True` or `padding='longest'` to pad to the longest sequence in the batch, or use `padding='max_length'` to pad to a max length. In this case, you can give a specific length with `max_length` (e.g. `max_length=45`) or leave max_length to None to pad to the maximal input size of the model (e.g. 512 for Bert).\n",
      "  FutureWarning,\n"
     ]
    },
    {
     "data": {
      "text/plain": [
       "dict_keys(['input_ids', 'attention_mask'])"
      ]
     },
     "execution_count": 19,
     "metadata": {
      "tags": []
     },
     "output_type": "execute_result"
    }
   ],
   "source": [
    "# All of that work can be done using the encode_plus() method:\n",
    "encoding = tokenizer.encode_plus(\n",
    "  sample_txt,\n",
    "  max_length=32,\n",
    "  add_special_tokens=True, # Add '[CLS]' and '[SEP]'\n",
    "  return_token_type_ids=False,\n",
    "  pad_to_max_length=True,\n",
    "  return_attention_mask=True,\n",
    "  return_tensors='pt',  # Return PyTorch tensors\n",
    ")\n",
    "encoding.keys()\n",
    "\n",
    "#dict_keys(['input_ids', 'attention_mask'])"
   ]
  },
  {
   "cell_type": "code",
   "execution_count": 20,
   "metadata": {
    "colab": {
     "base_uri": "https://localhost:8080/"
    },
    "executionInfo": {
     "elapsed": 424,
     "status": "ok",
     "timestamp": 1609232860469,
     "user": {
      "displayName": "H. Vildan Yurtsever",
      "photoUrl": "https://lh6.googleusercontent.com/-Kof8dNOY2TI/AAAAAAAAAAI/AAAAAAAAAEA/VNLk2YBe6RY/s64/photo.jpg",
      "userId": "11283036826844958450"
     },
     "user_tz": -180
    },
    "id": "GcEOmywl-mkU",
    "outputId": "b81a1a74-bca9-4a80-9f9c-2f89d0c5e506"
   },
   "outputs": [
    {
     "name": "stdout",
     "output_type": "stream",
     "text": [
      "32\n"
     ]
    },
    {
     "data": {
      "text/plain": [
       "tensor([ 101, 2043, 2001, 1045, 2197, 2648, 1029, 1045, 2572, 5881, 2012, 2188,\n",
       "        2005, 1016, 3134, 1012,  102,    0,    0,    0,    0,    0,    0,    0,\n",
       "           0,    0,    0,    0,    0,    0,    0,    0])"
      ]
     },
     "execution_count": 20,
     "metadata": {
      "tags": []
     },
     "output_type": "execute_result"
    }
   ],
   "source": [
    "print(len(encoding['input_ids'][0]))\n",
    "encoding['input_ids'][0]"
   ]
  },
  {
   "cell_type": "code",
   "execution_count": 21,
   "metadata": {
    "colab": {
     "base_uri": "https://localhost:8080/"
    },
    "executionInfo": {
     "elapsed": 779,
     "status": "ok",
     "timestamp": 1609232862064,
     "user": {
      "displayName": "H. Vildan Yurtsever",
      "photoUrl": "https://lh6.googleusercontent.com/-Kof8dNOY2TI/AAAAAAAAAAI/AAAAAAAAAEA/VNLk2YBe6RY/s64/photo.jpg",
      "userId": "11283036826844958450"
     },
     "user_tz": -180
    },
    "id": "N15QeIoC_Nyd",
    "outputId": "c67f549b-2e7e-48ef-9a87-abd0375e464f"
   },
   "outputs": [
    {
     "data": {
      "text/plain": [
       "['[CLS]',\n",
       " 'when',\n",
       " 'was',\n",
       " 'i',\n",
       " 'last',\n",
       " 'outside',\n",
       " '?',\n",
       " 'i',\n",
       " 'am',\n",
       " 'stuck',\n",
       " 'at',\n",
       " 'home',\n",
       " 'for',\n",
       " '2',\n",
       " 'weeks',\n",
       " '.',\n",
       " '[SEP]',\n",
       " '[PAD]',\n",
       " '[PAD]',\n",
       " '[PAD]',\n",
       " '[PAD]',\n",
       " '[PAD]',\n",
       " '[PAD]',\n",
       " '[PAD]',\n",
       " '[PAD]',\n",
       " '[PAD]',\n",
       " '[PAD]',\n",
       " '[PAD]',\n",
       " '[PAD]',\n",
       " '[PAD]',\n",
       " '[PAD]',\n",
       " '[PAD]']"
      ]
     },
     "execution_count": 21,
     "metadata": {
      "tags": []
     },
     "output_type": "execute_result"
    }
   ],
   "source": [
    "# We can inverse the tokenization to have a look at the special tokens:\n",
    "tokenizer.convert_ids_to_tokens(encoding['input_ids'][0])"
   ]
  },
  {
   "cell_type": "code",
   "execution_count": 22,
   "metadata": {
    "executionInfo": {
     "elapsed": 10456,
     "status": "ok",
     "timestamp": 1609232882714,
     "user": {
      "displayName": "H. Vildan Yurtsever",
      "photoUrl": "https://lh6.googleusercontent.com/-Kof8dNOY2TI/AAAAAAAAAAI/AAAAAAAAAEA/VNLk2YBe6RY/s64/photo.jpg",
      "userId": "11283036826844958450"
     },
     "user_tz": -180
    },
    "id": "tDjez_9MBYcj"
   },
   "outputs": [],
   "source": [
    "# Choosing Sequence Length\n",
    "#BERT works with fixed-length sequences. We’ll use a simple strategy to choose the max length. Let’s store the token length of each review:\n",
    "token_lens = []\n",
    "for txt in data_train.body:\n",
    "  tokens = tokenizer.encode(txt, max_length=256)\n",
    "  token_lens.append(len(tokens))"
   ]
  },
  {
   "cell_type": "code",
   "execution_count": 23,
   "metadata": {
    "colab": {
     "base_uri": "https://localhost:8080/",
     "height": 561
    },
    "executionInfo": {
     "elapsed": 1356,
     "status": "ok",
     "timestamp": 1609232886309,
     "user": {
      "displayName": "H. Vildan Yurtsever",
      "photoUrl": "https://lh6.googleusercontent.com/-Kof8dNOY2TI/AAAAAAAAAAI/AAAAAAAAAEA/VNLk2YBe6RY/s64/photo.jpg",
      "userId": "11283036826844958450"
     },
     "user_tz": -180
    },
    "id": "JwOn8C7RBhbG",
    "outputId": "095674bf-2e15-4c36-c7b3-4a7d02888154"
   },
   "outputs": [
    {
     "name": "stderr",
     "output_type": "stream",
     "text": [
      "/usr/local/lib/python3.6/dist-packages/seaborn/distributions.py:2551: FutureWarning: `distplot` is a deprecated function and will be removed in a future version. Please adapt your code to use either `displot` (a figure-level function with similar flexibility) or `histplot` (an axes-level function for histograms).\n",
      "  warnings.warn(msg, FutureWarning)\n"
     ]
    },
    {
     "data": {
      "image/png": "[encoded data removed]",
      "text/plain": [
       "<Figure size 864x576 with 1 Axes>"
      ]
     },
     "metadata": {
      "image/png": {
       "height": 489,
       "width": 757
      },
      "tags": []
     },
     "output_type": "display_data"
    }
   ],
   "source": [
    "sns.distplot(token_lens)\n",
    "plt.xlim([0, 256]);\n",
    "plt.xlabel('Token count');"
   ]
  },
  {
   "cell_type": "code",
   "execution_count": 24,
   "metadata": {
    "executionInfo": {
     "elapsed": 567,
     "status": "ok",
     "timestamp": 1609232888285,
     "user": {
      "displayName": "H. Vildan Yurtsever",
      "photoUrl": "https://lh6.googleusercontent.com/-Kof8dNOY2TI/AAAAAAAAAAI/AAAAAAAAAEA/VNLk2YBe6RY/s64/photo.jpg",
      "userId": "11283036826844958450"
     },
     "user_tz": -180
    },
    "id": "iezqOMUlCNAe"
   },
   "outputs": [],
   "source": [
    "# MAX LEN of 200 words selected.\n",
    "MAX_LEN = 200"
   ]
  },
  {
   "cell_type": "code",
   "execution_count": 25,
   "metadata": {
    "executionInfo": {
     "elapsed": 556,
     "status": "ok",
     "timestamp": 1609232890301,
     "user": {
      "displayName": "H. Vildan Yurtsever",
      "photoUrl": "https://lh6.googleusercontent.com/-Kof8dNOY2TI/AAAAAAAAAAI/AAAAAAAAAEA/VNLk2YBe6RY/s64/photo.jpg",
      "userId": "11283036826844958450"
     },
     "user_tz": -180
    },
    "id": "DsFCHNntDeKW"
   },
   "outputs": [],
   "source": [
    "class EUCommentsDataset(Dataset):\n",
    "  def __init__(self, body, targets, tokenizer, max_len):\n",
    "    self.body = body\n",
    "    self.targets = targets\n",
    "    self.tokenizer = tokenizer\n",
    "    self.max_len = max_len\n",
    "\n",
    "  def __len__(self):\n",
    "    return len(self.body)\n",
    "\n",
    "  def __getitem__(self, item):\n",
    "    body = str(self.body[item])\n",
    "    target = self.targets[item]\n",
    "    encoding = self.tokenizer.encode_plus(\n",
    "      body,\n",
    "      add_special_tokens=True,\n",
    "      max_length=self.max_len,\n",
    "      return_token_type_ids=False,\n",
    "      pad_to_max_length=True,\n",
    "      return_attention_mask=True,\n",
    "      return_tensors='pt',\n",
    "    )\n",
    "\n",
    "    return {\n",
    "      'body': body,\n",
    "      'input_ids': encoding['input_ids'].flatten(),\n",
    "      'attention_mask': encoding['attention_mask'].flatten(),\n",
    "      'targets': torch.tensor(target, dtype=torch.long)\n",
    "    }"
   ]
  },
  {
   "cell_type": "code",
   "execution_count": 26,
   "metadata": {
    "executionInfo": {
     "elapsed": 706,
     "status": "ok",
     "timestamp": 1609232897711,
     "user": {
      "displayName": "H. Vildan Yurtsever",
      "photoUrl": "https://lh6.googleusercontent.com/-Kof8dNOY2TI/AAAAAAAAAAI/AAAAAAAAAEA/VNLk2YBe6RY/s64/photo.jpg",
      "userId": "11283036826844958450"
     },
     "user_tz": -180
    },
    "id": "v2HFVkuPEco4"
   },
   "outputs": [],
   "source": [
    "# The tokenizer is doing most of the heavy lifting for us. We also return the review texts, so it’ll be easier to evaluate the predictions from our model. Let’s split the data:"
   ]
  },
  {
   "cell_type": "code",
   "execution_count": 27,
   "metadata": {
    "executionInfo": {
     "elapsed": 709,
     "status": "ok",
     "timestamp": 1609232897978,
     "user": {
      "displayName": "H. Vildan Yurtsever",
      "photoUrl": "https://lh6.googleusercontent.com/-Kof8dNOY2TI/AAAAAAAAAAI/AAAAAAAAAEA/VNLk2YBe6RY/s64/photo.jpg",
      "userId": "11283036826844958450"
     },
     "user_tz": -180
    },
    "id": "meRgPoflEqD3"
   },
   "outputs": [],
   "source": [
    "df_train, df_test = train_test_split(\n",
    "  data_train,\n",
    "  test_size=0.1,\n",
    "  random_state=RANDOM_SEED\n",
    ")\n",
    "df_val, df_test = train_test_split(\n",
    "  df_test,\n",
    "  test_size=0.5,\n",
    "  random_state=RANDOM_SEED\n",
    ")"
   ]
  },
  {
   "cell_type": "code",
   "execution_count": 28,
   "metadata": {
    "colab": {
     "base_uri": "https://localhost:8080/"
    },
    "executionInfo": {
     "elapsed": 548,
     "status": "ok",
     "timestamp": 1609232899492,
     "user": {
      "displayName": "H. Vildan Yurtsever",
      "photoUrl": "https://lh6.googleusercontent.com/-Kof8dNOY2TI/AAAAAAAAAAI/AAAAAAAAAEA/VNLk2YBe6RY/s64/photo.jpg",
      "userId": "11283036826844958450"
     },
     "user_tz": -180
    },
    "id": "n7lgyl-6E1B3",
    "outputId": "9a1aed65-791f-4210-bac6-8b19d9131057"
   },
   "outputs": [
    {
     "data": {
      "text/plain": [
       "((8998, 4), (500, 4), (500, 4))"
      ]
     },
     "execution_count": 28,
     "metadata": {
      "tags": []
     },
     "output_type": "execute_result"
    }
   ],
   "source": [
    "df_train.shape, df_val.shape, df_test.shape\n"
   ]
  },
  {
   "cell_type": "code",
   "execution_count": 29,
   "metadata": {
    "executionInfo": {
     "elapsed": 566,
     "status": "ok",
     "timestamp": 1609232900797,
     "user": {
      "displayName": "H. Vildan Yurtsever",
      "photoUrl": "https://lh6.googleusercontent.com/-Kof8dNOY2TI/AAAAAAAAAAI/AAAAAAAAAEA/VNLk2YBe6RY/s64/photo.jpg",
      "userId": "11283036826844958450"
     },
     "user_tz": -180
    },
    "id": "E5q-kOKgE2e_"
   },
   "outputs": [],
   "source": [
    "# We also need to create a couple of data loaders. Here’s a helper function to do it:\n",
    "def create_data_loader(df, tokenizer, max_len, batch_size):\n",
    "  ds = EUCommentsDataset(\n",
    "    body=df.body.to_numpy(),\n",
    "    targets=df.Analysis.to_numpy(),\n",
    "    tokenizer=tokenizer,\n",
    "    max_len=max_len\n",
    "  )\n",
    "  return DataLoader(\n",
    "    ds,\n",
    "    batch_size=batch_size,\n",
    "    num_workers=4\n",
    "  )"
   ]
  },
  {
   "cell_type": "code",
   "execution_count": 30,
   "metadata": {
    "executionInfo": {
     "elapsed": 539,
     "status": "ok",
     "timestamp": 1609232903929,
     "user": {
      "displayName": "H. Vildan Yurtsever",
      "photoUrl": "https://lh6.googleusercontent.com/-Kof8dNOY2TI/AAAAAAAAAAI/AAAAAAAAAEA/VNLk2YBe6RY/s64/photo.jpg",
      "userId": "11283036826844958450"
     },
     "user_tz": -180
    },
    "id": "09DQiYsLFD53"
   },
   "outputs": [],
   "source": [
    "BATCH_SIZE = 20\n",
    "train_data_loader = create_data_loader(df_train, tokenizer, MAX_LEN, BATCH_SIZE)\n",
    "val_data_loader = create_data_loader(df_val, tokenizer, MAX_LEN, BATCH_SIZE)\n",
    "test_data_loader = create_data_loader(df_test, tokenizer, MAX_LEN, BATCH_SIZE)"
   ]
  },
  {
   "cell_type": "code",
   "execution_count": 31,
   "metadata": {
    "colab": {
     "base_uri": "https://localhost:8080/"
    },
    "executionInfo": {
     "elapsed": 861,
     "status": "ok",
     "timestamp": 1609232905523,
     "user": {
      "displayName": "H. Vildan Yurtsever",
      "photoUrl": "https://lh6.googleusercontent.com/-Kof8dNOY2TI/AAAAAAAAAAI/AAAAAAAAAEA/VNLk2YBe6RY/s64/photo.jpg",
      "userId": "11283036826844958450"
     },
     "user_tz": -180
    },
    "id": "XBGS8d9uFNT3",
    "outputId": "2896c747-5f6d-4170-cd30-1ac4642024bf"
   },
   "outputs": [
    {
     "name": "stderr",
     "output_type": "stream",
     "text": [
      "/usr/local/lib/python3.6/dist-packages/transformers/tokenization_utils_base.py:2179: FutureWarning: The `pad_to_max_length` argument is deprecated and will be removed in a future version, use `padding=True` or `padding='longest'` to pad to the longest sequence in the batch, or use `padding='max_length'` to pad to a max length. In this case, you can give a specific length with `max_length` (e.g. `max_length=45`) or leave max_length to None to pad to the maximal input size of the model (e.g. 512 for Bert).\n",
      "  FutureWarning,\n",
      "/usr/local/lib/python3.6/dist-packages/transformers/tokenization_utils_base.py:2179: FutureWarning: The `pad_to_max_length` argument is deprecated and will be removed in a future version, use `padding=True` or `padding='longest'` to pad to the longest sequence in the batch, or use `padding='max_length'` to pad to a max length. In this case, you can give a specific length with `max_length` (e.g. `max_length=45`) or leave max_length to None to pad to the maximal input size of the model (e.g. 512 for Bert).\n",
      "  FutureWarning,\n",
      "/usr/local/lib/python3.6/dist-packages/transformers/tokenization_utils_base.py:2179: FutureWarning: The `pad_to_max_length` argument is deprecated and will be removed in a future version, use `padding=True` or `padding='longest'` to pad to the longest sequence in the batch, or use `padding='max_length'` to pad to a max length. In this case, you can give a specific length with `max_length` (e.g. `max_length=45`) or leave max_length to None to pad to the maximal input size of the model (e.g. 512 for Bert).\n",
      "  FutureWarning,\n",
      "/usr/local/lib/python3.6/dist-packages/transformers/tokenization_utils_base.py:2179: FutureWarning: The `pad_to_max_length` argument is deprecated and will be removed in a future version, use `padding=True` or `padding='longest'` to pad to the longest sequence in the batch, or use `padding='max_length'` to pad to a max length. In this case, you can give a specific length with `max_length` (e.g. `max_length=45`) or leave max_length to None to pad to the maximal input size of the model (e.g. 512 for Bert).\n",
      "  FutureWarning,\n"
     ]
    },
    {
     "data": {
      "text/plain": [
       "dict_keys(['body', 'input_ids', 'attention_mask', 'targets'])"
      ]
     },
     "execution_count": 31,
     "metadata": {
      "tags": []
     },
     "output_type": "execute_result"
    }
   ],
   "source": [
    "data = next(iter(train_data_loader))\n",
    "data.keys()"
   ]
  },
  {
   "cell_type": "code",
   "execution_count": 32,
   "metadata": {
    "colab": {
     "base_uri": "https://localhost:8080/"
    },
    "executionInfo": {
     "elapsed": 520,
     "status": "ok",
     "timestamp": 1609232907016,
     "user": {
      "displayName": "H. Vildan Yurtsever",
      "photoUrl": "https://lh6.googleusercontent.com/-Kof8dNOY2TI/AAAAAAAAAAI/AAAAAAAAAEA/VNLk2YBe6RY/s64/photo.jpg",
      "userId": "11283036826844958450"
     },
     "user_tz": -180
    },
    "id": "DW-B7gucFTDm",
    "outputId": "3636e669-df7c-433c-ba2f-f56102c5a377"
   },
   "outputs": [
    {
     "data": {
      "text/plain": [
       "tensor([2, 0, 0, 1, 0, 2, 2, 2, 2, 2, 0, 1, 2, 2, 2, 0, 2, 0, 2, 0])"
      ]
     },
     "execution_count": 32,
     "metadata": {
      "tags": []
     },
     "output_type": "execute_result"
    }
   ],
   "source": [
    "data['targets']"
   ]
  },
  {
   "cell_type": "code",
   "execution_count": 33,
   "metadata": {
    "colab": {
     "base_uri": "https://localhost:8080/"
    },
    "executionInfo": {
     "elapsed": 614,
     "status": "ok",
     "timestamp": 1609232907303,
     "user": {
      "displayName": "H. Vildan Yurtsever",
      "photoUrl": "https://lh6.googleusercontent.com/-Kof8dNOY2TI/AAAAAAAAAAI/AAAAAAAAAEA/VNLk2YBe6RY/s64/photo.jpg",
      "userId": "11283036826844958450"
     },
     "user_tz": -180
    },
    "id": "nAGZXR2IFXDv",
    "outputId": "baba9f83-be5c-4dc9-ffa2-ca6ebce90ae3",
    "scrolled": true
   },
   "outputs": [
    {
     "data": {
      "text/plain": [
       "[\"said turkey. family place nice. politics it's seen negative country.\",\n",
       " 'hope it\\'ll recover start extract gas. officials analysts cautioned decade gas black sea come online, need billions dollars investment build infrastructure production supply. currently company know cash conduct operations contract tpao exxonmobil usual 50\\x9650 deal. matters proprietary technologies know critical think. russia china contracting \"oil majors\" assist hydrocarbon exploitation. china sits largest known deposits shale gas unable exploit doesn\\x92t know how. china needs importing gas. gas pocket exxon black sea extraordinarily deep expensive. gas located waters 2,100 metres deep, energy minister fatih donmez said, drilling extending 1,400 metres sea bed. issue cost. current low international price, prospective developments offshore hydrocarbons cancelled worthwhile corporations gone bankrupt. current gas prices low there\\x92s supply countries economies rely gas exports. cutting production mean immediate loss earnings market share buyers look alternative suppliers. culprits shale gas producers. low prices led recent series bankruptcies offshore gas business. exxon, chevron, total eni hold offshore prospecting operations world wide work cypriot aphrodite calypso fields situated half depth black sea latest finds 50 existing egyptian (zohr) israeli (leviathan) infrastructures. current demand levels, adding producer saturated market depress world prices. imo, turkish government wanted act meaningfully energy sector, 1) invest renewables fission (could collaborate german companies investing fields while) 2) invest nuclear energy 3) build refinery instead paying huge bills importing refined fuels. fact, refined petroleum imports cost imported gas. indication acute problem, exxon mobil, joined dow jones industrial average 1928, recently removed blue-chip stock market dow index. furthermore knows exactly black sea gas going cost extract pump ashore. cost extraction deep offshore onshore [considerably expensive]( financial aspect gas drilling influence crude oil prices production, gas prices follow price crude. conclusion, hydrocarbon deposits expensive exploit, case low international prices (like case currently) prospective producer like turkey sell loss stop production purchase cheaper oil/gas elsewhere. nationalists rightfully suggest energy self sufficiency goal self turkey\\x92s latent under-investment refining definitely brings questions, particularly turkey relies greek refineries refined fuel supply. energy experts claim 20 years fossil fuels challenged renewables fission, keeping hydrocarbon prices low countries relying exports forced sell rock prices. nationalist discourse crowds money makes world round. believe erdogan suddenly brought gas nationalist crowds polls favor. turkey things forgotten fast. buying oil gas crippling us. buying gas oil cheaper turkey moment reasons explained above. there\\'s called [comparative advantage]( turkey, it\\'s cheaper import certain things produce moment, given market prices lack know-how. also, turkey, little \"independent\" having better relations better bring investors invest turkish economy, production, education import know-how. right now, turkey\\'s aggressive policies alienation west cause mass exodus foreign investors money turkish economy addition brain drain western countries educated skilled people don\\'t want live turkey anymore immigrate. instead trying like iran people live poverty, turkey should\\'ve like south korea japan terms relations west, especially us.',\n",
       " 'greece 100% balkan geographically. culturally, outside extreme north (mostly parts macedonia thrace) isn\\x92t. look music example, north melodies instruments distinct balkan turn. islands balkan well. crete akin sicily corsica northern larisa imho. western turkey fact normal looking greek dude, spent days greek buddies turkish aegean coast 20 years ago (between smirna bodrum), constantly asked locals italians spaniards. day greeks turks brothers time being, don\\x92t know well, sorry. hardly intermarry live door other. no, bs similarities.',\n",
       " \"thats turkey's situation. lived got racism turkish, police. don't know turkey like tomorrow\",\n",
       " 'questions greek borders bar turkey. said comment, backing awful choice adds credits turkey\\x92s claims. doesn\\x92t mean turkey unite over, showing force reinforces narrative. argument unsound germany europe reaffirmed post europe stands greece.',\n",
       " 'erdogan blew - rest - main opposition erdogan threatened invading greece islands. 1974 turkey invaded cyprus. erdogan mild turkish past, includes armenian genocide greek genocide jews disappearing turkey years. turkish war crimes genocide low key unecknowledged years. conveniently blaming erdogan rather. convenient.',\n",
       " \"greece maximalist expansionist, alright. think getting clearly rights, simply application international laws. problem is, laws applied places, everybody favor applying them. like tensions china coastal neighbors rights southern china sea. think simply matter international law, guaranteed applied country, predict maximalist china problems enforcing claims southern china sea. thinks deserve incoming mass downvotes, right? think, article randomly applied law indefinetely claim resources far away shores neighbor help control resources sake keeping international law, going disappointed. reality is, military power important necessary help france big boss outside neighborhood overpower turkey. won't let 'rights' paying hefty price it. idea making french rich protect powerful nations neighbors appeasing people sharing riches 'enemy' beneficial you?\",\n",
       " \"albania trojan horse country turkey. long easily influenced turkish government, won't holding seats international groups like this.\",\n",
       " 'ukrainian supporting long anti-russian. kind brainless, on, support turkey azerbaijan',\n",
       " 'based current refugees turkey right unmarketable plushie!',\n",
       " \"fixing shit? mean obey say? islamic dictatorship change turkey puppet. charge doesn't matter. turkey right east mediterranean countries region know it. excluding turkey deals east mediterranean middle finger turks finger broken inserted owners. turkey defend rights ready pay price. so, let rain.\",\n",
       " 'turkey notoriously sexist something? isn\\x92t implication turkey come canada?',\n",
       " 'ah \"kick turkey fron naruto!!!\" pieces. wish journalist like easy job paid write shit.',\n",
       " \"tibet wasn't china then. controlled europe. far west claimed controlled continent independent mapped. goes heart africa amazon rainforest. turkey partially controlled europe? ethiopia taiwan marked colonized? counting brief wartime occupations? parts western sahara marked sphere influence morocco mauritania marked colonized? greenland marked colonized iceland french gianna marked europe? somaliland blank?\",\n",
       " 'they\\x92re eu. maps useful having eu member states plus european non member states comparisons. add turkey eu well.',\n",
       " 'armenian regularly visit mountain flag it. thousands armenians work illegally turkey.',\n",
       " 'nope actually exactly that. ships carrying weapons transported turkish warships. operation irini enforceable turkey denies boarding rights',\n",
       " 'mean maybe azerbaijan turkey stop bullying neighbours',\n",
       " 'live 80 year? possible? \\\\-the east eu gang also, like turkey big block.',\n",
       " 'rest, haftar, gna, shit me, good guys matter hard try convince illusion \"good thats pure ignorance purpose. mass graves committed haftar. gna atleast didnt kill people like haftar did. bad worse haftar easly worse conflict. turkey obviously interests , turkeys interests achieved defending better side. turkey atleast doesnt support piece shit literally killed clan opposed him. follow interests walking mass graves civillians. thats turkey libya. france truly cared human rights , stop supporting haftar leave libya wouldve ended conflict ages ago , obviously dont .']"
      ]
     },
     "execution_count": 33,
     "metadata": {
      "tags": []
     },
     "output_type": "execute_result"
    }
   ],
   "source": [
    "data['body']"
   ]
  },
  {
   "cell_type": "code",
   "execution_count": 34,
   "metadata": {
    "colab": {
     "base_uri": "https://localhost:8080/"
    },
    "executionInfo": {
     "elapsed": 852,
     "status": "ok",
     "timestamp": 1609232908927,
     "user": {
      "displayName": "H. Vildan Yurtsever",
      "photoUrl": "https://lh6.googleusercontent.com/-Kof8dNOY2TI/AAAAAAAAAAI/AAAAAAAAAEA/VNLk2YBe6RY/s64/photo.jpg",
      "userId": "11283036826844958450"
     },
     "user_tz": -180
    },
    "id": "hJi8Gd3gFZTf",
    "outputId": "6509005e-0f39-4baf-b067-d97a6710d6ce"
   },
   "outputs": [
    {
     "name": "stdout",
     "output_type": "stream",
     "text": [
      "torch.Size([20, 200])\n",
      "torch.Size([20, 200])\n",
      "torch.Size([20])\n"
     ]
    }
   ],
   "source": [
    "print(data['input_ids'].shape)\n",
    "print(data['attention_mask'].shape)\n",
    "print(data['targets'].shape)"
   ]
  },
  {
   "cell_type": "code",
   "execution_count": 35,
   "metadata": {
    "colab": {
     "base_uri": "https://localhost:8080/",
     "height": 116,
     "referenced_widgets": [
      "c7f738923cab42feb97c4d8e0eb621b2",
      "d3a498bce92c400caaa725995c7f1f3b",
      "9a2a89086c1f44ee8a2448a5dfadc583",
      "513012cc0d3747b3becae106e575f61b",
      "867775350156457eb7b071f7bade98e7",
      "46f62917c9324a38b07a3b10dc1fc930",
      "9f65c624bb5b4505a0e8bc85dc49c877",
      "7ccc3679f68b4150aab6f04ba08ecbbc",
      "3aa3c5cf88d14950be6994fb647537e2",
      "ec87b6fe822a427d8ce0e97d9942fd2d",
      "bb4f0be714814905aec8ef878749aad8",
      "a5453079ae6345daaf5bdf95e2f4b3a2",
      "93983f10d68241bebcfdd28eefe45cd8",
      "bc58dde9d2dc44a9b73915564aa1119a",
      "20fd634352d34050925cf518df68d65d",
      "3072e985fd7042e2b109943dff61e54a"
     ]
    },
    "executionInfo": {
     "elapsed": 9804,
     "status": "ok",
     "timestamp": 1609232920896,
     "user": {
      "displayName": "H. Vildan Yurtsever",
      "photoUrl": "https://lh6.googleusercontent.com/-Kof8dNOY2TI/AAAAAAAAAAI/AAAAAAAAAEA/VNLk2YBe6RY/s64/photo.jpg",
      "userId": "11283036826844958450"
     },
     "user_tz": -180
    },
    "id": "TTfGTh6sFcEv",
    "outputId": "143a2dfa-4547-4c5f-d084-7b68404c74bc"
   },
   "outputs": [
    {
     "data": {
      "application/vnd.jupyter.widget-view+json": {
       "model_id": "c7f738923cab42feb97c4d8e0eb621b2",
       "version_major": 2,
       "version_minor": 0
      },
      "text/plain": [
       "HBox(children=(FloatProgress(value=0.0, description='Downloading', max=433.0, style=ProgressStyle(description_…"
      ]
     },
     "metadata": {
      "tags": []
     },
     "output_type": "display_data"
    },
    {
     "name": "stdout",
     "output_type": "stream",
     "text": [
      "\n"
     ]
    },
    {
     "data": {
      "application/vnd.jupyter.widget-view+json": {
       "model_id": "3aa3c5cf88d14950be6994fb647537e2",
       "version_major": 2,
       "version_minor": 0
      },
      "text/plain": [
       "HBox(children=(FloatProgress(value=0.0, description='Downloading', max=440473133.0, style=ProgressStyle(descri…"
      ]
     },
     "metadata": {
      "tags": []
     },
     "output_type": "display_data"
    },
    {
     "name": "stdout",
     "output_type": "stream",
     "text": [
      "\n"
     ]
    }
   ],
   "source": [
    "bert_model = BertModel.from_pretrained(PRE_TRAINED_MODEL_NAME, return_dict=False)"
   ]
  },
  {
   "cell_type": "code",
   "execution_count": 36,
   "metadata": {
    "executionInfo": {
     "elapsed": 819,
     "status": "ok",
     "timestamp": 1609232925763,
     "user": {
      "displayName": "H. Vildan Yurtsever",
      "photoUrl": "https://lh6.googleusercontent.com/-Kof8dNOY2TI/AAAAAAAAAAI/AAAAAAAAAEA/VNLk2YBe6RY/s64/photo.jpg",
      "userId": "11283036826844958450"
     },
     "user_tz": -180
    },
    "id": "J4MXd6FkF9q_"
   },
   "outputs": [],
   "source": [
    "last_hidden_state, pooled_output = bert_model(\n",
    "  input_ids=encoding['input_ids'],\n",
    "  attention_mask=encoding['attention_mask']\n",
    ")"
   ]
  },
  {
   "cell_type": "code",
   "execution_count": 37,
   "metadata": {
    "colab": {
     "base_uri": "https://localhost:8080/"
    },
    "executionInfo": {
     "elapsed": 540,
     "status": "ok",
     "timestamp": 1609232927097,
     "user": {
      "displayName": "H. Vildan Yurtsever",
      "photoUrl": "https://lh6.googleusercontent.com/-Kof8dNOY2TI/AAAAAAAAAAI/AAAAAAAAAEA/VNLk2YBe6RY/s64/photo.jpg",
      "userId": "11283036826844958450"
     },
     "user_tz": -180
    },
    "id": "vXx1DFA8GWxf",
    "outputId": "8c445ba7-676d-4206-f83f-130f6e040461"
   },
   "outputs": [
    {
     "data": {
      "text/plain": [
       "768"
      ]
     },
     "execution_count": 37,
     "metadata": {
      "tags": []
     },
     "output_type": "execute_result"
    }
   ],
   "source": [
    "bert_model.config.hidden_size"
   ]
  },
  {
   "cell_type": "code",
   "execution_count": 38,
   "metadata": {
    "executionInfo": {
     "elapsed": 539,
     "status": "ok",
     "timestamp": 1609232929184,
     "user": {
      "displayName": "H. Vildan Yurtsever",
      "photoUrl": "https://lh6.googleusercontent.com/-Kof8dNOY2TI/AAAAAAAAAAI/AAAAAAAAAEA/VNLk2YBe6RY/s64/photo.jpg",
      "userId": "11283036826844958450"
     },
     "user_tz": -180
    },
    "id": "fOkfIY1OGirn"
   },
   "outputs": [],
   "source": [
    "#Building Sentiment Classifier"
   ]
  },
  {
   "cell_type": "code",
   "execution_count": 39,
   "metadata": {
    "executionInfo": {
     "elapsed": 407,
     "status": "ok",
     "timestamp": 1609232929487,
     "user": {
      "displayName": "H. Vildan Yurtsever",
      "photoUrl": "https://lh6.googleusercontent.com/-Kof8dNOY2TI/AAAAAAAAAAI/AAAAAAAAAEA/VNLk2YBe6RY/s64/photo.jpg",
      "userId": "11283036826844958450"
     },
     "user_tz": -180
    },
    "id": "j55rJpEBINMp"
   },
   "outputs": [],
   "source": [
    "class SentimentClassifier(nn.Module):\n",
    "\n",
    "  def __init__(self, n_classes):\n",
    "    super(SentimentClassifier, self).__init__()\n",
    "    self.bert = BertModel.from_pretrained(PRE_TRAINED_MODEL_NAME, return_dict=False)\n",
    "    self.drop = nn.Dropout(p=0.3)\n",
    "    self.out = nn.Linear(self.bert.config.hidden_size, n_classes)\n",
    "    self.softmax = nn.Softmax(dim=1)\n",
    "\n",
    "  def forward(self, input_ids, attention_mask):\n",
    "    _, pooled_output = self.bert(\n",
    "        input_ids=input_ids,\n",
    "        attention_mask = attention_mask\n",
    "    )\n",
    "    output = self.drop(pooled_output)\n",
    "    #return self.out(output)\n",
    "    #output = self.out(output)\n",
    "    return self.out(output)"
   ]
  },
  {
   "cell_type": "code",
   "execution_count": 40,
   "metadata": {
    "executionInfo": {
     "elapsed": 13646,
     "status": "ok",
     "timestamp": 1609232944443,
     "user": {
      "displayName": "H. Vildan Yurtsever",
      "photoUrl": "https://lh6.googleusercontent.com/-Kof8dNOY2TI/AAAAAAAAAAI/AAAAAAAAAEA/VNLk2YBe6RY/s64/photo.jpg",
      "userId": "11283036826844958450"
     },
     "user_tz": -180
    },
    "id": "iLT6l3UMJFOA"
   },
   "outputs": [],
   "source": [
    "model = SentimentClassifier(len(class_names))\n",
    "model = model.to(device)"
   ]
  },
  {
   "cell_type": "code",
   "execution_count": 41,
   "metadata": {
    "colab": {
     "base_uri": "https://localhost:8080/"
    },
    "executionInfo": {
     "elapsed": 527,
     "status": "ok",
     "timestamp": 1609232947066,
     "user": {
      "displayName": "H. Vildan Yurtsever",
      "photoUrl": "https://lh6.googleusercontent.com/-Kof8dNOY2TI/AAAAAAAAAAI/AAAAAAAAAEA/VNLk2YBe6RY/s64/photo.jpg",
      "userId": "11283036826844958450"
     },
     "user_tz": -180
    },
    "id": "dSPQ4zclJJiA",
    "outputId": "edc88c48-86c1-4ebe-e4a3-b128c8adfe68"
   },
   "outputs": [
    {
     "name": "stdout",
     "output_type": "stream",
     "text": [
      "torch.Size([20, 200])\n",
      "torch.Size([20, 200])\n"
     ]
    }
   ],
   "source": [
    "input_ids = data['input_ids'].to(device)\n",
    "attention_mask = data['attention_mask'].to(device)\n",
    "\n",
    "print(input_ids.shape)\n",
    "print(attention_mask.shape)"
   ]
  },
  {
   "cell_type": "code",
   "execution_count": 42,
   "metadata": {
    "colab": {
     "base_uri": "https://localhost:8080/"
    },
    "executionInfo": {
     "elapsed": 841,
     "status": "ok",
     "timestamp": 1609232949674,
     "user": {
      "displayName": "H. Vildan Yurtsever",
      "photoUrl": "https://lh6.googleusercontent.com/-Kof8dNOY2TI/AAAAAAAAAAI/AAAAAAAAAEA/VNLk2YBe6RY/s64/photo.jpg",
      "userId": "11283036826844958450"
     },
     "user_tz": -180
    },
    "id": "3HhXxbNvKoPY",
    "outputId": "53ef09a9-50e6-4974-d8e1-a5da54cc90d3",
    "scrolled": true
   },
   "outputs": [
    {
     "data": {
      "text/plain": [
       "tensor([[ 0.5754, -0.0328, -0.4757],\n",
       "        [ 0.1636, -0.3828,  0.1023],\n",
       "        [ 0.0870, -0.1773, -0.0402],\n",
       "        [ 0.2332, -0.4734, -0.3247],\n",
       "        [-0.1259, -0.0110, -0.7334],\n",
       "        [ 0.1837, -0.3781, -0.1692],\n",
       "        [ 0.3304, -0.2617,  0.0795],\n",
       "        [ 0.3506,  0.1161,  0.1260],\n",
       "        [ 0.4895, -0.4808,  0.4336],\n",
       "        [ 0.1847,  0.0969,  0.4128],\n",
       "        [ 0.2078,  0.1088,  0.2479],\n",
       "        [ 0.4102, -0.3397, -0.0742],\n",
       "        [ 0.1372,  0.1141,  0.0906],\n",
       "        [ 0.2623, -0.4398,  0.1979],\n",
       "        [ 0.1247, -0.1094, -0.0320],\n",
       "        [ 0.8232, -0.2484,  0.3849],\n",
       "        [ 0.1885, -0.2028, -0.2971],\n",
       "        [ 0.7531,  0.3080,  0.1438],\n",
       "        [ 0.4129,  0.1134, -0.2554],\n",
       "        [ 0.5233, -0.3410, -0.1247]], device='cuda:0', grad_fn=<AddmmBackward>)"
      ]
     },
     "execution_count": 42,
     "metadata": {
      "tags": []
     },
     "output_type": "execute_result"
    }
   ],
   "source": [
    "model(input_ids, attention_mask)"
   ]
  },
  {
   "cell_type": "code",
   "execution_count": 43,
   "metadata": {
    "executionInfo": {
     "elapsed": 399,
     "status": "ok",
     "timestamp": 1609232950587,
     "user": {
      "displayName": "H. Vildan Yurtsever",
      "photoUrl": "https://lh6.googleusercontent.com/-Kof8dNOY2TI/AAAAAAAAAAI/AAAAAAAAAEA/VNLk2YBe6RY/s64/photo.jpg",
      "userId": "11283036826844958450"
     },
     "user_tz": -180
    },
    "id": "v-ynH5Q-MohR"
   },
   "outputs": [],
   "source": [
    "##Training"
   ]
  },
  {
   "cell_type": "code",
   "execution_count": 44,
   "metadata": {
    "executionInfo": {
     "elapsed": 546,
     "status": "ok",
     "timestamp": 1609232956063,
     "user": {
      "displayName": "H. Vildan Yurtsever",
      "photoUrl": "https://lh6.googleusercontent.com/-Kof8dNOY2TI/AAAAAAAAAAI/AAAAAAAAAEA/VNLk2YBe6RY/s64/photo.jpg",
      "userId": "11283036826844958450"
     },
     "user_tz": -180
    },
    "id": "1tGG-V1LOCmJ"
   },
   "outputs": [],
   "source": [
    "EPOCHS = 5\n",
    "\n",
    "# BERT paper'da AdamW kullanilmis.\n",
    "optimizer = AdamW(model.parameters(), lr=2e-5, correct_bias=False)\n",
    "\n",
    "total_steps = len(train_data_loader) * EPOCHS\n",
    "\n",
    "# huggingface lib.\n",
    "scheduler = get_linear_schedule_with_warmup(\n",
    "    optimizer,\n",
    "    num_warmup_steps=0,\n",
    "    num_training_steps=total_steps\n",
    ")\n",
    "\n",
    "loss_fn = nn.CrossEntropyLoss().to(device)"
   ]
  },
  {
   "cell_type": "code",
   "execution_count": 45,
   "metadata": {
    "executionInfo": {
     "elapsed": 560,
     "status": "ok",
     "timestamp": 1609232959544,
     "user": {
      "displayName": "H. Vildan Yurtsever",
      "photoUrl": "https://lh6.googleusercontent.com/-Kof8dNOY2TI/AAAAAAAAAAI/AAAAAAAAAEA/VNLk2YBe6RY/s64/photo.jpg",
      "userId": "11283036826844958450"
     },
     "user_tz": -180
    },
    "id": "W75iI3cROCi_"
   },
   "outputs": [],
   "source": [
    "def train_epoch(\n",
    "    model,\n",
    "    data_loader,\n",
    "    loss_fn,\n",
    "    optimizer,\n",
    "    device,\n",
    "    scheduler,\n",
    "    n_examples\n",
    "):\n",
    "  model = model.train()\n",
    "\n",
    "  losses = []\n",
    "  correct_predictions = 0\n",
    "\n",
    "  for d in data_loader:\n",
    "    input_ids = d['input_ids'].to(device)\n",
    "    attention_mask = d['attention_mask'].to(device)\n",
    "    targets = d['targets'].to(device)\n",
    "\n",
    "    outputs = model(\n",
    "        input_ids=input_ids,\n",
    "        attention_mask=attention_mask\n",
    "    )\n",
    "\n",
    "    _, preds = torch.max(outputs, dim=1)\n",
    "    loss = loss_fn(outputs, targets)\n",
    "\n",
    "    correct_predictions += torch.sum(preds == targets)\n",
    "    losses.append(loss.item())\n",
    "\n",
    "    # back pro.\n",
    "    loss.backward()\n",
    "    # to prevent gradient exploding...\n",
    "    nn.utils.clip_grad_norm_(model.parameters(), max_norm=1.0)\n",
    "    optimizer.step()\n",
    "    scheduler.step()\n",
    "    optimizer.zero_grad()\n",
    "\n",
    "  return correct_predictions.double() / n_examples, np.mean(losses)"
   ]
  },
  {
   "cell_type": "code",
   "execution_count": 46,
   "metadata": {
    "executionInfo": {
     "elapsed": 682,
     "status": "ok",
     "timestamp": 1609232977425,
     "user": {
      "displayName": "H. Vildan Yurtsever",
      "photoUrl": "https://lh6.googleusercontent.com/-Kof8dNOY2TI/AAAAAAAAAAI/AAAAAAAAAEA/VNLk2YBe6RY/s64/photo.jpg",
      "userId": "11283036826844958450"
     },
     "user_tz": -180
    },
    "id": "WsGoDBXIOCQB"
   },
   "outputs": [],
   "source": [
    "def eval_model(model, data_loader, loss_fn, device, n_examples):\n",
    "  model = model.eval()\n",
    "\n",
    "  losses = []\n",
    "  correct_predictions = 0\n",
    "\n",
    "  with torch.no_grad():\n",
    "    for d in data_loader:\n",
    "      input_ids = d['input_ids'].to(device)\n",
    "      attention_mask = d['attention_mask'].to(device)\n",
    "      targets = d['targets'].to(device)\n",
    "\n",
    "      outputs = model(\n",
    "          input_ids=input_ids,\n",
    "          attention_mask=attention_mask\n",
    "      )\n",
    "\n",
    "      _, preds = torch.max(outputs, dim=1)\n",
    "      loss = loss_fn(outputs, targets)\n",
    "\n",
    "      correct_predictions += torch.sum(preds == targets)\n",
    "      losses.append(loss.item())\n",
    "\n",
    "  return correct_predictions.double() / n_examples, np.mean(losses)"
   ]
  },
  {
   "cell_type": "code",
   "execution_count": 47,
   "metadata": {
    "colab": {
     "base_uri": "https://localhost:8080/"
    },
    "executionInfo": {
     "elapsed": 1633476,
     "status": "ok",
     "timestamp": 1609234611424,
     "user": {
      "displayName": "H. Vildan Yurtsever",
      "photoUrl": "https://lh6.googleusercontent.com/-Kof8dNOY2TI/AAAAAAAAAAI/AAAAAAAAAEA/VNLk2YBe6RY/s64/photo.jpg",
      "userId": "11283036826844958450"
     },
     "user_tz": -180
    },
    "id": "r_JWQ-fZOCTt",
    "outputId": "7963a649-207d-4b86-ddef-7c7df0609047"
   },
   "outputs": [
    {
     "name": "stdout",
     "output_type": "stream",
     "text": [
      "Epoch 1/5\n",
      "----------\n"
     ]
    },
    {
     "name": "stderr",
     "output_type": "stream",
     "text": [
      "/usr/local/lib/python3.6/dist-packages/transformers/tokenization_utils_base.py:2179: FutureWarning: The `pad_to_max_length` argument is deprecated and will be removed in a future version, use `padding=True` or `padding='longest'` to pad to the longest sequence in the batch, or use `padding='max_length'` to pad to a max length. In this case, you can give a specific length with `max_length` (e.g. `max_length=45`) or leave max_length to None to pad to the maximal input size of the model (e.g. 512 for Bert).\n",
      "  FutureWarning,\n",
      "/usr/local/lib/python3.6/dist-packages/transformers/tokenization_utils_base.py:2179: FutureWarning: The `pad_to_max_length` argument is deprecated and will be removed in a future version, use `padding=True` or `padding='longest'` to pad to the longest sequence in the batch, or use `padding='max_length'` to pad to a max length. In this case, you can give a specific length with `max_length` (e.g. `max_length=45`) or leave max_length to None to pad to the maximal input size of the model (e.g. 512 for Bert).\n",
      "  FutureWarning,\n",
      "/usr/local/lib/python3.6/dist-packages/transformers/tokenization_utils_base.py:2179: FutureWarning: The `pad_to_max_length` argument is deprecated and will be removed in a future version, use `padding=True` or `padding='longest'` to pad to the longest sequence in the batch, or use `padding='max_length'` to pad to a max length. In this case, you can give a specific length with `max_length` (e.g. `max_length=45`) or leave max_length to None to pad to the maximal input size of the model (e.g. 512 for Bert).\n",
      "  FutureWarning,\n",
      "/usr/local/lib/python3.6/dist-packages/transformers/tokenization_utils_base.py:2179: FutureWarning: The `pad_to_max_length` argument is deprecated and will be removed in a future version, use `padding=True` or `padding='longest'` to pad to the longest sequence in the batch, or use `padding='max_length'` to pad to a max length. In this case, you can give a specific length with `max_length` (e.g. `max_length=45`) or leave max_length to None to pad to the maximal input size of the model (e.g. 512 for Bert).\n",
      "  FutureWarning,\n"
     ]
    },
    {
     "name": "stdout",
     "output_type": "stream",
     "text": [
      "Train loss 0.599838153777851 accuracy 0.7541675927983996\n"
     ]
    },
    {
     "name": "stderr",
     "output_type": "stream",
     "text": [
      "/usr/local/lib/python3.6/dist-packages/transformers/tokenization_utils_base.py:2179: FutureWarning: The `pad_to_max_length` argument is deprecated and will be removed in a future version, use `padding=True` or `padding='longest'` to pad to the longest sequence in the batch, or use `padding='max_length'` to pad to a max length. In this case, you can give a specific length with `max_length` (e.g. `max_length=45`) or leave max_length to None to pad to the maximal input size of the model (e.g. 512 for Bert).\n",
      "  FutureWarning,\n",
      "/usr/local/lib/python3.6/dist-packages/transformers/tokenization_utils_base.py:2179: FutureWarning: The `pad_to_max_length` argument is deprecated and will be removed in a future version, use `padding=True` or `padding='longest'` to pad to the longest sequence in the batch, or use `padding='max_length'` to pad to a max length. In this case, you can give a specific length with `max_length` (e.g. `max_length=45`) or leave max_length to None to pad to the maximal input size of the model (e.g. 512 for Bert).\n",
      "  FutureWarning,\n",
      "/usr/local/lib/python3.6/dist-packages/transformers/tokenization_utils_base.py:2179: FutureWarning: The `pad_to_max_length` argument is deprecated and will be removed in a future version, use `padding=True` or `padding='longest'` to pad to the longest sequence in the batch, or use `padding='max_length'` to pad to a max length. In this case, you can give a specific length with `max_length` (e.g. `max_length=45`) or leave max_length to None to pad to the maximal input size of the model (e.g. 512 for Bert).\n",
      "  FutureWarning,\n",
      "/usr/local/lib/python3.6/dist-packages/transformers/tokenization_utils_base.py:2179: FutureWarning: The `pad_to_max_length` argument is deprecated and will be removed in a future version, use `padding=True` or `padding='longest'` to pad to the longest sequence in the batch, or use `padding='max_length'` to pad to a max length. In this case, you can give a specific length with `max_length` (e.g. `max_length=45`) or leave max_length to None to pad to the maximal input size of the model (e.g. 512 for Bert).\n",
      "  FutureWarning,\n"
     ]
    },
    {
     "name": "stdout",
     "output_type": "stream",
     "text": [
      "Val   loss 0.3885897347331047 accuracy 0.842\n",
      "\n",
      "Epoch 2/5\n",
      "----------\n"
     ]
    },
    {
     "name": "stderr",
     "output_type": "stream",
     "text": [
      "/usr/local/lib/python3.6/dist-packages/transformers/tokenization_utils_base.py:2179: FutureWarning: The `pad_to_max_length` argument is deprecated and will be removed in a future version, use `padding=True` or `padding='longest'` to pad to the longest sequence in the batch, or use `padding='max_length'` to pad to a max length. In this case, you can give a specific length with `max_length` (e.g. `max_length=45`) or leave max_length to None to pad to the maximal input size of the model (e.g. 512 for Bert).\n",
      "  FutureWarning,\n",
      "/usr/local/lib/python3.6/dist-packages/transformers/tokenization_utils_base.py:2179: FutureWarning: The `pad_to_max_length` argument is deprecated and will be removed in a future version, use `padding=True` or `padding='longest'` to pad to the longest sequence in the batch, or use `padding='max_length'` to pad to a max length. In this case, you can give a specific length with `max_length` (e.g. `max_length=45`) or leave max_length to None to pad to the maximal input size of the model (e.g. 512 for Bert).\n",
      "  FutureWarning,\n",
      "/usr/local/lib/python3.6/dist-packages/transformers/tokenization_utils_base.py:2179: FutureWarning: The `pad_to_max_length` argument is deprecated and will be removed in a future version, use `padding=True` or `padding='longest'` to pad to the longest sequence in the batch, or use `padding='max_length'` to pad to a max length. In this case, you can give a specific length with `max_length` (e.g. `max_length=45`) or leave max_length to None to pad to the maximal input size of the model (e.g. 512 for Bert).\n",
      "  FutureWarning,\n",
      "/usr/local/lib/python3.6/dist-packages/transformers/tokenization_utils_base.py:2179: FutureWarning: The `pad_to_max_length` argument is deprecated and will be removed in a future version, use `padding=True` or `padding='longest'` to pad to the longest sequence in the batch, or use `padding='max_length'` to pad to a max length. In this case, you can give a specific length with `max_length` (e.g. `max_length=45`) or leave max_length to None to pad to the maximal input size of the model (e.g. 512 for Bert).\n",
      "  FutureWarning,\n"
     ]
    },
    {
     "name": "stdout",
     "output_type": "stream",
     "text": [
      "Train loss 0.28515160963146224 accuracy 0.9029784396532563\n"
     ]
    },
    {
     "name": "stderr",
     "output_type": "stream",
     "text": [
      "/usr/local/lib/python3.6/dist-packages/transformers/tokenization_utils_base.py:2179: FutureWarning: The `pad_to_max_length` argument is deprecated and will be removed in a future version, use `padding=True` or `padding='longest'` to pad to the longest sequence in the batch, or use `padding='max_length'` to pad to a max length. In this case, you can give a specific length with `max_length` (e.g. `max_length=45`) or leave max_length to None to pad to the maximal input size of the model (e.g. 512 for Bert).\n",
      "  FutureWarning,\n",
      "/usr/local/lib/python3.6/dist-packages/transformers/tokenization_utils_base.py:2179: FutureWarning: The `pad_to_max_length` argument is deprecated and will be removed in a future version, use `padding=True` or `padding='longest'` to pad to the longest sequence in the batch, or use `padding='max_length'` to pad to a max length. In this case, you can give a specific length with `max_length` (e.g. `max_length=45`) or leave max_length to None to pad to the maximal input size of the model (e.g. 512 for Bert).\n",
      "  FutureWarning,\n",
      "/usr/local/lib/python3.6/dist-packages/transformers/tokenization_utils_base.py:2179: FutureWarning: The `pad_to_max_length` argument is deprecated and will be removed in a future version, use `padding=True` or `padding='longest'` to pad to the longest sequence in the batch, or use `padding='max_length'` to pad to a max length. In this case, you can give a specific length with `max_length` (e.g. `max_length=45`) or leave max_length to None to pad to the maximal input size of the model (e.g. 512 for Bert).\n",
      "  FutureWarning,\n",
      "/usr/local/lib/python3.6/dist-packages/transformers/tokenization_utils_base.py:2179: FutureWarning: The `pad_to_max_length` argument is deprecated and will be removed in a future version, use `padding=True` or `padding='longest'` to pad to the longest sequence in the batch, or use `padding='max_length'` to pad to a max length. In this case, you can give a specific length with `max_length` (e.g. `max_length=45`) or leave max_length to None to pad to the maximal input size of the model (e.g. 512 for Bert).\n",
      "  FutureWarning,\n"
     ]
    },
    {
     "name": "stdout",
     "output_type": "stream",
     "text": [
      "Val   loss 0.3792959953472018 accuracy 0.872\n",
      "\n",
      "Epoch 3/5\n",
      "----------\n"
     ]
    },
    {
     "name": "stderr",
     "output_type": "stream",
     "text": [
      "/usr/local/lib/python3.6/dist-packages/transformers/tokenization_utils_base.py:2179: FutureWarning: The `pad_to_max_length` argument is deprecated and will be removed in a future version, use `padding=True` or `padding='longest'` to pad to the longest sequence in the batch, or use `padding='max_length'` to pad to a max length. In this case, you can give a specific length with `max_length` (e.g. `max_length=45`) or leave max_length to None to pad to the maximal input size of the model (e.g. 512 for Bert).\n",
      "  FutureWarning,\n",
      "/usr/local/lib/python3.6/dist-packages/transformers/tokenization_utils_base.py:2179: FutureWarning: The `pad_to_max_length` argument is deprecated and will be removed in a future version, use `padding=True` or `padding='longest'` to pad to the longest sequence in the batch, or use `padding='max_length'` to pad to a max length. In this case, you can give a specific length with `max_length` (e.g. `max_length=45`) or leave max_length to None to pad to the maximal input size of the model (e.g. 512 for Bert).\n",
      "  FutureWarning,\n",
      "/usr/local/lib/python3.6/dist-packages/transformers/tokenization_utils_base.py:2179: FutureWarning: The `pad_to_max_length` argument is deprecated and will be removed in a future version, use `padding=True` or `padding='longest'` to pad to the longest sequence in the batch, or use `padding='max_length'` to pad to a max length. In this case, you can give a specific length with `max_length` (e.g. `max_length=45`) or leave max_length to None to pad to the maximal input size of the model (e.g. 512 for Bert).\n",
      "  FutureWarning,\n",
      "/usr/local/lib/python3.6/dist-packages/transformers/tokenization_utils_base.py:2179: FutureWarning: The `pad_to_max_length` argument is deprecated and will be removed in a future version, use `padding=True` or `padding='longest'` to pad to the longest sequence in the batch, or use `padding='max_length'` to pad to a max length. In this case, you can give a specific length with `max_length` (e.g. `max_length=45`) or leave max_length to None to pad to the maximal input size of the model (e.g. 512 for Bert).\n",
      "  FutureWarning,\n"
     ]
    },
    {
     "name": "stdout",
     "output_type": "stream",
     "text": [
      "Train loss 0.17361034012917015 accuracy 0.9496554789953323\n"
     ]
    },
    {
     "name": "stderr",
     "output_type": "stream",
     "text": [
      "/usr/local/lib/python3.6/dist-packages/transformers/tokenization_utils_base.py:2179: FutureWarning: The `pad_to_max_length` argument is deprecated and will be removed in a future version, use `padding=True` or `padding='longest'` to pad to the longest sequence in the batch, or use `padding='max_length'` to pad to a max length. In this case, you can give a specific length with `max_length` (e.g. `max_length=45`) or leave max_length to None to pad to the maximal input size of the model (e.g. 512 for Bert).\n",
      "  FutureWarning,\n",
      "/usr/local/lib/python3.6/dist-packages/transformers/tokenization_utils_base.py:2179: FutureWarning: The `pad_to_max_length` argument is deprecated and will be removed in a future version, use `padding=True` or `padding='longest'` to pad to the longest sequence in the batch, or use `padding='max_length'` to pad to a max length. In this case, you can give a specific length with `max_length` (e.g. `max_length=45`) or leave max_length to None to pad to the maximal input size of the model (e.g. 512 for Bert).\n",
      "  FutureWarning,\n",
      "/usr/local/lib/python3.6/dist-packages/transformers/tokenization_utils_base.py:2179: FutureWarning: The `pad_to_max_length` argument is deprecated and will be removed in a future version, use `padding=True` or `padding='longest'` to pad to the longest sequence in the batch, or use `padding='max_length'` to pad to a max length. In this case, you can give a specific length with `max_length` (e.g. `max_length=45`) or leave max_length to None to pad to the maximal input size of the model (e.g. 512 for Bert).\n",
      "  FutureWarning,\n",
      "/usr/local/lib/python3.6/dist-packages/transformers/tokenization_utils_base.py:2179: FutureWarning: The `pad_to_max_length` argument is deprecated and will be removed in a future version, use `padding=True` or `padding='longest'` to pad to the longest sequence in the batch, or use `padding='max_length'` to pad to a max length. In this case, you can give a specific length with `max_length` (e.g. `max_length=45`) or leave max_length to None to pad to the maximal input size of the model (e.g. 512 for Bert).\n",
      "  FutureWarning,\n"
     ]
    },
    {
     "name": "stdout",
     "output_type": "stream",
     "text": [
      "Val   loss 0.47519260240718725 accuracy 0.876\n",
      "\n",
      "Epoch 4/5\n",
      "----------\n"
     ]
    },
    {
     "name": "stderr",
     "output_type": "stream",
     "text": [
      "/usr/local/lib/python3.6/dist-packages/transformers/tokenization_utils_base.py:2179: FutureWarning: The `pad_to_max_length` argument is deprecated and will be removed in a future version, use `padding=True` or `padding='longest'` to pad to the longest sequence in the batch, or use `padding='max_length'` to pad to a max length. In this case, you can give a specific length with `max_length` (e.g. `max_length=45`) or leave max_length to None to pad to the maximal input size of the model (e.g. 512 for Bert).\n",
      "  FutureWarning,\n",
      "/usr/local/lib/python3.6/dist-packages/transformers/tokenization_utils_base.py:2179: FutureWarning: The `pad_to_max_length` argument is deprecated and will be removed in a future version, use `padding=True` or `padding='longest'` to pad to the longest sequence in the batch, or use `padding='max_length'` to pad to a max length. In this case, you can give a specific length with `max_length` (e.g. `max_length=45`) or leave max_length to None to pad to the maximal input size of the model (e.g. 512 for Bert).\n",
      "  FutureWarning,\n",
      "/usr/local/lib/python3.6/dist-packages/transformers/tokenization_utils_base.py:2179: FutureWarning: The `pad_to_max_length` argument is deprecated and will be removed in a future version, use `padding=True` or `padding='longest'` to pad to the longest sequence in the batch, or use `padding='max_length'` to pad to a max length. In this case, you can give a specific length with `max_length` (e.g. `max_length=45`) or leave max_length to None to pad to the maximal input size of the model (e.g. 512 for Bert).\n",
      "  FutureWarning,\n",
      "/usr/local/lib/python3.6/dist-packages/transformers/tokenization_utils_base.py:2179: FutureWarning: The `pad_to_max_length` argument is deprecated and will be removed in a future version, use `padding=True` or `padding='longest'` to pad to the longest sequence in the batch, or use `padding='max_length'` to pad to a max length. In this case, you can give a specific length with `max_length` (e.g. `max_length=45`) or leave max_length to None to pad to the maximal input size of the model (e.g. 512 for Bert).\n",
      "  FutureWarning,\n"
     ]
    },
    {
     "name": "stdout",
     "output_type": "stream",
     "text": [
      "Train loss 0.11838831315334472 accuracy 0.9708824183151811\n"
     ]
    },
    {
     "name": "stderr",
     "output_type": "stream",
     "text": [
      "/usr/local/lib/python3.6/dist-packages/transformers/tokenization_utils_base.py:2179: FutureWarning: The `pad_to_max_length` argument is deprecated and will be removed in a future version, use `padding=True` or `padding='longest'` to pad to the longest sequence in the batch, or use `padding='max_length'` to pad to a max length. In this case, you can give a specific length with `max_length` (e.g. `max_length=45`) or leave max_length to None to pad to the maximal input size of the model (e.g. 512 for Bert).\n",
      "  FutureWarning,\n",
      "/usr/local/lib/python3.6/dist-packages/transformers/tokenization_utils_base.py:2179: FutureWarning: The `pad_to_max_length` argument is deprecated and will be removed in a future version, use `padding=True` or `padding='longest'` to pad to the longest sequence in the batch, or use `padding='max_length'` to pad to a max length. In this case, you can give a specific length with `max_length` (e.g. `max_length=45`) or leave max_length to None to pad to the maximal input size of the model (e.g. 512 for Bert).\n",
      "  FutureWarning,\n",
      "/usr/local/lib/python3.6/dist-packages/transformers/tokenization_utils_base.py:2179: FutureWarning: The `pad_to_max_length` argument is deprecated and will be removed in a future version, use `padding=True` or `padding='longest'` to pad to the longest sequence in the batch, or use `padding='max_length'` to pad to a max length. In this case, you can give a specific length with `max_length` (e.g. `max_length=45`) or leave max_length to None to pad to the maximal input size of the model (e.g. 512 for Bert).\n",
      "  FutureWarning,\n",
      "/usr/local/lib/python3.6/dist-packages/transformers/tokenization_utils_base.py:2179: FutureWarning: The `pad_to_max_length` argument is deprecated and will be removed in a future version, use `padding=True` or `padding='longest'` to pad to the longest sequence in the batch, or use `padding='max_length'` to pad to a max length. In this case, you can give a specific length with `max_length` (e.g. `max_length=45`) or leave max_length to None to pad to the maximal input size of the model (e.g. 512 for Bert).\n",
      "  FutureWarning,\n"
     ]
    },
    {
     "name": "stdout",
     "output_type": "stream",
     "text": [
      "Val   loss 0.4802363315038383 accuracy 0.884\n",
      "\n",
      "Epoch 5/5\n",
      "----------\n"
     ]
    },
    {
     "name": "stderr",
     "output_type": "stream",
     "text": [
      "/usr/local/lib/python3.6/dist-packages/transformers/tokenization_utils_base.py:2179: FutureWarning: The `pad_to_max_length` argument is deprecated and will be removed in a future version, use `padding=True` or `padding='longest'` to pad to the longest sequence in the batch, or use `padding='max_length'` to pad to a max length. In this case, you can give a specific length with `max_length` (e.g. `max_length=45`) or leave max_length to None to pad to the maximal input size of the model (e.g. 512 for Bert).\n",
      "  FutureWarning,\n",
      "/usr/local/lib/python3.6/dist-packages/transformers/tokenization_utils_base.py:2179: FutureWarning: The `pad_to_max_length` argument is deprecated and will be removed in a future version, use `padding=True` or `padding='longest'` to pad to the longest sequence in the batch, or use `padding='max_length'` to pad to a max length. In this case, you can give a specific length with `max_length` (e.g. `max_length=45`) or leave max_length to None to pad to the maximal input size of the model (e.g. 512 for Bert).\n",
      "  FutureWarning,\n",
      "/usr/local/lib/python3.6/dist-packages/transformers/tokenization_utils_base.py:2179: FutureWarning: The `pad_to_max_length` argument is deprecated and will be removed in a future version, use `padding=True` or `padding='longest'` to pad to the longest sequence in the batch, or use `padding='max_length'` to pad to a max length. In this case, you can give a specific length with `max_length` (e.g. `max_length=45`) or leave max_length to None to pad to the maximal input size of the model (e.g. 512 for Bert).\n",
      "  FutureWarning,\n",
      "/usr/local/lib/python3.6/dist-packages/transformers/tokenization_utils_base.py:2179: FutureWarning: The `pad_to_max_length` argument is deprecated and will be removed in a future version, use `padding=True` or `padding='longest'` to pad to the longest sequence in the batch, or use `padding='max_length'` to pad to a max length. In this case, you can give a specific length with `max_length` (e.g. `max_length=45`) or leave max_length to None to pad to the maximal input size of the model (e.g. 512 for Bert).\n",
      "  FutureWarning,\n"
     ]
    },
    {
     "name": "stdout",
     "output_type": "stream",
     "text": [
      "Train loss 0.08094732241937891 accuracy 0.9807735052233829\n"
     ]
    },
    {
     "name": "stderr",
     "output_type": "stream",
     "text": [
      "/usr/local/lib/python3.6/dist-packages/transformers/tokenization_utils_base.py:2179: FutureWarning: The `pad_to_max_length` argument is deprecated and will be removed in a future version, use `padding=True` or `padding='longest'` to pad to the longest sequence in the batch, or use `padding='max_length'` to pad to a max length. In this case, you can give a specific length with `max_length` (e.g. `max_length=45`) or leave max_length to None to pad to the maximal input size of the model (e.g. 512 for Bert).\n",
      "  FutureWarning,\n",
      "/usr/local/lib/python3.6/dist-packages/transformers/tokenization_utils_base.py:2179: FutureWarning: The `pad_to_max_length` argument is deprecated and will be removed in a future version, use `padding=True` or `padding='longest'` to pad to the longest sequence in the batch, or use `padding='max_length'` to pad to a max length. In this case, you can give a specific length with `max_length` (e.g. `max_length=45`) or leave max_length to None to pad to the maximal input size of the model (e.g. 512 for Bert).\n",
      "  FutureWarning,\n",
      "/usr/local/lib/python3.6/dist-packages/transformers/tokenization_utils_base.py:2179: FutureWarning: The `pad_to_max_length` argument is deprecated and will be removed in a future version, use `padding=True` or `padding='longest'` to pad to the longest sequence in the batch, or use `padding='max_length'` to pad to a max length. In this case, you can give a specific length with `max_length` (e.g. `max_length=45`) or leave max_length to None to pad to the maximal input size of the model (e.g. 512 for Bert).\n",
      "  FutureWarning,\n",
      "/usr/local/lib/python3.6/dist-packages/transformers/tokenization_utils_base.py:2179: FutureWarning: The `pad_to_max_length` argument is deprecated and will be removed in a future version, use `padding=True` or `padding='longest'` to pad to the longest sequence in the batch, or use `padding='max_length'` to pad to a max length. In this case, you can give a specific length with `max_length` (e.g. `max_length=45`) or leave max_length to None to pad to the maximal input size of the model (e.g. 512 for Bert).\n",
      "  FutureWarning,\n"
     ]
    },
    {
     "name": "stdout",
     "output_type": "stream",
     "text": [
      "Val   loss 0.49658303112257274 accuracy 0.884\n",
      "\n",
      "CPU times: user 16min 5s, sys: 10min 56s, total: 27min 2s\n",
      "Wall time: 27min 12s\n"
     ]
    }
   ],
   "source": [
    "%%time\n",
    "\n",
    "history = defaultdict(list)\n",
    "best_accuracy = 0\n",
    "\n",
    "for epoch in range(EPOCHS):\n",
    "  print(f'Epoch {epoch + 1}/{EPOCHS}')\n",
    "  print('-' * 10)\n",
    "\n",
    "  train_acc, train_loss = train_epoch(\n",
    "      model,\n",
    "      train_data_loader,\n",
    "      loss_fn,\n",
    "      optimizer,\n",
    "      device,\n",
    "      scheduler,\n",
    "      len(df_train)\n",
    "  )\n",
    "\n",
    "  print(f'Train loss {train_loss} accuracy {train_acc}')\n",
    "\n",
    "  val_acc, val_loss = eval_model(\n",
    "      model,\n",
    "      val_data_loader,\n",
    "      loss_fn,\n",
    "      device,\n",
    "      len(df_val)\n",
    "  )\n",
    "\n",
    "  print(f'Val   loss {val_loss} accuracy {val_acc}')\n",
    "  print()\n",
    "\n",
    "  history['train_acc'].append(train_acc)\n",
    "  history['train_loss'].append(train_loss)\n",
    "\n",
    "  history['val_acc'].append(val_acc)\n",
    "  history['val_loss'].append(val_loss)\n",
    "\n",
    "  if val_acc > best_accuracy:\n",
    "    torch.save(model, 'model.pth')\n",
    "    best_accuracy = val_acc\n",
    "\n"
   ]
  },
  {
   "cell_type": "code",
   "execution_count": null,
   "metadata": {
    "colab": {
     "base_uri": "https://localhost:8080/",
     "height": 523
    },
    "id": "8t8QueT6o-vi",
    "outputId": "4cffd6c6-24f3-42dc-f8e2-617b885a7581"
   },
   "outputs": [
    {
     "data": {
      "image/png": "[encoded data removed]",
      "text/plain": [
       "<Figure size 864x576 with 1 Axes>"
      ]
     },
     "metadata": {
      "image/png": {
       "height": 506,
       "width": 732
      },
      "tags": []
     },
     "output_type": "display_data"
    }
   ],
   "source": [
    "plt.plot(history['train_loss'], label=' training data')\n",
    "plt.plot(history['val_loss'], label='validation data)')\n",
    "plt.title('Loss for Text Classification')\n",
    "plt.ylabel('Loss value')\n",
    "plt.xlabel('No. epoch')\n",
    "plt.legend(loc=\"upper left\")\n",
    "plt.show()"
   ]
  },
  {
   "cell_type": "code",
   "execution_count": null,
   "metadata": {
    "id": "tzn_JQfeo-kR"
   },
   "outputs": [],
   "source": []
  },
  {
   "cell_type": "code",
   "execution_count": null,
   "metadata": {
    "id": "DuljmuQwSXjD"
   },
   "outputs": [],
   "source": [
    "#Evaluation\n",
    "def get_predictions(model, data_loader):\n",
    "  model = model.eval()\n",
    "\n",
    "  comment_texts = []\n",
    "  predictions = []\n",
    "  prediction_probs = []\n",
    "  real_values = []\n",
    "\n",
    "  with torch.no_grad():\n",
    "    for d in data_loader:\n",
    "      texts = d['body']\n",
    "      input_ids = d['input_ids'].to(device)\n",
    "      attention_mask = d['attention_mask'].to(device)\n",
    "      targets = d['targets'].to(device)\n",
    "\n",
    "      outputs = model(\n",
    "          input_ids=input_ids,\n",
    "          attention_mask=attention_mask\n",
    "      )\n",
    "\n",
    "      _, preds = torch.max(outputs, dim=1)\n",
    "\n",
    "      comment_texts.extend(texts)\n",
    "      predictions.extend(preds)\n",
    "      prediction_probs.extend(outputs)\n",
    "      real_values.extend(targets)\n",
    "\n",
    "  # convert list of tensors to one tensor\n",
    "  predictions = torch.stack(predictions).cpu()\n",
    "  prediction_probs = torch.stack(prediction_probs).cpu()\n",
    "  real_values = torch.stack(real_values).cpu()\n",
    "\n",
    "  return comment_texts, predictions, prediction_probs, real_values"
   ]
  },
  {
   "cell_type": "code",
   "execution_count": null,
   "metadata": {
    "colab": {
     "base_uri": "https://localhost:8080/"
    },
    "id": "0Emr_nuBnWvD",
    "outputId": "13806ab2-268b-4526-f99b-afa4b82dbb18"
   },
   "outputs": [
    {
     "name": "stderr",
     "output_type": "stream",
     "text": [
      "/usr/local/lib/python3.6/dist-packages/transformers/tokenization_utils_base.py:2179: FutureWarning: The `pad_to_max_length` argument is deprecated and will be removed in a future version, use `padding=True` or `padding='longest'` to pad to the longest sequence in the batch, or use `padding='max_length'` to pad to a max length. In this case, you can give a specific length with `max_length` (e.g. `max_length=45`) or leave max_length to None to pad to the maximal input size of the model (e.g. 512 for Bert).\n",
      "  FutureWarning,\n",
      "/usr/local/lib/python3.6/dist-packages/transformers/tokenization_utils_base.py:2179: FutureWarning: The `pad_to_max_length` argument is deprecated and will be removed in a future version, use `padding=True` or `padding='longest'` to pad to the longest sequence in the batch, or use `padding='max_length'` to pad to a max length. In this case, you can give a specific length with `max_length` (e.g. `max_length=45`) or leave max_length to None to pad to the maximal input size of the model (e.g. 512 for Bert).\n",
      "  FutureWarning,\n",
      "/usr/local/lib/python3.6/dist-packages/transformers/tokenization_utils_base.py:2179: FutureWarning: The `pad_to_max_length` argument is deprecated and will be removed in a future version, use `padding=True` or `padding='longest'` to pad to the longest sequence in the batch, or use `padding='max_length'` to pad to a max length. In this case, you can give a specific length with `max_length` (e.g. `max_length=45`) or leave max_length to None to pad to the maximal input size of the model (e.g. 512 for Bert).\n",
      "  FutureWarning,\n",
      "/usr/local/lib/python3.6/dist-packages/transformers/tokenization_utils_base.py:2179: FutureWarning: The `pad_to_max_length` argument is deprecated and will be removed in a future version, use `padding=True` or `padding='longest'` to pad to the longest sequence in the batch, or use `padding='max_length'` to pad to a max length. In this case, you can give a specific length with `max_length` (e.g. `max_length=45`) or leave max_length to None to pad to the maximal input size of the model (e.g. 512 for Bert).\n",
      "  FutureWarning,\n"
     ]
    }
   ],
   "source": [
    "y_comment_texts, y_pred, y_pred_probs, y_test = get_predictions(model, test_data_loader)"
   ]
  },
  {
   "cell_type": "code",
   "execution_count": null,
   "metadata": {
    "colab": {
     "base_uri": "https://localhost:8080/"
    },
    "id": "nFWTIVj3np5y",
    "outputId": "f198561b-bf3f-4641-84eb-c9df229c6cf8"
   },
   "outputs": [
    {
     "name": "stdout",
     "output_type": "stream",
     "text": [
      "              precision    recall  f1-score   support\n",
      "\n",
      "    negative       0.82      0.83      0.83       156\n",
      "     neutral       0.90      0.91      0.90       116\n",
      "    positive       0.89      0.88      0.88       228\n",
      "\n",
      "    accuracy                           0.87       500\n",
      "   macro avg       0.87      0.87      0.87       500\n",
      "weighted avg       0.87      0.87      0.87       500\n",
      "\n"
     ]
    }
   ],
   "source": [
    "print(classification_report(y_test, y_pred, target_names=class_names))"
   ]
  },
  {
   "cell_type": "code",
   "execution_count": null,
   "metadata": {
    "id": "GzaM-Fjvo6ci"
   },
   "outputs": [],
   "source": []
  }
 ],
 "metadata": {
  "accelerator": "GPU",
  "colab": {
   "collapsed_sections": [],
   "name": "e_bert_pytorch.ipynb",
   "provenance": []
  },
  "kernelspec": {
   "display_name": "Python 3",
   "language": "python",
   "name": "python3"
  },
  "language_info": {
   "codemirror_mode": {
    "name": "ipython",
    "version": 3
   },
   "file_extension": ".py",
   "mimetype": "text/x-python",
   "name": "python",
   "nbconvert_exporter": "python",
   "pygments_lexer": "ipython3",
   "version": "3.8.5"
  },
  "widgets": {
   "application/vnd.jupyter.widget-state+json": {
    "1b1c9ee6e86a443985e47daf911020e1": {
     "model_module": "@jupyter-widgets/controls",
     "model_name": "FloatProgressModel",
     "state": {
      "_dom_classes": [],
      "_model_module": "@jupyter-widgets/controls",
      "_model_module_version": "1.5.0",
      "_model_name": "FloatProgressModel",
      "_view_count": null,
      "_view_module": "@jupyter-widgets/controls",
      "_view_module_version": "1.5.0",
      "_view_name": "ProgressView",
      "bar_style": "success",
      "description": "Downloading: 100%",
      "description_tooltip": null,
      "layout": "IPY_MODEL_6eb5995d41564b0a8eeb3c6db911c034",
      "max": 231508,
      "min": 0,
      "orientation": "horizontal",
      "style": "IPY_MODEL_50d610890ba24cf0bbc70b5b9f4ad47d",
      "value": 231508
     }
    },
    "20fd634352d34050925cf518df68d65d": {
     "model_module": "@jupyter-widgets/controls",
     "model_name": "DescriptionStyleModel",
     "state": {
      "_model_module": "@jupyter-widgets/controls",
      "_model_module_version": "1.5.0",
      "_model_name": "DescriptionStyleModel",
      "_view_count": null,
      "_view_module": "@jupyter-widgets/base",
      "_view_module_version": "1.2.0",
      "_view_name": "StyleView",
      "description_width": ""
     }
    },
    "3072e985fd7042e2b109943dff61e54a": {
     "model_module": "@jupyter-widgets/base",
     "model_name": "LayoutModel",
     "state": {
      "_model_module": "@jupyter-widgets/base",
      "_model_module_version": "1.2.0",
      "_model_name": "LayoutModel",
      "_view_count": null,
      "_view_module": "@jupyter-widgets/base",
      "_view_module_version": "1.2.0",
      "_view_name": "LayoutView",
      "align_content": null,
      "align_items": null,
      "align_self": null,
      "border": null,
      "bottom": null,
      "display": null,
      "flex": null,
      "flex_flow": null,
      "grid_area": null,
      "grid_auto_columns": null,
      "grid_auto_flow": null,
      "grid_auto_rows": null,
      "grid_column": null,
      "grid_gap": null,
      "grid_row": null,
      "grid_template_areas": null,
      "grid_template_columns": null,
      "grid_template_rows": null,
      "height": null,
      "justify_content": null,
      "justify_items": null,
      "left": null,
      "margin": null,
      "max_height": null,
      "max_width": null,
      "min_height": null,
      "min_width": null,
      "object_fit": null,
      "object_position": null,
      "order": null,
      "overflow": null,
      "overflow_x": null,
      "overflow_y": null,
      "padding": null,
      "right": null,
      "top": null,
      "visibility": null,
      "width": null
     }
    },
    "329d71b50ee24971a620294edf031f5c": {
     "model_module": "@jupyter-widgets/base",
     "model_name": "LayoutModel",
     "state": {
      "_model_module": "@jupyter-widgets/base",
      "_model_module_version": "1.2.0",
      "_model_name": "LayoutModel",
      "_view_count": null,
      "_view_module": "@jupyter-widgets/base",
      "_view_module_version": "1.2.0",
      "_view_name": "LayoutView",
      "align_content": null,
      "align_items": null,
      "align_self": null,
      "border": null,
      "bottom": null,
      "display": null,
      "flex": null,
      "flex_flow": null,
      "grid_area": null,
      "grid_auto_columns": null,
      "grid_auto_flow": null,
      "grid_auto_rows": null,
      "grid_column": null,
      "grid_gap": null,
      "grid_row": null,
      "grid_template_areas": null,
      "grid_template_columns": null,
      "grid_template_rows": null,
      "height": null,
      "justify_content": null,
      "justify_items": null,
      "left": null,
      "margin": null,
      "max_height": null,
      "max_width": null,
      "min_height": null,
      "min_width": null,
      "object_fit": null,
      "object_position": null,
      "order": null,
      "overflow": null,
      "overflow_x": null,
      "overflow_y": null,
      "padding": null,
      "right": null,
      "top": null,
      "visibility": null,
      "width": null
     }
    },
    "3aa3c5cf88d14950be6994fb647537e2": {
     "model_module": "@jupyter-widgets/controls",
     "model_name": "HBoxModel",
     "state": {
      "_dom_classes": [],
      "_model_module": "@jupyter-widgets/controls",
      "_model_module_version": "1.5.0",
      "_model_name": "HBoxModel",
      "_view_count": null,
      "_view_module": "@jupyter-widgets/controls",
      "_view_module_version": "1.5.0",
      "_view_name": "HBoxView",
      "box_style": "",
      "children": [
       "IPY_MODEL_bb4f0be714814905aec8ef878749aad8",
       "IPY_MODEL_a5453079ae6345daaf5bdf95e2f4b3a2"
      ],
      "layout": "IPY_MODEL_ec87b6fe822a427d8ce0e97d9942fd2d"
     }
    },
    "46f62917c9324a38b07a3b10dc1fc930": {
     "model_module": "@jupyter-widgets/base",
     "model_name": "LayoutModel",
     "state": {
      "_model_module": "@jupyter-widgets/base",
      "_model_module_version": "1.2.0",
      "_model_name": "LayoutModel",
      "_view_count": null,
      "_view_module": "@jupyter-widgets/base",
      "_view_module_version": "1.2.0",
      "_view_name": "LayoutView",
      "align_content": null,
      "align_items": null,
      "align_self": null,
      "border": null,
      "bottom": null,
      "display": null,
      "flex": null,
      "flex_flow": null,
      "grid_area": null,
      "grid_auto_columns": null,
      "grid_auto_flow": null,
      "grid_auto_rows": null,
      "grid_column": null,
      "grid_gap": null,
      "grid_row": null,
      "grid_template_areas": null,
      "grid_template_columns": null,
      "grid_template_rows": null,
      "height": null,
      "justify_content": null,
      "justify_items": null,
      "left": null,
      "margin": null,
      "max_height": null,
      "max_width": null,
      "min_height": null,
      "min_width": null,
      "object_fit": null,
      "object_position": null,
      "order": null,
      "overflow": null,
      "overflow_x": null,
      "overflow_y": null,
      "padding": null,
      "right": null,
      "top": null,
      "visibility": null,
      "width": null
     }
    },
    "50d610890ba24cf0bbc70b5b9f4ad47d": {
     "model_module": "@jupyter-widgets/controls",
     "model_name": "ProgressStyleModel",
     "state": {
      "_model_module": "@jupyter-widgets/controls",
      "_model_module_version": "1.5.0",
      "_model_name": "ProgressStyleModel",
      "_view_count": null,
      "_view_module": "@jupyter-widgets/base",
      "_view_module_version": "1.2.0",
      "_view_name": "StyleView",
      "bar_color": null,
      "description_width": "initial"
     }
    },
    "513012cc0d3747b3becae106e575f61b": {
     "model_module": "@jupyter-widgets/controls",
     "model_name": "HTMLModel",
     "state": {
      "_dom_classes": [],
      "_model_module": "@jupyter-widgets/controls",
      "_model_module_version": "1.5.0",
      "_model_name": "HTMLModel",
      "_view_count": null,
      "_view_module": "@jupyter-widgets/controls",
      "_view_module_version": "1.5.0",
      "_view_name": "HTMLView",
      "description": "",
      "description_tooltip": null,
      "layout": "IPY_MODEL_7ccc3679f68b4150aab6f04ba08ecbbc",
      "placeholder": "​",
      "style": "IPY_MODEL_9f65c624bb5b4505a0e8bc85dc49c877",
      "value": " 433/433 [00:00&lt;00:00, 6.98kB/s]"
     }
    },
    "61b3a6b5859f437c8471f167d2c18f21": {
     "model_module": "@jupyter-widgets/controls",
     "model_name": "DescriptionStyleModel",
     "state": {
      "_model_module": "@jupyter-widgets/controls",
      "_model_module_version": "1.5.0",
      "_model_name": "DescriptionStyleModel",
      "_view_count": null,
      "_view_module": "@jupyter-widgets/base",
      "_view_module_version": "1.2.0",
      "_view_name": "StyleView",
      "description_width": ""
     }
    },
    "6eb5995d41564b0a8eeb3c6db911c034": {
     "model_module": "@jupyter-widgets/base",
     "model_name": "LayoutModel",
     "state": {
      "_model_module": "@jupyter-widgets/base",
      "_model_module_version": "1.2.0",
      "_model_name": "LayoutModel",
      "_view_count": null,
      "_view_module": "@jupyter-widgets/base",
      "_view_module_version": "1.2.0",
      "_view_name": "LayoutView",
      "align_content": null,
      "align_items": null,
      "align_self": null,
      "border": null,
      "bottom": null,
      "display": null,
      "flex": null,
      "flex_flow": null,
      "grid_area": null,
      "grid_auto_columns": null,
      "grid_auto_flow": null,
      "grid_auto_rows": null,
      "grid_column": null,
      "grid_gap": null,
      "grid_row": null,
      "grid_template_areas": null,
      "grid_template_columns": null,
      "grid_template_rows": null,
      "height": null,
      "justify_content": null,
      "justify_items": null,
      "left": null,
      "margin": null,
      "max_height": null,
      "max_width": null,
      "min_height": null,
      "min_width": null,
      "object_fit": null,
      "object_position": null,
      "order": null,
      "overflow": null,
      "overflow_x": null,
      "overflow_y": null,
      "padding": null,
      "right": null,
      "top": null,
      "visibility": null,
      "width": null
     }
    },
    "7ccc3679f68b4150aab6f04ba08ecbbc": {
     "model_module": "@jupyter-widgets/base",
     "model_name": "LayoutModel",
     "state": {
      "_model_module": "@jupyter-widgets/base",
      "_model_module_version": "1.2.0",
      "_model_name": "LayoutModel",
      "_view_count": null,
      "_view_module": "@jupyter-widgets/base",
      "_view_module_version": "1.2.0",
      "_view_name": "LayoutView",
      "align_content": null,
      "align_items": null,
      "align_self": null,
      "border": null,
      "bottom": null,
      "display": null,
      "flex": null,
      "flex_flow": null,
      "grid_area": null,
      "grid_auto_columns": null,
      "grid_auto_flow": null,
      "grid_auto_rows": null,
      "grid_column": null,
      "grid_gap": null,
      "grid_row": null,
      "grid_template_areas": null,
      "grid_template_columns": null,
      "grid_template_rows": null,
      "height": null,
      "justify_content": null,
      "justify_items": null,
      "left": null,
      "margin": null,
      "max_height": null,
      "max_width": null,
      "min_height": null,
      "min_width": null,
      "object_fit": null,
      "object_position": null,
      "order": null,
      "overflow": null,
      "overflow_x": null,
      "overflow_y": null,
      "padding": null,
      "right": null,
      "top": null,
      "visibility": null,
      "width": null
     }
    },
    "84462d92ec2d478fa22791487e248cb8": {
     "model_module": "@jupyter-widgets/base",
     "model_name": "LayoutModel",
     "state": {
      "_model_module": "@jupyter-widgets/base",
      "_model_module_version": "1.2.0",
      "_model_name": "LayoutModel",
      "_view_count": null,
      "_view_module": "@jupyter-widgets/base",
      "_view_module_version": "1.2.0",
      "_view_name": "LayoutView",
      "align_content": null,
      "align_items": null,
      "align_self": null,
      "border": null,
      "bottom": null,
      "display": null,
      "flex": null,
      "flex_flow": null,
      "grid_area": null,
      "grid_auto_columns": null,
      "grid_auto_flow": null,
      "grid_auto_rows": null,
      "grid_column": null,
      "grid_gap": null,
      "grid_row": null,
      "grid_template_areas": null,
      "grid_template_columns": null,
      "grid_template_rows": null,
      "height": null,
      "justify_content": null,
      "justify_items": null,
      "left": null,
      "margin": null,
      "max_height": null,
      "max_width": null,
      "min_height": null,
      "min_width": null,
      "object_fit": null,
      "object_position": null,
      "order": null,
      "overflow": null,
      "overflow_x": null,
      "overflow_y": null,
      "padding": null,
      "right": null,
      "top": null,
      "visibility": null,
      "width": null
     }
    },
    "8470b1da8a124edcb3493154e14600a3": {
     "model_module": "@jupyter-widgets/controls",
     "model_name": "HTMLModel",
     "state": {
      "_dom_classes": [],
      "_model_module": "@jupyter-widgets/controls",
      "_model_module_version": "1.5.0",
      "_model_name": "HTMLModel",
      "_view_count": null,
      "_view_module": "@jupyter-widgets/controls",
      "_view_module_version": "1.5.0",
      "_view_name": "HTMLView",
      "description": "",
      "description_tooltip": null,
      "layout": "IPY_MODEL_329d71b50ee24971a620294edf031f5c",
      "placeholder": "​",
      "style": "IPY_MODEL_61b3a6b5859f437c8471f167d2c18f21",
      "value": " 232k/232k [00:00&lt;00:00, 3.44MB/s]"
     }
    },
    "867775350156457eb7b071f7bade98e7": {
     "model_module": "@jupyter-widgets/controls",
     "model_name": "ProgressStyleModel",
     "state": {
      "_model_module": "@jupyter-widgets/controls",
      "_model_module_version": "1.5.0",
      "_model_name": "ProgressStyleModel",
      "_view_count": null,
      "_view_module": "@jupyter-widgets/base",
      "_view_module_version": "1.2.0",
      "_view_name": "StyleView",
      "bar_color": null,
      "description_width": "initial"
     }
    },
    "93983f10d68241bebcfdd28eefe45cd8": {
     "model_module": "@jupyter-widgets/controls",
     "model_name": "ProgressStyleModel",
     "state": {
      "_model_module": "@jupyter-widgets/controls",
      "_model_module_version": "1.5.0",
      "_model_name": "ProgressStyleModel",
      "_view_count": null,
      "_view_module": "@jupyter-widgets/base",
      "_view_module_version": "1.2.0",
      "_view_name": "StyleView",
      "bar_color": null,
      "description_width": "initial"
     }
    },
    "9a2a89086c1f44ee8a2448a5dfadc583": {
     "model_module": "@jupyter-widgets/controls",
     "model_name": "FloatProgressModel",
     "state": {
      "_dom_classes": [],
      "_model_module": "@jupyter-widgets/controls",
      "_model_module_version": "1.5.0",
      "_model_name": "FloatProgressModel",
      "_view_count": null,
      "_view_module": "@jupyter-widgets/controls",
      "_view_module_version": "1.5.0",
      "_view_name": "ProgressView",
      "bar_style": "success",
      "description": "Downloading: 100%",
      "description_tooltip": null,
      "layout": "IPY_MODEL_46f62917c9324a38b07a3b10dc1fc930",
      "max": 433,
      "min": 0,
      "orientation": "horizontal",
      "style": "IPY_MODEL_867775350156457eb7b071f7bade98e7",
      "value": 433
     }
    },
    "9f65c624bb5b4505a0e8bc85dc49c877": {
     "model_module": "@jupyter-widgets/controls",
     "model_name": "DescriptionStyleModel",
     "state": {
      "_model_module": "@jupyter-widgets/controls",
      "_model_module_version": "1.5.0",
      "_model_name": "DescriptionStyleModel",
      "_view_count": null,
      "_view_module": "@jupyter-widgets/base",
      "_view_module_version": "1.2.0",
      "_view_name": "StyleView",
      "description_width": ""
     }
    },
    "a5453079ae6345daaf5bdf95e2f4b3a2": {
     "model_module": "@jupyter-widgets/controls",
     "model_name": "HTMLModel",
     "state": {
      "_dom_classes": [],
      "_model_module": "@jupyter-widgets/controls",
      "_model_module_version": "1.5.0",
      "_model_name": "HTMLModel",
      "_view_count": null,
      "_view_module": "@jupyter-widgets/controls",
      "_view_module_version": "1.5.0",
      "_view_name": "HTMLView",
      "description": "",
      "description_tooltip": null,
      "layout": "IPY_MODEL_3072e985fd7042e2b109943dff61e54a",
      "placeholder": "​",
      "style": "IPY_MODEL_20fd634352d34050925cf518df68d65d",
      "value": " 440M/440M [00:06&lt;00:00, 65.3MB/s]"
     }
    },
    "bb4f0be714814905aec8ef878749aad8": {
     "model_module": "@jupyter-widgets/controls",
     "model_name": "FloatProgressModel",
     "state": {
      "_dom_classes": [],
      "_model_module": "@jupyter-widgets/controls",
      "_model_module_version": "1.5.0",
      "_model_name": "FloatProgressModel",
      "_view_count": null,
      "_view_module": "@jupyter-widgets/controls",
      "_view_module_version": "1.5.0",
      "_view_name": "ProgressView",
      "bar_style": "success",
      "description": "Downloading: 100%",
      "description_tooltip": null,
      "layout": "IPY_MODEL_bc58dde9d2dc44a9b73915564aa1119a",
      "max": 440473133,
      "min": 0,
      "orientation": "horizontal",
      "style": "IPY_MODEL_93983f10d68241bebcfdd28eefe45cd8",
      "value": 440473133
     }
    },
    "bc58dde9d2dc44a9b73915564aa1119a": {
     "model_module": "@jupyter-widgets/base",
     "model_name": "LayoutModel",
     "state": {
      "_model_module": "@jupyter-widgets/base",
      "_model_module_version": "1.2.0",
      "_model_name": "LayoutModel",
      "_view_count": null,
      "_view_module": "@jupyter-widgets/base",
      "_view_module_version": "1.2.0",
      "_view_name": "LayoutView",
      "align_content": null,
      "align_items": null,
      "align_self": null,
      "border": null,
      "bottom": null,
      "display": null,
      "flex": null,
      "flex_flow": null,
      "grid_area": null,
      "grid_auto_columns": null,
      "grid_auto_flow": null,
      "grid_auto_rows": null,
      "grid_column": null,
      "grid_gap": null,
      "grid_row": null,
      "grid_template_areas": null,
      "grid_template_columns": null,
      "grid_template_rows": null,
      "height": null,
      "justify_content": null,
      "justify_items": null,
      "left": null,
      "margin": null,
      "max_height": null,
      "max_width": null,
      "min_height": null,
      "min_width": null,
      "object_fit": null,
      "object_position": null,
      "order": null,
      "overflow": null,
      "overflow_x": null,
      "overflow_y": null,
      "padding": null,
      "right": null,
      "top": null,
      "visibility": null,
      "width": null
     }
    },
    "c7f738923cab42feb97c4d8e0eb621b2": {
     "model_module": "@jupyter-widgets/controls",
     "model_name": "HBoxModel",
     "state": {
      "_dom_classes": [],
      "_model_module": "@jupyter-widgets/controls",
      "_model_module_version": "1.5.0",
      "_model_name": "HBoxModel",
      "_view_count": null,
      "_view_module": "@jupyter-widgets/controls",
      "_view_module_version": "1.5.0",
      "_view_name": "HBoxView",
      "box_style": "",
      "children": [
       "IPY_MODEL_9a2a89086c1f44ee8a2448a5dfadc583",
       "IPY_MODEL_513012cc0d3747b3becae106e575f61b"
      ],
      "layout": "IPY_MODEL_d3a498bce92c400caaa725995c7f1f3b"
     }
    },
    "d3a498bce92c400caaa725995c7f1f3b": {
     "model_module": "@jupyter-widgets/base",
     "model_name": "LayoutModel",
     "state": {
      "_model_module": "@jupyter-widgets/base",
      "_model_module_version": "1.2.0",
      "_model_name": "LayoutModel",
      "_view_count": null,
      "_view_module": "@jupyter-widgets/base",
      "_view_module_version": "1.2.0",
      "_view_name": "LayoutView",
      "align_content": null,
      "align_items": null,
      "align_self": null,
      "border": null,
      "bottom": null,
      "display": null,
      "flex": null,
      "flex_flow": null,
      "grid_area": null,
      "grid_auto_columns": null,
      "grid_auto_flow": null,
      "grid_auto_rows": null,
      "grid_column": null,
      "grid_gap": null,
      "grid_row": null,
      "grid_template_areas": null,
      "grid_template_columns": null,
      "grid_template_rows": null,
      "height": null,
      "justify_content": null,
      "justify_items": null,
      "left": null,
      "margin": null,
      "max_height": null,
      "max_width": null,
      "min_height": null,
      "min_width": null,
      "object_fit": null,
      "object_position": null,
      "order": null,
      "overflow": null,
      "overflow_x": null,
      "overflow_y": null,
      "padding": null,
      "right": null,
      "top": null,
      "visibility": null,
      "width": null
     }
    },
    "ec87b6fe822a427d8ce0e97d9942fd2d": {
     "model_module": "@jupyter-widgets/base",
     "model_name": "LayoutModel",
     "state": {
      "_model_module": "@jupyter-widgets/base",
      "_model_module_version": "1.2.0",
      "_model_name": "LayoutModel",
      "_view_count": null,
      "_view_module": "@jupyter-widgets/base",
      "_view_module_version": "1.2.0",
      "_view_name": "LayoutView",
      "align_content": null,
      "align_items": null,
      "align_self": null,
      "border": null,
      "bottom": null,
      "display": null,
      "flex": null,
      "flex_flow": null,
      "grid_area": null,
      "grid_auto_columns": null,
      "grid_auto_flow": null,
      "grid_auto_rows": null,
      "grid_column": null,
      "grid_gap": null,
      "grid_row": null,
      "grid_template_areas": null,
      "grid_template_columns": null,
      "grid_template_rows": null,
      "height": null,
      "justify_content": null,
      "justify_items": null,
      "left": null,
      "margin": null,
      "max_height": null,
      "max_width": null,
      "min_height": null,
      "min_width": null,
      "object_fit": null,
      "object_position": null,
      "order": null,
      "overflow": null,
      "overflow_x": null,
      "overflow_y": null,
      "padding": null,
      "right": null,
      "top": null,
      "visibility": null,
      "width": null
     }
    },
    "f36f8d5cfcfb41f4812a4d635b57937e": {
     "model_module": "@jupyter-widgets/controls",
     "model_name": "HBoxModel",
     "state": {
      "_dom_classes": [],
      "_model_module": "@jupyter-widgets/controls",
      "_model_module_version": "1.5.0",
      "_model_name": "HBoxModel",
      "_view_count": null,
      "_view_module": "@jupyter-widgets/controls",
      "_view_module_version": "1.5.0",
      "_view_name": "HBoxView",
      "box_style": "",
      "children": [
       "IPY_MODEL_1b1c9ee6e86a443985e47daf911020e1",
       "IPY_MODEL_8470b1da8a124edcb3493154e14600a3"
      ],
      "layout": "IPY_MODEL_84462d92ec2d478fa22791487e248cb8"
     }
    }
   }
  }
 },
 "nbformat": 4,
 "nbformat_minor": 1
}
